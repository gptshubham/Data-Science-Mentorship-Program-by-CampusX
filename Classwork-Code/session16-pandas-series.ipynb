{
 "cells": [
  {
   "cell_type": "markdown",
   "id": "f6759e45-b97e-4f1b-880b-5c46267d95cf",
   "metadata": {},
   "source": [
    "# importing pandas"
   ]
  },
  {
   "cell_type": "code",
   "execution_count": 1,
   "id": "afd11841-9bc2-4d1f-95eb-507b5a4230c5",
   "metadata": {},
   "outputs": [
    {
     "ename": "ModuleNotFoundError",
     "evalue": "No module named 'pandas'",
     "output_type": "error",
     "traceback": [
      "\u001b[1;31m---------------------------------------------------------------------------\u001b[0m",
      "\u001b[1;31mModuleNotFoundError\u001b[0m                       Traceback (most recent call last)",
      "Cell \u001b[1;32mIn[1], line 1\u001b[0m\n\u001b[1;32m----> 1\u001b[0m \u001b[38;5;28;01mimport\u001b[39;00m \u001b[38;5;21;01mpandas\u001b[39;00m \u001b[38;5;28;01mas\u001b[39;00m \u001b[38;5;21;01mpd\u001b[39;00m\n",
      "\u001b[1;31mModuleNotFoundError\u001b[0m: No module named 'pandas'"
     ]
    }
   ],
   "source": [
    "import pandas as pd"
   ]
  },
  {
   "cell_type": "code",
   "execution_count": 2,
   "id": "d78e318f-5282-449b-bc76-71e3d96c6f4e",
   "metadata": {},
   "outputs": [
    {
     "name": "stdout",
     "output_type": "stream",
     "text": [
      "Collecting pandas\n",
      "  Downloading pandas-2.2.2-cp312-cp312-win_amd64.whl.metadata (19 kB)\n",
      "Requirement already satisfied: numpy>=1.26.0 in c:\\users\\shubh\\appdata\\local\\programs\\python\\python312\\lib\\site-packages (from pandas) (1.26.4)\n",
      "Requirement already satisfied: python-dateutil>=2.8.2 in c:\\users\\shubh\\appdata\\local\\programs\\python\\python312\\lib\\site-packages (from pandas) (2.9.0.post0)\n",
      "Collecting pytz>=2020.1 (from pandas)\n",
      "  Downloading pytz-2024.1-py2.py3-none-any.whl.metadata (22 kB)\n",
      "Collecting tzdata>=2022.7 (from pandas)\n",
      "  Downloading tzdata-2024.1-py2.py3-none-any.whl.metadata (1.4 kB)\n",
      "Requirement already satisfied: six>=1.5 in c:\\users\\shubh\\appdata\\local\\programs\\python\\python312\\lib\\site-packages (from python-dateutil>=2.8.2->pandas) (1.16.0)\n",
      "Downloading pandas-2.2.2-cp312-cp312-win_amd64.whl (11.5 MB)\n",
      "   ---------------------------------------- 0.0/11.5 MB ? eta -:--:--\n",
      "    --------------------------------------- 0.2/11.5 MB 4.0 MB/s eta 0:00:03\n",
      "   - -------------------------------------- 0.4/11.5 MB 5.3 MB/s eta 0:00:03\n",
      "   -- ------------------------------------- 0.6/11.5 MB 4.5 MB/s eta 0:00:03\n",
      "   -- ------------------------------------- 0.8/11.5 MB 4.4 MB/s eta 0:00:03\n",
      "   --- ------------------------------------ 1.0/11.5 MB 4.5 MB/s eta 0:00:03\n",
      "   ---- ----------------------------------- 1.2/11.5 MB 4.5 MB/s eta 0:00:03\n",
      "   ---- ----------------------------------- 1.4/11.5 MB 4.5 MB/s eta 0:00:03\n",
      "   ----- ---------------------------------- 1.6/11.5 MB 4.4 MB/s eta 0:00:03\n",
      "   ------ --------------------------------- 1.8/11.5 MB 4.4 MB/s eta 0:00:03\n",
      "   ------ --------------------------------- 2.0/11.5 MB 4.4 MB/s eta 0:00:03\n",
      "   ------- -------------------------------- 2.2/11.5 MB 4.3 MB/s eta 0:00:03\n",
      "   -------- ------------------------------- 2.4/11.5 MB 4.3 MB/s eta 0:00:03\n",
      "   -------- ------------------------------- 2.5/11.5 MB 4.3 MB/s eta 0:00:03\n",
      "   --------- ------------------------------ 2.8/11.5 MB 4.3 MB/s eta 0:00:03\n",
      "   ---------- ----------------------------- 3.0/11.5 MB 4.3 MB/s eta 0:00:02\n",
      "   ---------- ----------------------------- 3.2/11.5 MB 4.3 MB/s eta 0:00:02\n",
      "   ----------- ---------------------------- 3.4/11.5 MB 4.3 MB/s eta 0:00:02\n",
      "   ------------ --------------------------- 3.6/11.5 MB 4.3 MB/s eta 0:00:02\n",
      "   ------------- -------------------------- 3.7/11.5 MB 4.3 MB/s eta 0:00:02\n",
      "   ------------- -------------------------- 3.9/11.5 MB 4.3 MB/s eta 0:00:02\n",
      "   ------------- -------------------------- 4.0/11.5 MB 4.3 MB/s eta 0:00:02\n",
      "   -------------- ------------------------- 4.3/11.5 MB 4.2 MB/s eta 0:00:02\n",
      "   --------------- ------------------------ 4.5/11.5 MB 4.2 MB/s eta 0:00:02\n",
      "   ---------------- ----------------------- 4.7/11.5 MB 4.2 MB/s eta 0:00:02\n",
      "   ---------------- ----------------------- 4.9/11.5 MB 4.2 MB/s eta 0:00:02\n",
      "   ----------------- ---------------------- 5.0/11.5 MB 4.2 MB/s eta 0:00:02\n",
      "   ----------------- ---------------------- 5.1/11.5 MB 4.1 MB/s eta 0:00:02\n",
      "   ------------------ --------------------- 5.3/11.5 MB 4.1 MB/s eta 0:00:02\n",
      "   ------------------- -------------------- 5.5/11.5 MB 4.1 MB/s eta 0:00:02\n",
      "   ------------------- -------------------- 5.5/11.5 MB 4.0 MB/s eta 0:00:02\n",
      "   ------------------- -------------------- 5.7/11.5 MB 4.0 MB/s eta 0:00:02\n",
      "   -------------------- ------------------- 5.9/11.5 MB 4.0 MB/s eta 0:00:02\n",
      "   --------------------- ------------------ 6.1/11.5 MB 4.0 MB/s eta 0:00:02\n",
      "   --------------------- ------------------ 6.2/11.5 MB 3.9 MB/s eta 0:00:02\n",
      "   ---------------------- ----------------- 6.4/11.5 MB 3.9 MB/s eta 0:00:02\n",
      "   ---------------------- ----------------- 6.6/11.5 MB 3.9 MB/s eta 0:00:02\n",
      "   ----------------------- ---------------- 6.8/11.5 MB 4.0 MB/s eta 0:00:02\n",
      "   ------------------------ --------------- 7.0/11.5 MB 4.0 MB/s eta 0:00:02\n",
      "   ------------------------ --------------- 7.2/11.5 MB 4.0 MB/s eta 0:00:02\n",
      "   ------------------------- -------------- 7.4/11.5 MB 4.0 MB/s eta 0:00:02\n",
      "   -------------------------- ------------- 7.6/11.5 MB 4.0 MB/s eta 0:00:01\n",
      "   -------------------------- ------------- 7.7/11.5 MB 4.0 MB/s eta 0:00:01\n",
      "   --------------------------- ------------ 7.9/11.5 MB 4.0 MB/s eta 0:00:01\n",
      "   ---------------------------- ----------- 8.1/11.5 MB 4.0 MB/s eta 0:00:01\n",
      "   ---------------------------- ----------- 8.3/11.5 MB 4.0 MB/s eta 0:00:01\n",
      "   ----------------------------- ---------- 8.5/11.5 MB 4.0 MB/s eta 0:00:01\n",
      "   ------------------------------ --------- 8.7/11.5 MB 4.0 MB/s eta 0:00:01\n",
      "   ------------------------------ --------- 8.9/11.5 MB 4.0 MB/s eta 0:00:01\n",
      "   ------------------------------- -------- 9.1/11.5 MB 4.0 MB/s eta 0:00:01\n",
      "   -------------------------------- ------- 9.3/11.5 MB 4.0 MB/s eta 0:00:01\n",
      "   -------------------------------- ------- 9.5/11.5 MB 4.0 MB/s eta 0:00:01\n",
      "   --------------------------------- ------ 9.6/11.5 MB 4.0 MB/s eta 0:00:01\n",
      "   ---------------------------------- ----- 9.8/11.5 MB 4.0 MB/s eta 0:00:01\n",
      "   ---------------------------------- ----- 10.0/11.5 MB 4.0 MB/s eta 0:00:01\n",
      "   ----------------------------------- ---- 10.2/11.5 MB 4.0 MB/s eta 0:00:01\n",
      "   ------------------------------------ --- 10.4/11.5 MB 4.0 MB/s eta 0:00:01\n",
      "   ------------------------------------ --- 10.6/11.5 MB 4.0 MB/s eta 0:00:01\n",
      "   ------------------------------------- -- 10.8/11.5 MB 4.0 MB/s eta 0:00:01\n",
      "   -------------------------------------- - 11.0/11.5 MB 4.0 MB/s eta 0:00:01\n",
      "   -------------------------------------- - 11.2/11.5 MB 4.0 MB/s eta 0:00:01\n",
      "   ---------------------------------------  11.4/11.5 MB 4.0 MB/s eta 0:00:01\n",
      "   ---------------------------------------  11.5/11.5 MB 4.0 MB/s eta 0:00:01\n",
      "   ---------------------------------------  11.5/11.5 MB 4.0 MB/s eta 0:00:01\n",
      "   ---------------------------------------- 11.5/11.5 MB 3.8 MB/s eta 0:00:00\n",
      "Downloading pytz-2024.1-py2.py3-none-any.whl (505 kB)\n",
      "   ---------------------------------------- 0.0/505.5 kB ? eta -:--:--\n",
      "   --------------------- ------------------ 266.2/505.5 kB 8.3 MB/s eta 0:00:01\n",
      "   ----------------------------------- ---- 450.6/505.5 kB 5.6 MB/s eta 0:00:01\n",
      "   ---------------------------------------- 505.5/505.5 kB 4.0 MB/s eta 0:00:00\n",
      "Downloading tzdata-2024.1-py2.py3-none-any.whl (345 kB)\n",
      "   ---------------------------------------- 0.0/345.4 kB ? eta -:--:--\n",
      "   ------------------------------ --------- 266.2/345.4 kB 8.3 MB/s eta 0:00:01\n",
      "   ---------------------------------------- 345.4/345.4 kB 7.1 MB/s eta 0:00:00\n",
      "Installing collected packages: pytz, tzdata, pandas\n",
      "Successfully installed pandas-2.2.2 pytz-2024.1 tzdata-2024.1\n"
     ]
    }
   ],
   "source": [
    "!pip install pandas"
   ]
  },
  {
   "cell_type": "code",
   "execution_count": 1,
   "id": "c751720c-c3ec-44bd-8050-13949141095a",
   "metadata": {},
   "outputs": [],
   "source": [
    "import numpy as np \n",
    "import pandas as pd"
   ]
  },
  {
   "cell_type": "markdown",
   "id": "36060504-c155-4849-a911-28de426c079b",
   "metadata": {},
   "source": [
    "# Series from Lists"
   ]
  },
  {
   "cell_type": "code",
   "execution_count": 8,
   "id": "81c48387-2704-4e7c-9a3f-3c640fd799c9",
   "metadata": {},
   "outputs": [
    {
     "data": {
      "text/plain": [
       "0        India\n",
       "1          USA\n",
       "2    Australia\n",
       "3        Japan\n",
       "dtype: object"
      ]
     },
     "execution_count": 8,
     "metadata": {},
     "output_type": "execute_result"
    }
   ],
   "source": [
    "# string \n",
    "country = ['India', 'USA', 'Australia', 'Japan']\n",
    "\n",
    "pd.Series(country)"
   ]
  },
  {
   "cell_type": "code",
   "execution_count": 36,
   "id": "579d7409-a736-4505-9786-81ff0706d312",
   "metadata": {},
   "outputs": [
    {
     "data": {
      "text/plain": [
       "0    124\n",
       "1    109\n",
       "2    126\n",
       "3     46\n",
       "4    139\n",
       "dtype: int64"
      ]
     },
     "execution_count": 36,
     "metadata": {},
     "output_type": "execute_result"
    }
   ],
   "source": [
    "# integers \n",
    "runs = [124, 109, 126, 46, 139]\n",
    "\n",
    "runs_series = pd.Series(runs)\n",
    "runs_series"
   ]
  },
  {
   "cell_type": "code",
   "execution_count": 22,
   "id": "b8968097-8e9e-4b71-b5d7-941a23c8c3b3",
   "metadata": {},
   "outputs": [
    {
     "data": {
      "text/plain": [
       "maths                     81\n",
       "english                   98\n",
       "computational thinking    91\n",
       "statistics                80\n",
       "dtype: int64"
      ]
     },
     "execution_count": 22,
     "metadata": {},
     "output_type": "execute_result"
    }
   ],
   "source": [
    "# custom index \n",
    "marks = [81, 98, 91, 80]\n",
    "subject = np.array(['maths','english','computational thinking','statistics' ])\n",
    "\n",
    "pd.Series(marks,index=subject)"
   ]
  },
  {
   "cell_type": "code",
   "execution_count": 24,
   "id": "12060f39-2808-4171-8976-e96d4cf5b483",
   "metadata": {},
   "outputs": [
    {
     "data": {
      "text/plain": [
       "maths                     81\n",
       "english                   98\n",
       "computational thinking    91\n",
       "statistics                80\n",
       "Name: Shubham's Marks, dtype: int64"
      ]
     },
     "execution_count": 24,
     "metadata": {},
     "output_type": "execute_result"
    }
   ],
   "source": [
    "# Setting a Name\n",
    "marks = pd.Series(marks,index=subject,name=\"Shubham's Marks\")\n",
    "marks"
   ]
  },
  {
   "cell_type": "markdown",
   "id": "627af06d-cd5e-4916-8326-9862b721f4ef",
   "metadata": {},
   "source": [
    "# Series from dict"
   ]
  },
  {
   "cell_type": "code",
   "execution_count": 26,
   "id": "e0950d9e-5c87-4baa-8a3a-2f2bc41f0e24",
   "metadata": {},
   "outputs": [
    {
     "data": {
      "text/plain": [
       "maths                     81\n",
       "english                   98\n",
       "computational thinking    91\n",
       "statistics                80\n",
       "Name: Shubham's Marks, dtype: int64"
      ]
     },
     "execution_count": 26,
     "metadata": {},
     "output_type": "execute_result"
    }
   ],
   "source": [
    "marks = {\n",
    "    'maths': 81,\n",
    "    'english': 98, \n",
    "    'computational thinking': 91,\n",
    "    'statistics': 80\n",
    "}\n",
    "\n",
    "marks_series = pd.Series(marks,name=\"Shubham's Marks\") \n",
    "marks_series"
   ]
  },
  {
   "cell_type": "markdown",
   "id": "a2511fe4-6af7-46ad-8b0f-5b9661fe0b39",
   "metadata": {},
   "source": [
    "# Series Attributes"
   ]
  },
  {
   "cell_type": "code",
   "execution_count": 27,
   "id": "f9b4610b-ee94-4875-8d64-f04431099264",
   "metadata": {},
   "outputs": [
    {
     "data": {
      "text/plain": [
       "4"
      ]
     },
     "execution_count": 27,
     "metadata": {},
     "output_type": "execute_result"
    }
   ],
   "source": [
    "# size\n",
    "marks_series.size"
   ]
  },
  {
   "cell_type": "code",
   "execution_count": 28,
   "id": "0968887c-f760-480c-8650-5b30899c987a",
   "metadata": {},
   "outputs": [
    {
     "data": {
      "text/plain": [
       "dtype('int64')"
      ]
     },
     "execution_count": 28,
     "metadata": {},
     "output_type": "execute_result"
    }
   ],
   "source": [
    "# dtype \n",
    "marks_series.dtype"
   ]
  },
  {
   "cell_type": "code",
   "execution_count": 29,
   "id": "7700f35b-d432-4392-bbe9-4014bb26495b",
   "metadata": {},
   "outputs": [
    {
     "data": {
      "text/plain": [
       "\"Shubham's Marks\""
      ]
     },
     "execution_count": 29,
     "metadata": {},
     "output_type": "execute_result"
    }
   ],
   "source": [
    "# name \n",
    "marks_series.name"
   ]
  },
  {
   "cell_type": "code",
   "execution_count": 31,
   "id": "a8f2423a-10b3-488c-bfff-ed1259b95a77",
   "metadata": {},
   "outputs": [
    {
     "data": {
      "text/plain": [
       "True"
      ]
     },
     "execution_count": 31,
     "metadata": {},
     "output_type": "execute_result"
    }
   ],
   "source": [
    "# is_unique --> whether all the items of the series are unique or not \n",
    "marks_series.is_unique"
   ]
  },
  {
   "cell_type": "code",
   "execution_count": 34,
   "id": "42d95366-54d6-4dcd-ab56-7538272456f0",
   "metadata": {},
   "outputs": [
    {
     "data": {
      "text/plain": [
       "False"
      ]
     },
     "execution_count": 34,
     "metadata": {},
     "output_type": "execute_result"
    }
   ],
   "source": [
    "pd.Series([1,1,1,2,2,3,4,5]).is_unique\n",
    "# can be used to check duplicate data \n",
    "# for example : if the primary keys are unique or not "
   ]
  },
  {
   "cell_type": "code",
   "execution_count": 30,
   "id": "cd25b40a-7f64-44f1-a466-f43edc2d7e7f",
   "metadata": {},
   "outputs": [
    {
     "data": {
      "text/plain": [
       "Index(['maths', 'english', 'computational thinking', 'statistics'], dtype='object')"
      ]
     },
     "execution_count": 30,
     "metadata": {},
     "output_type": "execute_result"
    }
   ],
   "source": [
    "# index --> returns an index object\n",
    "marks_series.index"
   ]
  },
  {
   "cell_type": "code",
   "execution_count": 37,
   "id": "62160401-b767-40bc-8b1a-05ad4632c8d7",
   "metadata": {},
   "outputs": [
    {
     "data": {
      "text/plain": [
       "RangeIndex(start=0, stop=5, step=1)"
      ]
     },
     "execution_count": 37,
     "metadata": {},
     "output_type": "execute_result"
    }
   ],
   "source": [
    "runs_series.index \n",
    "# RangeIndex object"
   ]
  },
  {
   "cell_type": "code",
   "execution_count": 38,
   "id": "03a4a6b7-a2e2-4412-9b17-a90241b2fd72",
   "metadata": {},
   "outputs": [
    {
     "data": {
      "text/plain": [
       "pandas.core.indexes.range.RangeIndex"
      ]
     },
     "execution_count": 38,
     "metadata": {},
     "output_type": "execute_result"
    }
   ],
   "source": [
    "type(runs_series.index )"
   ]
  },
  {
   "cell_type": "code",
   "execution_count": 32,
   "id": "5b155c73-642d-491c-bfae-4a76c14b16fa",
   "metadata": {},
   "outputs": [
    {
     "data": {
      "text/plain": [
       "array([81, 98, 91, 80], dtype=int64)"
      ]
     },
     "execution_count": 32,
     "metadata": {},
     "output_type": "execute_result"
    }
   ],
   "source": [
    "# values \n",
    "marks_series.values\n",
    "# returns a numpy array "
   ]
  },
  {
   "cell_type": "code",
   "execution_count": 39,
   "id": "29f5e347-19a2-48d0-b919-024687cc3017",
   "metadata": {},
   "outputs": [
    {
     "data": {
      "text/plain": [
       "numpy.ndarray"
      ]
     },
     "execution_count": 39,
     "metadata": {},
     "output_type": "execute_result"
    }
   ],
   "source": [
    "type(marks_series.values)"
   ]
  },
  {
   "cell_type": "markdown",
   "id": "0d27f360-0144-4e7a-8b8f-1cd7093baadf",
   "metadata": {},
   "source": [
    "# Series using read_csv"
   ]
  },
  {
   "cell_type": "code",
   "execution_count": 41,
   "id": "8f7f1fc2-767d-407d-8d9a-44e4312e51bf",
   "metadata": {},
   "outputs": [
    {
     "data": {
      "text/html": [
       "<div>\n",
       "<style scoped>\n",
       "    .dataframe tbody tr th:only-of-type {\n",
       "        vertical-align: middle;\n",
       "    }\n",
       "\n",
       "    .dataframe tbody tr th {\n",
       "        vertical-align: top;\n",
       "    }\n",
       "\n",
       "    .dataframe thead th {\n",
       "        text-align: right;\n",
       "    }\n",
       "</style>\n",
       "<table border=\"1\" class=\"dataframe\">\n",
       "  <thead>\n",
       "    <tr style=\"text-align: right;\">\n",
       "      <th></th>\n",
       "      <th>Subscribers gained</th>\n",
       "    </tr>\n",
       "  </thead>\n",
       "  <tbody>\n",
       "    <tr>\n",
       "      <th>0</th>\n",
       "      <td>48</td>\n",
       "    </tr>\n",
       "    <tr>\n",
       "      <th>1</th>\n",
       "      <td>57</td>\n",
       "    </tr>\n",
       "    <tr>\n",
       "      <th>2</th>\n",
       "      <td>40</td>\n",
       "    </tr>\n",
       "    <tr>\n",
       "      <th>3</th>\n",
       "      <td>43</td>\n",
       "    </tr>\n",
       "    <tr>\n",
       "      <th>4</th>\n",
       "      <td>44</td>\n",
       "    </tr>\n",
       "    <tr>\n",
       "      <th>...</th>\n",
       "      <td>...</td>\n",
       "    </tr>\n",
       "    <tr>\n",
       "      <th>360</th>\n",
       "      <td>231</td>\n",
       "    </tr>\n",
       "    <tr>\n",
       "      <th>361</th>\n",
       "      <td>226</td>\n",
       "    </tr>\n",
       "    <tr>\n",
       "      <th>362</th>\n",
       "      <td>155</td>\n",
       "    </tr>\n",
       "    <tr>\n",
       "      <th>363</th>\n",
       "      <td>144</td>\n",
       "    </tr>\n",
       "    <tr>\n",
       "      <th>364</th>\n",
       "      <td>172</td>\n",
       "    </tr>\n",
       "  </tbody>\n",
       "</table>\n",
       "<p>365 rows × 1 columns</p>\n",
       "</div>"
      ],
      "text/plain": [
       "     Subscribers gained\n",
       "0                    48\n",
       "1                    57\n",
       "2                    40\n",
       "3                    43\n",
       "4                    44\n",
       "..                  ...\n",
       "360                 231\n",
       "361                 226\n",
       "362                 155\n",
       "363                 144\n",
       "364                 172\n",
       "\n",
       "[365 rows x 1 columns]"
      ]
     },
     "execution_count": 41,
     "metadata": {},
     "output_type": "execute_result"
    }
   ],
   "source": [
    "# with one col \n",
    "pd.read_csv('/Shubham/DSMP-by-CampusX/Classwork-Code/subs.csv')\n",
    "# returns a DataFrame not a Series "
   ]
  },
  {
   "cell_type": "code",
   "execution_count": 42,
   "id": "8dfe121b-2d5a-4d55-98d2-b1e49a3c9e60",
   "metadata": {},
   "outputs": [
    {
     "data": {
      "text/plain": [
       "pandas.core.frame.DataFrame"
      ]
     },
     "execution_count": 42,
     "metadata": {},
     "output_type": "execute_result"
    }
   ],
   "source": [
    "type(pd.read_csv('/Shubham/DSMP-by-CampusX/Classwork-Code/subs.csv'))"
   ]
  },
  {
   "cell_type": "code",
   "execution_count": 47,
   "id": "5af61a48-4add-4cf3-9fe4-d344beed7d52",
   "metadata": {},
   "outputs": [
    {
     "data": {
      "text/plain": [
       "0       48\n",
       "1       57\n",
       "2       40\n",
       "3       43\n",
       "4       44\n",
       "      ... \n",
       "360    231\n",
       "361    226\n",
       "362    155\n",
       "363    144\n",
       "364    172\n",
       "Name: Subscribers gained, Length: 365, dtype: int64"
      ]
     },
     "execution_count": 47,
     "metadata": {},
     "output_type": "execute_result"
    }
   ],
   "source": [
    "# How to convert into Series\n",
    "subs = pd.read_csv('/Shubham/DSMP-by-CampusX/Classwork-Code/subs.csv').squeeze(axis='columns')\n",
    "subs "
   ]
  },
  {
   "cell_type": "code",
   "execution_count": 48,
   "id": "648b77ae-4b5c-4382-8760-6f6f18f5c433",
   "metadata": {},
   "outputs": [
    {
     "data": {
      "text/plain": [
       "pandas.core.series.Series"
      ]
     },
     "execution_count": 48,
     "metadata": {},
     "output_type": "execute_result"
    }
   ],
   "source": [
    "type(subs) "
   ]
  },
  {
   "cell_type": "code",
   "execution_count": 57,
   "id": "e4cd5240-5b32-484e-9410-e0113fe6b63c",
   "metadata": {},
   "outputs": [
    {
     "data": {
      "text/plain": [
       "match_no\n",
       "1       1\n",
       "2      23\n",
       "3      13\n",
       "4      12\n",
       "5       1\n",
       "       ..\n",
       "211     0\n",
       "212    20\n",
       "213    73\n",
       "214    25\n",
       "215     7\n",
       "Name: runs, Length: 215, dtype: int64"
      ]
     },
     "execution_count": 57,
     "metadata": {},
     "output_type": "execute_result"
    }
   ],
   "source": [
    "# with 2 cols \n",
    "vk_ipl = pd.read_csv('/Shubham/DSMP-by-CampusX/Classwork-Code/kohli_ipl.csv',index_col='match_no').squeeze(axis='columns')\n",
    "vk_ipl"
   ]
  },
  {
   "cell_type": "code",
   "execution_count": 59,
   "id": "73cc8326-be10-4562-b445-98225e0e1fa4",
   "metadata": {},
   "outputs": [
    {
     "data": {
      "text/plain": [
       "movie\n",
       "Uri: The Surgical Strike                   Vicky Kaushal\n",
       "Battalion 609                                Vicky Ahuja\n",
       "The Accidental Prime Minister (film)         Anupam Kher\n",
       "Why Cheat India                            Emraan Hashmi\n",
       "Evening Shadows                         Mona Ambegaonkar\n",
       "                                              ...       \n",
       "Hum Tumhare Hain Sanam                    Shah Rukh Khan\n",
       "Aankhen (2002 film)                     Amitabh Bachchan\n",
       "Saathiya (film)                             Vivek Oberoi\n",
       "Company (film)                                Ajay Devgn\n",
       "Awara Paagal Deewana                        Akshay Kumar\n",
       "Name: lead, Length: 1500, dtype: object"
      ]
     },
     "execution_count": 59,
     "metadata": {},
     "output_type": "execute_result"
    }
   ],
   "source": [
    "bollywood_movies = pd.read_csv('/Shubham/DSMP-by-CampusX/Classwork-Code/bollywood.csv',index_col='movie').squeeze(axis='columns')\n",
    "bollywood_movies"
   ]
  },
  {
   "cell_type": "markdown",
   "id": "12af99a6-a289-4c9c-b5d3-8eeb3efd18a1",
   "metadata": {},
   "source": [
    "# Series Methods"
   ]
  },
  {
   "cell_type": "code",
   "execution_count": null,
   "id": "8b4f5eac-2eaf-450a-b579-df43cdf2b907",
   "metadata": {},
   "outputs": [],
   "source": []
  }
 ],
 "metadata": {
  "kernelspec": {
   "display_name": "Python 3 (ipykernel)",
   "language": "python",
   "name": "python3"
  },
  "language_info": {
   "codemirror_mode": {
    "name": "ipython",
    "version": 3
   },
   "file_extension": ".py",
   "mimetype": "text/x-python",
   "name": "python",
   "nbconvert_exporter": "python",
   "pygments_lexer": "ipython3",
   "version": "3.12.2"
  }
 },
 "nbformat": 4,
 "nbformat_minor": 5
}
