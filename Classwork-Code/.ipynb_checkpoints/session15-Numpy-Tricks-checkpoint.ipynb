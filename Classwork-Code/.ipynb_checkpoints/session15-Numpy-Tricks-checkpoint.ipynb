{
 "cells": [
  {
   "cell_type": "code",
   "execution_count": 5,
   "id": "da2d2b9c-e966-474a-9813-94c58dc634ac",
   "metadata": {},
   "outputs": [],
   "source": [
    "import numpy as np"
   ]
  },
  {
   "cell_type": "code",
   "execution_count": 6,
   "id": "8c47fe12-89de-40e5-bcea-6a69cbc150f7",
   "metadata": {},
   "outputs": [
    {
     "data": {
      "text/plain": [
       "array([96, 31, 41, 54, 15, 70, 33, 88, 39, 14, 29, 62, 15, 89, 61])"
      ]
     },
     "execution_count": 6,
     "metadata": {},
     "output_type": "execute_result"
    }
   ],
   "source": [
    "a = np.random.randint(1,100,15)\n",
    "a"
   ]
  },
  {
   "cell_type": "code",
   "execution_count": 7,
   "id": "9ab29b17-5d7f-402c-b083-90269e8f2de7",
   "metadata": {},
   "outputs": [
    {
     "data": {
      "text/plain": [
       "array([[67, 11, 82, 48],\n",
       "       [81, 14, 20, 80],\n",
       "       [68, 39, 86, 76],\n",
       "       [51, 32, 28, 28],\n",
       "       [85, 40, 70, 59],\n",
       "       [14, 22, 87, 25]])"
      ]
     },
     "execution_count": 7,
     "metadata": {},
     "output_type": "execute_result"
    }
   ],
   "source": [
    "b = np.random.randint(1,100,24).reshape(6,4)\n",
    "b"
   ]
  },
  {
   "cell_type": "markdown",
   "id": "913dadde-7483-4b80-ab06-3bd1e750c42f",
   "metadata": {},
   "source": [
    "### np.sort\n",
    "returns a sorted copy or an array."
   ]
  },
  {
   "cell_type": "code",
   "execution_count": 8,
   "id": "7f28ba66-6d2f-4998-9fdc-5599d65c31aa",
   "metadata": {},
   "outputs": [
    {
     "data": {
      "text/plain": [
       "array([14, 15, 15, 29, 31, 33, 39, 41, 54, 61, 62, 70, 88, 89, 96])"
      ]
     },
     "execution_count": 8,
     "metadata": {},
     "output_type": "execute_result"
    }
   ],
   "source": [
    "# 1D : Ascending Order \n",
    "np.sort(a) "
   ]
  },
  {
   "cell_type": "code",
   "execution_count": 9,
   "id": "a350fdc6-d54d-4401-98f0-d4e96cc34ac6",
   "metadata": {},
   "outputs": [
    {
     "data": {
      "text/plain": [
       "array([96, 89, 88, 70, 62, 61, 54, 41, 39, 33, 31, 29, 15, 15, 14])"
      ]
     },
     "execution_count": 9,
     "metadata": {},
     "output_type": "execute_result"
    }
   ],
   "source": [
    "# 1D : Descending Order \n",
    "np.sort(a)[::-1]"
   ]
  },
  {
   "cell_type": "code",
   "execution_count": 10,
   "id": "9160d4f9-a5f2-465e-9c38-bb4d9cfbd067",
   "metadata": {},
   "outputs": [
    {
     "data": {
      "text/plain": [
       "array([[11, 48, 67, 82],\n",
       "       [14, 20, 80, 81],\n",
       "       [39, 68, 76, 86],\n",
       "       [28, 28, 32, 51],\n",
       "       [40, 59, 70, 85],\n",
       "       [14, 22, 25, 87]])"
      ]
     },
     "execution_count": 10,
     "metadata": {},
     "output_type": "execute_result"
    }
   ],
   "source": [
    "# 2D : row-wise Ascending Order \n",
    "np.sort(b)"
   ]
  },
  {
   "cell_type": "code",
   "execution_count": 11,
   "id": "c049099a-5c96-4ce5-b815-915b30d686e0",
   "metadata": {},
   "outputs": [
    {
     "data": {
      "text/plain": [
       "array([[14, 22, 25, 87],\n",
       "       [40, 59, 70, 85],\n",
       "       [28, 28, 32, 51],\n",
       "       [39, 68, 76, 86],\n",
       "       [14, 20, 80, 81],\n",
       "       [11, 48, 67, 82]])"
      ]
     },
     "execution_count": 11,
     "metadata": {},
     "output_type": "execute_result"
    }
   ],
   "source": [
    "# 2D : row-wise Descending Order \n",
    "np.sort(b,axis=1)[::-1]\n",
    "# Doesn't work , it just reverses the order of arrays"
   ]
  },
  {
   "cell_type": "code",
   "execution_count": 12,
   "id": "87373dc1-cd1a-4618-9e76-2ec90b07965c",
   "metadata": {},
   "outputs": [
    {
     "data": {
      "text/plain": [
       "array([[14, 11, 20, 25],\n",
       "       [51, 14, 28, 28],\n",
       "       [67, 22, 70, 48],\n",
       "       [68, 32, 82, 59],\n",
       "       [81, 39, 86, 76],\n",
       "       [85, 40, 87, 80]])"
      ]
     },
     "execution_count": 12,
     "metadata": {},
     "output_type": "execute_result"
    }
   ],
   "source": [
    "# 2D : column-wise Ascending Order \n",
    "np.sort(b,axis=0)"
   ]
  },
  {
   "cell_type": "code",
   "execution_count": 13,
   "id": "70fec15a-cef4-4ee4-b07b-eb3d30cfc2df",
   "metadata": {},
   "outputs": [
    {
     "data": {
      "text/plain": [
       "array([[85, 40, 87, 80],\n",
       "       [81, 39, 86, 76],\n",
       "       [68, 32, 82, 59],\n",
       "       [67, 22, 70, 48],\n",
       "       [51, 14, 28, 28],\n",
       "       [14, 11, 20, 25]])"
      ]
     },
     "execution_count": 13,
     "metadata": {},
     "output_type": "execute_result"
    }
   ],
   "source": [
    "# 2D : column-wise Descending Order\n",
    "np.sort(b,axis=0)[::-1]\n",
    "# column wise descending order works just fine "
   ]
  },
  {
   "cell_type": "markdown",
   "id": "0def7792-4720-4667-a0e6-b0b441d6fe57",
   "metadata": {},
   "source": [
    "### np.append"
   ]
  },
  {
   "cell_type": "code",
   "execution_count": 14,
   "id": "215c4615-f90b-47b7-a090-2230c6191425",
   "metadata": {},
   "outputs": [
    {
     "data": {
      "text/plain": [
       "array([96, 31, 41, 54, 15, 70, 33, 88, 39, 14, 29, 62, 15, 89, 61])"
      ]
     },
     "execution_count": 14,
     "metadata": {},
     "output_type": "execute_result"
    }
   ],
   "source": [
    "a"
   ]
  },
  {
   "cell_type": "code",
   "execution_count": 15,
   "id": "1d9056fe-eb32-4cc0-bccc-369fba4f9dee",
   "metadata": {},
   "outputs": [
    {
     "data": {
      "text/plain": [
       "array([ 96,  31,  41,  54,  15,  70,  33,  88,  39,  14,  29,  62,  15,\n",
       "        89,  61, 200])"
      ]
     },
     "execution_count": 15,
     "metadata": {},
     "output_type": "execute_result"
    }
   ],
   "source": [
    "np.append(a,200)"
   ]
  },
  {
   "cell_type": "code",
   "execution_count": 16,
   "id": "b0ad247a-70b6-4188-bf7f-88346b3f8aac",
   "metadata": {},
   "outputs": [
    {
     "data": {
      "text/plain": [
       "array([[67, 11, 82, 48],\n",
       "       [81, 14, 20, 80],\n",
       "       [68, 39, 86, 76],\n",
       "       [51, 32, 28, 28],\n",
       "       [85, 40, 70, 59],\n",
       "       [14, 22, 87, 25]])"
      ]
     },
     "execution_count": 16,
     "metadata": {},
     "output_type": "execute_result"
    }
   ],
   "source": [
    "b"
   ]
  },
  {
   "cell_type": "code",
   "execution_count": 17,
   "id": "1664db77-ce1b-4d06-bbda-ef71fe88159e",
   "metadata": {},
   "outputs": [
    {
     "data": {
      "text/plain": [
       "array([[67., 11., 82., 48.,  1.],\n",
       "       [81., 14., 20., 80.,  1.],\n",
       "       [68., 39., 86., 76.,  1.],\n",
       "       [51., 32., 28., 28.,  1.],\n",
       "       [85., 40., 70., 59.,  1.],\n",
       "       [14., 22., 87., 25.,  1.]])"
      ]
     },
     "execution_count": 17,
     "metadata": {},
     "output_type": "execute_result"
    }
   ],
   "source": [
    "np.append(b,np.ones((b.shape[0],1)),axis=1)\n",
    "# Alternatively, we can also use np.random instead of np.ones "
   ]
  },
  {
   "cell_type": "markdown",
   "id": "3996b316-4e6a-4f12-822c-da57693262c3",
   "metadata": {},
   "source": [
    "### np.concatenate\n",
    "--> preferably used as a replacement of vstack and hstack"
   ]
  },
  {
   "cell_type": "code",
   "execution_count": 18,
   "id": "04380232-22dd-4389-ac9d-4eb8382eca70",
   "metadata": {},
   "outputs": [
    {
     "name": "stdout",
     "output_type": "stream",
     "text": [
      "[[0 1 2]\n",
      " [3 4 5]]\n",
      "[[ 6  7  8]\n",
      " [ 9 10 11]]\n"
     ]
    }
   ],
   "source": [
    "c = np.arange(6).reshape(2,3)\n",
    "d = np.arange(6,12).reshape(2,3)\n",
    "\n",
    "print(c) \n",
    "print(d) "
   ]
  },
  {
   "cell_type": "code",
   "execution_count": 19,
   "id": "63053fa6-8058-4fdf-9777-1a6b60435ee6",
   "metadata": {},
   "outputs": [
    {
     "data": {
      "text/plain": [
       "array([[ 0,  1,  2],\n",
       "       [ 3,  4,  5],\n",
       "       [ 6,  7,  8],\n",
       "       [ 9, 10, 11]])"
      ]
     },
     "execution_count": 19,
     "metadata": {},
     "output_type": "execute_result"
    }
   ],
   "source": [
    "np.concatenate((c,d),axis=0)"
   ]
  },
  {
   "cell_type": "code",
   "execution_count": 20,
   "id": "04e86e38-24c8-4d9c-a6ed-3a7f56c7de14",
   "metadata": {},
   "outputs": [
    {
     "data": {
      "text/plain": [
       "array([[ 0,  1,  2,  6,  7,  8],\n",
       "       [ 3,  4,  5,  9, 10, 11]])"
      ]
     },
     "execution_count": 20,
     "metadata": {},
     "output_type": "execute_result"
    }
   ],
   "source": [
    "np.concatenate((c,d),axis=1)"
   ]
  },
  {
   "cell_type": "markdown",
   "id": "12c5ee92-cb0d-42d9-9aaf-3a5fb39c5f6b",
   "metadata": {},
   "source": [
    "### np.unique"
   ]
  },
  {
   "cell_type": "code",
   "execution_count": 21,
   "id": "4757b9d3-65e1-40cb-a158-4844df206ce2",
   "metadata": {},
   "outputs": [
    {
     "data": {
      "text/plain": [
       "array([1, 2, 3, 4, 5, 6])"
      ]
     },
     "execution_count": 21,
     "metadata": {},
     "output_type": "execute_result"
    }
   ],
   "source": [
    "e = np.array([1,1,2,2,3,3,4,4,5,5,6,6])\n",
    "np.unique(e)"
   ]
  },
  {
   "cell_type": "markdown",
   "id": "6413b562-ec54-40be-b78c-b0ce10863e99",
   "metadata": {},
   "source": [
    "### np.expand_dims\n",
    "--> rarely used , but can come handy"
   ]
  },
  {
   "cell_type": "code",
   "execution_count": 22,
   "id": "5c5d18c5-b6ed-4e1a-b238-82746dbe42c6",
   "metadata": {},
   "outputs": [
    {
     "name": "stdout",
     "output_type": "stream",
     "text": [
      "[96 31 41 54 15 70 33 88 39 14 29 62 15 89 61]\n",
      "(15,)\n"
     ]
    }
   ],
   "source": [
    "print(a) \n",
    "print(a.shape) "
   ]
  },
  {
   "cell_type": "code",
   "execution_count": 23,
   "id": "422e8c7d-32c4-467d-9d23-0d89c6aadfc7",
   "metadata": {},
   "outputs": [
    {
     "name": "stdout",
     "output_type": "stream",
     "text": [
      "[[96 31 41 54 15 70 33 88 39 14 29 62 15 89 61]]\n",
      "(1, 15)\n"
     ]
    }
   ],
   "source": [
    "temp = np.expand_dims(a,axis=0)\n",
    "print(temp) \n",
    "print(temp.shape)"
   ]
  },
  {
   "cell_type": "code",
   "execution_count": 24,
   "id": "e4880833-f827-4e53-8af5-67334ab801c3",
   "metadata": {},
   "outputs": [
    {
     "name": "stdout",
     "output_type": "stream",
     "text": [
      "[[96]\n",
      " [31]\n",
      " [41]\n",
      " [54]\n",
      " [15]\n",
      " [70]\n",
      " [33]\n",
      " [88]\n",
      " [39]\n",
      " [14]\n",
      " [29]\n",
      " [62]\n",
      " [15]\n",
      " [89]\n",
      " [61]]\n",
      "(15, 1)\n"
     ]
    }
   ],
   "source": [
    "temp = np.expand_dims(a,axis=1)\n",
    "print(temp) \n",
    "print(temp.shape)"
   ]
  },
  {
   "cell_type": "markdown",
   "id": "fc5e1116-55dd-43c2-9340-fd86c6c796fb",
   "metadata": {},
   "source": [
    "### np.where"
   ]
  },
  {
   "cell_type": "code",
   "execution_count": 25,
   "id": "2d345d87-69f4-4884-89b9-0bba56915681",
   "metadata": {},
   "outputs": [
    {
     "data": {
      "text/plain": [
       "array([96, 31, 41, 54, 15, 70, 33, 88, 39, 14, 29, 62, 15, 89, 61])"
      ]
     },
     "execution_count": 25,
     "metadata": {},
     "output_type": "execute_result"
    }
   ],
   "source": [
    "a"
   ]
  },
  {
   "cell_type": "code",
   "execution_count": 26,
   "id": "e013f535-3635-4ee7-845b-d88be1fd83ef",
   "metadata": {},
   "outputs": [
    {
     "data": {
      "text/plain": [
       "(array([ 0,  3,  5,  7, 11, 13, 14], dtype=int64),)"
      ]
     },
     "execution_count": 26,
     "metadata": {},
     "output_type": "execute_result"
    }
   ],
   "source": [
    "# find all indices with values greater than 50\n",
    "np.where(a>50)"
   ]
  },
  {
   "cell_type": "code",
   "execution_count": 27,
   "id": "8f13a4ad-00d5-49cd-8568-c2eb9193bc95",
   "metadata": {},
   "outputs": [
    {
     "data": {
      "text/plain": [
       "array([ 0, 31, 41,  0, 15,  0, 33,  0, 39, 14, 29,  0, 15,  0,  0])"
      ]
     },
     "execution_count": 27,
     "metadata": {},
     "output_type": "execute_result"
    }
   ],
   "source": [
    "# replace all values > 50 with 0 \n",
    "np.where(a>50,0,a)"
   ]
  },
  {
   "cell_type": "code",
   "execution_count": 28,
   "id": "86afae4d-c888-4f9c-98ce-34d7a7abd916",
   "metadata": {},
   "outputs": [
    {
     "data": {
      "text/plain": [
       "array([ 0, 31, 41,  0, 15,  0, 33,  0, 39,  0, 29,  0, 15, 89, 61])"
      ]
     },
     "execution_count": 28,
     "metadata": {},
     "output_type": "execute_result"
    }
   ],
   "source": [
    "# replace all even numbers with zero\n",
    "np.where(a%2 == 0,0,a)"
   ]
  },
  {
   "cell_type": "code",
   "execution_count": 29,
   "id": "00073ecf-95c0-4e1c-b9b1-0ac5e4c20f9a",
   "metadata": {},
   "outputs": [],
   "source": [
    "# case study: replace all outliers with median "
   ]
  },
  {
   "cell_type": "markdown",
   "id": "78924f0f-23e7-4787-b922-8b2a2b126265",
   "metadata": {},
   "source": [
    "### np.argmax"
   ]
  },
  {
   "cell_type": "code",
   "execution_count": 30,
   "id": "7700df0b-f861-4b6f-9c34-cd06cef7a2f7",
   "metadata": {},
   "outputs": [
    {
     "data": {
      "text/plain": [
       "array([96, 31, 41, 54, 15, 70, 33, 88, 39, 14, 29, 62, 15, 89, 61])"
      ]
     },
     "execution_count": 30,
     "metadata": {},
     "output_type": "execute_result"
    }
   ],
   "source": [
    "a"
   ]
  },
  {
   "cell_type": "code",
   "execution_count": 31,
   "id": "454de680-84c7-4360-a42c-e936ed87a2d9",
   "metadata": {},
   "outputs": [
    {
     "data": {
      "text/plain": [
       "0"
      ]
     },
     "execution_count": 31,
     "metadata": {},
     "output_type": "execute_result"
    }
   ],
   "source": [
    "# find the indices of the max element \n",
    "np.argmax(a)"
   ]
  },
  {
   "cell_type": "code",
   "execution_count": 32,
   "id": "5f37ac7e-167f-4645-a155-c2041083bf4f",
   "metadata": {},
   "outputs": [
    {
     "data": {
      "text/plain": [
       "96"
      ]
     },
     "execution_count": 32,
     "metadata": {},
     "output_type": "execute_result"
    }
   ],
   "source": [
    "np.max(a)"
   ]
  },
  {
   "cell_type": "code",
   "execution_count": 33,
   "id": "a9f54fac-3b8e-46f9-a208-3aa199000e25",
   "metadata": {},
   "outputs": [
    {
     "data": {
      "text/plain": [
       "array([[67, 11, 82, 48],\n",
       "       [81, 14, 20, 80],\n",
       "       [68, 39, 86, 76],\n",
       "       [51, 32, 28, 28],\n",
       "       [85, 40, 70, 59],\n",
       "       [14, 22, 87, 25]])"
      ]
     },
     "execution_count": 33,
     "metadata": {},
     "output_type": "execute_result"
    }
   ],
   "source": [
    "b\n",
    "# However, argmax is generally used with 1D "
   ]
  },
  {
   "cell_type": "code",
   "execution_count": 34,
   "id": "2296ff4a-7617-4aa8-a3e3-583440dde218",
   "metadata": {},
   "outputs": [
    {
     "data": {
      "text/plain": [
       "22"
      ]
     },
     "execution_count": 34,
     "metadata": {},
     "output_type": "execute_result"
    }
   ],
   "source": [
    "np.argmax(b)"
   ]
  },
  {
   "cell_type": "code",
   "execution_count": 35,
   "id": "17e8a1a3-4dcb-40e3-9d5d-baf6f254f305",
   "metadata": {},
   "outputs": [
    {
     "data": {
      "text/plain": [
       "array([4, 4, 5, 1], dtype=int64)"
      ]
     },
     "execution_count": 35,
     "metadata": {},
     "output_type": "execute_result"
    }
   ],
   "source": [
    "np.argmax(b,axis=0)"
   ]
  },
  {
   "cell_type": "code",
   "execution_count": 36,
   "id": "9200d1ca-8aac-4f7d-a00f-b225a70d3704",
   "metadata": {},
   "outputs": [
    {
     "data": {
      "text/plain": [
       "array([85, 40, 87, 80])"
      ]
     },
     "execution_count": 36,
     "metadata": {},
     "output_type": "execute_result"
    }
   ],
   "source": [
    "np.max(b,axis=0)"
   ]
  },
  {
   "cell_type": "code",
   "execution_count": 37,
   "id": "eb3cd84e-7777-43a2-b87a-7b11f9263c3b",
   "metadata": {},
   "outputs": [
    {
     "data": {
      "text/plain": [
       "array([2, 0, 2, 0, 0, 2], dtype=int64)"
      ]
     },
     "execution_count": 37,
     "metadata": {},
     "output_type": "execute_result"
    }
   ],
   "source": [
    "np.argmax(b,axis=1)"
   ]
  },
  {
   "cell_type": "code",
   "execution_count": 38,
   "id": "8d4c3577-9a57-4600-bdfb-2dad7e477f85",
   "metadata": {},
   "outputs": [
    {
     "data": {
      "text/plain": [
       "array([82, 81, 86, 51, 85, 87])"
      ]
     },
     "execution_count": 38,
     "metadata": {},
     "output_type": "execute_result"
    }
   ],
   "source": [
    "np.max(b,axis=1)"
   ]
  },
  {
   "cell_type": "markdown",
   "id": "b788d591-92be-4e44-87ba-0e707d1217fd",
   "metadata": {},
   "source": [
    "### np.argmin"
   ]
  },
  {
   "cell_type": "code",
   "execution_count": 39,
   "id": "4689e610-476c-4ccc-9f43-c69e1c87ba95",
   "metadata": {},
   "outputs": [
    {
     "data": {
      "text/plain": [
       "array([96, 31, 41, 54, 15, 70, 33, 88, 39, 14, 29, 62, 15, 89, 61])"
      ]
     },
     "execution_count": 39,
     "metadata": {},
     "output_type": "execute_result"
    }
   ],
   "source": [
    "a"
   ]
  },
  {
   "cell_type": "code",
   "execution_count": 40,
   "id": "c5f3c621-7c53-49e6-9fcf-3ae2e93f0cca",
   "metadata": {},
   "outputs": [
    {
     "data": {
      "text/plain": [
       "9"
      ]
     },
     "execution_count": 40,
     "metadata": {},
     "output_type": "execute_result"
    }
   ],
   "source": [
    "np.argmin(a)"
   ]
  },
  {
   "cell_type": "code",
   "execution_count": 41,
   "id": "328816fd-612a-48c1-89c0-1c3dfc6ad225",
   "metadata": {},
   "outputs": [
    {
     "data": {
      "text/plain": [
       "14"
      ]
     },
     "execution_count": 41,
     "metadata": {},
     "output_type": "execute_result"
    }
   ],
   "source": [
    "np.min(a)"
   ]
  },
  {
   "cell_type": "code",
   "execution_count": 42,
   "id": "b0e357e3-db9b-49c4-9b79-ea1f0e427e1e",
   "metadata": {},
   "outputs": [
    {
     "data": {
      "text/plain": [
       "array([[67, 11, 82, 48],\n",
       "       [81, 14, 20, 80],\n",
       "       [68, 39, 86, 76],\n",
       "       [51, 32, 28, 28],\n",
       "       [85, 40, 70, 59],\n",
       "       [14, 22, 87, 25]])"
      ]
     },
     "execution_count": 42,
     "metadata": {},
     "output_type": "execute_result"
    }
   ],
   "source": [
    "b"
   ]
  },
  {
   "cell_type": "code",
   "execution_count": 43,
   "id": "702060da-e3f6-4051-916c-56f6fcf71f12",
   "metadata": {},
   "outputs": [
    {
     "data": {
      "text/plain": [
       "1"
      ]
     },
     "execution_count": 43,
     "metadata": {},
     "output_type": "execute_result"
    }
   ],
   "source": [
    "np.argmin(b)"
   ]
  },
  {
   "cell_type": "code",
   "execution_count": 44,
   "id": "8d4fb6b0-a349-4877-8d7a-0fceb409ba86",
   "metadata": {},
   "outputs": [
    {
     "data": {
      "text/plain": [
       "array([5, 0, 1, 5], dtype=int64)"
      ]
     },
     "execution_count": 44,
     "metadata": {},
     "output_type": "execute_result"
    }
   ],
   "source": [
    "np.argmin(b,axis=0)"
   ]
  },
  {
   "cell_type": "code",
   "execution_count": 45,
   "id": "793cc6dd-fb2f-432d-adcd-717d0ec67b0e",
   "metadata": {},
   "outputs": [
    {
     "data": {
      "text/plain": [
       "array([1, 1, 1, 2, 1, 0], dtype=int64)"
      ]
     },
     "execution_count": 45,
     "metadata": {},
     "output_type": "execute_result"
    }
   ],
   "source": [
    "np.argmin(b,axis=1)"
   ]
  },
  {
   "cell_type": "markdown",
   "id": "8c68313a-d4cb-4144-87b0-181d454c232f",
   "metadata": {},
   "source": [
    "### np.cumsum \n",
    "--> cumulative sum "
   ]
  },
  {
   "cell_type": "code",
   "execution_count": 46,
   "id": "6769f3b5-215e-4f60-a774-ae3ee5709c39",
   "metadata": {},
   "outputs": [
    {
     "data": {
      "text/plain": [
       "array([96, 31, 41, 54, 15, 70, 33, 88, 39, 14, 29, 62, 15, 89, 61])"
      ]
     },
     "execution_count": 46,
     "metadata": {},
     "output_type": "execute_result"
    }
   ],
   "source": [
    "a"
   ]
  },
  {
   "cell_type": "code",
   "execution_count": 47,
   "id": "57dbcef3-edf1-4c03-8504-71b52cd20f47",
   "metadata": {},
   "outputs": [
    {
     "data": {
      "text/plain": [
       "array([ 96, 127, 168, 222, 237, 307, 340, 428, 467, 481, 510, 572, 587,\n",
       "       676, 737])"
      ]
     },
     "execution_count": 47,
     "metadata": {},
     "output_type": "execute_result"
    }
   ],
   "source": [
    "np.cumsum(a)"
   ]
  },
  {
   "cell_type": "code",
   "execution_count": 48,
   "id": "664f855e-18f1-4383-b2bc-343a36e063e6",
   "metadata": {},
   "outputs": [
    {
     "data": {
      "text/plain": [
       "array([[67, 11, 82, 48],\n",
       "       [81, 14, 20, 80],\n",
       "       [68, 39, 86, 76],\n",
       "       [51, 32, 28, 28],\n",
       "       [85, 40, 70, 59],\n",
       "       [14, 22, 87, 25]])"
      ]
     },
     "execution_count": 48,
     "metadata": {},
     "output_type": "execute_result"
    }
   ],
   "source": [
    "b "
   ]
  },
  {
   "cell_type": "code",
   "execution_count": 49,
   "id": "3103d6b1-6a35-4c15-bb10-381d5e76debb",
   "metadata": {},
   "outputs": [
    {
     "data": {
      "text/plain": [
       "array([  67,   78,  160,  208,  289,  303,  323,  403,  471,  510,  596,\n",
       "        672,  723,  755,  783,  811,  896,  936, 1006, 1065, 1079, 1101,\n",
       "       1188, 1213])"
      ]
     },
     "execution_count": 49,
     "metadata": {},
     "output_type": "execute_result"
    }
   ],
   "source": [
    "np.cumsum(b)"
   ]
  },
  {
   "cell_type": "code",
   "execution_count": 50,
   "id": "f578b488-9bb2-4f48-8c54-9929bd750240",
   "metadata": {},
   "outputs": [
    {
     "data": {
      "text/plain": [
       "array([[ 67,  11,  82,  48],\n",
       "       [148,  25, 102, 128],\n",
       "       [216,  64, 188, 204],\n",
       "       [267,  96, 216, 232],\n",
       "       [352, 136, 286, 291],\n",
       "       [366, 158, 373, 316]])"
      ]
     },
     "execution_count": 50,
     "metadata": {},
     "output_type": "execute_result"
    }
   ],
   "source": [
    "np.cumsum(b,axis=0)"
   ]
  },
  {
   "cell_type": "code",
   "execution_count": 51,
   "id": "6ce62a4a-327d-4105-b1ab-4416347dcbe0",
   "metadata": {},
   "outputs": [
    {
     "data": {
      "text/plain": [
       "array([[ 67,  78, 160, 208],\n",
       "       [ 81,  95, 115, 195],\n",
       "       [ 68, 107, 193, 269],\n",
       "       [ 51,  83, 111, 139],\n",
       "       [ 85, 125, 195, 254],\n",
       "       [ 14,  36, 123, 148]])"
      ]
     },
     "execution_count": 51,
     "metadata": {},
     "output_type": "execute_result"
    }
   ],
   "source": [
    "np.cumsum(b,axis=1)"
   ]
  },
  {
   "cell_type": "markdown",
   "id": "a57f4b76-9213-4064-b394-5a8416b5288f",
   "metadata": {},
   "source": [
    "### np.cumprod\n",
    "--> cumulative product"
   ]
  },
  {
   "cell_type": "code",
   "execution_count": 52,
   "id": "e7652c9f-f675-4972-9c63-af6092193fae",
   "metadata": {},
   "outputs": [
    {
     "data": {
      "text/plain": [
       "array([96, 31, 41, 54, 15, 70, 33, 88, 39, 14, 29, 62, 15, 89, 61])"
      ]
     },
     "execution_count": 52,
     "metadata": {},
     "output_type": "execute_result"
    }
   ],
   "source": [
    "a"
   ]
  },
  {
   "cell_type": "code",
   "execution_count": 53,
   "id": "74688074-dd78-4b97-9a86-5813705e7f3e",
   "metadata": {},
   "outputs": [
    {
     "data": {
      "text/plain": [
       "array([         96,        2976,      122016,     6588864,    98832960,\n",
       "       -1671627392,   670870912, -1092901888,   326499328,   276023296,\n",
       "        -585259008, -1926320128,  1169969152,  1048039424,  -494104576])"
      ]
     },
     "execution_count": 53,
     "metadata": {},
     "output_type": "execute_result"
    }
   ],
   "source": [
    "np.cumprod(a)"
   ]
  },
  {
   "cell_type": "code",
   "execution_count": 54,
   "id": "37f261db-093d-4d5c-8775-311886655522",
   "metadata": {},
   "outputs": [
    {
     "data": {
      "text/plain": [
       "array([[67, 11, 82, 48],\n",
       "       [81, 14, 20, 80],\n",
       "       [68, 39, 86, 76],\n",
       "       [51, 32, 28, 28],\n",
       "       [85, 40, 70, 59],\n",
       "       [14, 22, 87, 25]])"
      ]
     },
     "execution_count": 54,
     "metadata": {},
     "output_type": "execute_result"
    }
   ],
   "source": [
    "b"
   ]
  },
  {
   "cell_type": "code",
   "execution_count": 55,
   "id": "dbc498e2-9752-4f52-9a83-84598eecd35c",
   "metadata": {},
   "outputs": [
    {
     "data": {
      "text/plain": [
       "array([         67,         737,       60434,     2900832,   234967392,\n",
       "       -1005423808,  1366360320,  1934643200, -1588248576, -1812152320,\n",
       "       -1226276864,  1292238848,  1479671808,   104857600, -1358954496,\n",
       "         603979776,  -201326592,   536870912, -1073741824,  1073741824,\n",
       "       -2147483648,           0,           0,           0])"
      ]
     },
     "execution_count": 55,
     "metadata": {},
     "output_type": "execute_result"
    }
   ],
   "source": [
    "np.cumprod(b)"
   ]
  },
  {
   "cell_type": "code",
   "execution_count": 56,
   "id": "8dd61731-1522-4327-adff-aa7735d80473",
   "metadata": {},
   "outputs": [
    {
     "data": {
      "text/plain": [
       "array([[         67,          11,          82,          48],\n",
       "       [       5427,         154,        1640,        3840],\n",
       "       [     369036,        6006,      141040,      291840],\n",
       "       [   18820836,      192192,     3949120,     8171520],\n",
       "       [ 1599771060,     7687680,   276438400,   482119680],\n",
       "       [  921958360,   169128960, -1719662976,  -831909888]])"
      ]
     },
     "execution_count": 56,
     "metadata": {},
     "output_type": "execute_result"
    }
   ],
   "source": [
    "np.cumprod(b,axis=0)"
   ]
  },
  {
   "cell_type": "code",
   "execution_count": 57,
   "id": "3c843058-6fb4-4b0d-8a8a-9c664fe6b42a",
   "metadata": {},
   "outputs": [
    {
     "data": {
      "text/plain": [
       "array([[      67,      737,    60434,  2900832],\n",
       "       [      81,     1134,    22680,  1814400],\n",
       "       [      68,     2652,   228072, 17333472],\n",
       "       [      51,     1632,    45696,  1279488],\n",
       "       [      85,     3400,   238000, 14042000],\n",
       "       [      14,      308,    26796,   669900]])"
      ]
     },
     "execution_count": 57,
     "metadata": {},
     "output_type": "execute_result"
    }
   ],
   "source": [
    "np.cumprod(b,axis=1)"
   ]
  },
  {
   "cell_type": "markdown",
   "id": "d527152d-c207-44cd-8501-259692f0b34a",
   "metadata": {},
   "source": [
    "### np.percentile"
   ]
  },
  {
   "cell_type": "code",
   "execution_count": 58,
   "id": "c48ef5e2-36b4-4c93-b96a-31a500339aaf",
   "metadata": {},
   "outputs": [
    {
     "data": {
      "text/plain": [
       "array([96, 31, 41, 54, 15, 70, 33, 88, 39, 14, 29, 62, 15, 89, 61])"
      ]
     },
     "execution_count": 58,
     "metadata": {},
     "output_type": "execute_result"
    }
   ],
   "source": [
    "a"
   ]
  },
  {
   "cell_type": "code",
   "execution_count": 59,
   "id": "9d53b5e1-f991-4009-b313-960cc02e1a6f",
   "metadata": {},
   "outputs": [
    {
     "data": {
      "text/plain": [
       "96.0"
      ]
     },
     "execution_count": 59,
     "metadata": {},
     "output_type": "execute_result"
    }
   ],
   "source": [
    "np.percentile(a,100)"
   ]
  },
  {
   "cell_type": "code",
   "execution_count": 60,
   "id": "6105c195-0229-4993-aac3-9f412be8602e",
   "metadata": {},
   "outputs": [
    {
     "data": {
      "text/plain": [
       "14.0"
      ]
     },
     "execution_count": 60,
     "metadata": {},
     "output_type": "execute_result"
    }
   ],
   "source": [
    "np.percentile(a,0)"
   ]
  },
  {
   "cell_type": "code",
   "execution_count": 61,
   "id": "9ff759e5-c5a5-437c-a1e9-8796b213b5f2",
   "metadata": {},
   "outputs": [
    {
     "data": {
      "text/plain": [
       "41.0"
      ]
     },
     "execution_count": 61,
     "metadata": {},
     "output_type": "execute_result"
    }
   ],
   "source": [
    "# median using np.percentile \n",
    "np.percentile(a,50)"
   ]
  },
  {
   "cell_type": "code",
   "execution_count": 62,
   "id": "2e56c9ad-bad9-40c7-93c9-143494537092",
   "metadata": {},
   "outputs": [
    {
     "data": {
      "text/plain": [
       "30.0"
      ]
     },
     "execution_count": 62,
     "metadata": {},
     "output_type": "execute_result"
    }
   ],
   "source": [
    "# First Quartile using np.percnetile \n",
    "np.percentile(a,25)"
   ]
  },
  {
   "cell_type": "code",
   "execution_count": 63,
   "id": "24ada83e-710c-4612-82b3-abc76bd6342e",
   "metadata": {},
   "outputs": [
    {
     "data": {
      "text/plain": [
       "66.0"
      ]
     },
     "execution_count": 63,
     "metadata": {},
     "output_type": "execute_result"
    }
   ],
   "source": [
    "# Third Quartile using np.percentile \n",
    "np.percentile(a,75)"
   ]
  },
  {
   "cell_type": "code",
   "execution_count": 64,
   "id": "fff315ad-badb-4bd8-ab6a-c69b830e3b30",
   "metadata": {},
   "outputs": [
    {
     "data": {
      "text/plain": [
       "41.0"
      ]
     },
     "execution_count": 64,
     "metadata": {},
     "output_type": "execute_result"
    }
   ],
   "source": [
    "np.median(a)"
   ]
  },
  {
   "cell_type": "markdown",
   "id": "d4206109-d6a3-4999-bdb9-b7925daf92a5",
   "metadata": {},
   "source": [
    "### np.histogram"
   ]
  },
  {
   "cell_type": "code",
   "execution_count": 65,
   "id": "a37ba6fd-c06d-4516-a0af-3b0e482ad651",
   "metadata": {},
   "outputs": [
    {
     "data": {
      "text/plain": [
       "array([96, 31, 41, 54, 15, 70, 33, 88, 39, 14, 29, 62, 15, 89, 61])"
      ]
     },
     "execution_count": 65,
     "metadata": {},
     "output_type": "execute_result"
    }
   ],
   "source": [
    "a"
   ]
  },
  {
   "cell_type": "code",
   "execution_count": 67,
   "id": "cb902102-6731-4598-b871-13f76b3d3062",
   "metadata": {},
   "outputs": [
    {
     "data": {
      "text/plain": [
       "(array([0, 3, 1, 3, 1, 1, 2, 1, 2, 1], dtype=int64),\n",
       " array([  0,  10,  20,  30,  40,  50,  60,  70,  80,  90, 100]))"
      ]
     },
     "execution_count": 67,
     "metadata": {},
     "output_type": "execute_result"
    }
   ],
   "source": [
    "np.histogram(a,bins=[0,10,20,30,40,50,60,70,80,90,100])"
   ]
  },
  {
   "cell_type": "code",
   "execution_count": 70,
   "id": "c65ff6e4-3e09-47e7-b575-b44fda55cc8d",
   "metadata": {},
   "outputs": [
    {
     "data": {
      "text/plain": [
       "(array([8, 7], dtype=int64), array([  0,  50, 100]))"
      ]
     },
     "execution_count": 70,
     "metadata": {},
     "output_type": "execute_result"
    }
   ],
   "source": [
    "np.histogram(a,bins=[0,50,100])"
   ]
  },
  {
   "cell_type": "markdown",
   "id": "68832acc-64c1-40ea-81ad-91cd338eeff3",
   "metadata": {},
   "source": [
    "### np.corrcoef"
   ]
  },
  {
   "cell_type": "code",
   "execution_count": 73,
   "id": "f24861ca-de3e-4df1-a902-97677d592075",
   "metadata": {},
   "outputs": [
    {
     "name": "stdout",
     "output_type": "stream",
     "text": [
      "[20000 40000 25000 35000 60000]\n",
      "[1 3 2 4 2]\n"
     ]
    }
   ],
   "source": [
    "salary = np.array([20000,40000,25000,35000,60000])\n",
    "experience = np.array([1,3,2,4,2])\n",
    "\n",
    "print(salary)\n",
    "print(experience)"
   ]
  },
  {
   "cell_type": "code",
   "execution_count": 74,
   "id": "6ceadb27-ba5f-4e4a-9177-a496d3fcddd5",
   "metadata": {},
   "outputs": [
    {
     "data": {
      "text/plain": [
       "array([[1.        , 0.25344572],\n",
       "       [0.25344572, 1.        ]])"
      ]
     },
     "execution_count": 74,
     "metadata": {},
     "output_type": "execute_result"
    }
   ],
   "source": [
    "np.corrcoef(salary,experience)"
   ]
  },
  {
   "cell_type": "code",
   "execution_count": null,
   "id": "6849cd80-f141-4469-b018-a7a691586c2d",
   "metadata": {},
   "outputs": [],
   "source": [
    "# Observing the results or np.corrcoef\n",
    "# 1st Result : corrcoef(sal,sal) \n",
    "# 2nd Result : corrcoef(sal,exp) \n",
    "# 3rd Result : corrcoef(exp,sal) \n",
    "# 4th result : corrcoef(exp,exp) \n",
    "# so we get a matrix as a result "
   ]
  },
  {
   "cell_type": "markdown",
   "id": "d8f3347f-ab58-428e-8679-920f93561a54",
   "metadata": {},
   "source": [
    "### np.isin"
   ]
  },
  {
   "cell_type": "code",
   "execution_count": 75,
   "id": "c3fa0492-e427-40e9-9c02-82445f2cd5bb",
   "metadata": {},
   "outputs": [
    {
     "data": {
      "text/plain": [
       "array([96, 31, 41, 54, 15, 70, 33, 88, 39, 14, 29, 62, 15, 89, 61])"
      ]
     },
     "execution_count": 75,
     "metadata": {},
     "output_type": "execute_result"
    }
   ],
   "source": [
    "a"
   ]
  },
  {
   "cell_type": "code",
   "execution_count": 82,
   "id": "26224835-8f49-454c-8fbc-9fbc80ee9758",
   "metadata": {},
   "outputs": [
    {
     "data": {
      "text/plain": [
       "array([False, False,  True, False, False, False, False, False, False,\n",
       "       False, False, False, False, False, False])"
      ]
     },
     "execution_count": 82,
     "metadata": {},
     "output_type": "execute_result"
    }
   ],
   "source": [
    "np.isin(a,41)"
   ]
  },
  {
   "cell_type": "code",
   "execution_count": 83,
   "id": "51f8d9c9-34d9-4270-a679-79b9fa2665f9",
   "metadata": {},
   "outputs": [
    {
     "data": {
      "text/plain": [
       "array([False,  True,  True, False, False, False, False, False, False,\n",
       "       False, False, False, False, False,  True])"
      ]
     },
     "execution_count": 83,
     "metadata": {},
     "output_type": "execute_result"
    }
   ],
   "source": [
    "items = [21,31,41,51,61]\n",
    "np.isin(a,items)\n",
    "# items --> elements\n",
    "# a --> test elements\n",
    "# returns : refer next cell "
   ]
  },
  {
   "cell_type": "code",
   "execution_count": 80,
   "id": "b3adbba9-f143-4aed-8a2e-3be407d45fa6",
   "metadata": {},
   "outputs": [
    {
     "data": {
      "text/plain": [
       "'\\nReturns\\n    -------\\n    isin : ndarray, bool\\n        Has the same shape as `element`. The values `element[isin]`\\n        are in `test_elements`.\\n'"
      ]
     },
     "execution_count": 80,
     "metadata": {},
     "output_type": "execute_result"
    }
   ],
   "source": [
    "# help(np.isin) \n",
    "'''\n",
    "Returns\n",
    "    -------\n",
    "    isin : ndarray, bool\n",
    "        Has the same shape as `element`. The values `element[isin]`\n",
    "        are in `test_elements`.\n",
    "'''"
   ]
  },
  {
   "cell_type": "code",
   "execution_count": 84,
   "id": "59843aa3-5b6a-49a1-8c9b-ca794fcdac9b",
   "metadata": {},
   "outputs": [
    {
     "data": {
      "text/plain": [
       "array([31, 41, 61])"
      ]
     },
     "execution_count": 84,
     "metadata": {},
     "output_type": "execute_result"
    }
   ],
   "source": [
    "a[np.isin(a,items)]"
   ]
  },
  {
   "cell_type": "markdown",
   "id": "1a4cc73a-2c28-4d22-9ca8-f7bc1e36e0a1",
   "metadata": {},
   "source": [
    "### np.flip"
   ]
  },
  {
   "cell_type": "code",
   "execution_count": 85,
   "id": "f47c7606-5e50-4c95-94c6-28086f7fa39c",
   "metadata": {},
   "outputs": [
    {
     "data": {
      "text/plain": [
       "array([96, 31, 41, 54, 15, 70, 33, 88, 39, 14, 29, 62, 15, 89, 61])"
      ]
     },
     "execution_count": 85,
     "metadata": {},
     "output_type": "execute_result"
    }
   ],
   "source": [
    "a"
   ]
  },
  {
   "cell_type": "code",
   "execution_count": 86,
   "id": "20fe4ea0-584d-44bb-a75a-e9e102729114",
   "metadata": {},
   "outputs": [
    {
     "data": {
      "text/plain": [
       "array([61, 89, 15, 62, 29, 14, 39, 88, 33, 70, 15, 54, 41, 31, 96])"
      ]
     },
     "execution_count": 86,
     "metadata": {},
     "output_type": "execute_result"
    }
   ],
   "source": [
    "np.flip(a)"
   ]
  },
  {
   "cell_type": "code",
   "execution_count": 87,
   "id": "96bad27a-e852-4863-a348-5fe6959579f2",
   "metadata": {},
   "outputs": [
    {
     "data": {
      "text/plain": [
       "array([[67, 11, 82, 48],\n",
       "       [81, 14, 20, 80],\n",
       "       [68, 39, 86, 76],\n",
       "       [51, 32, 28, 28],\n",
       "       [85, 40, 70, 59],\n",
       "       [14, 22, 87, 25]])"
      ]
     },
     "execution_count": 87,
     "metadata": {},
     "output_type": "execute_result"
    }
   ],
   "source": [
    "b"
   ]
  },
  {
   "cell_type": "code",
   "execution_count": 88,
   "id": "75723389-829b-45ff-aac4-7709c7cbc267",
   "metadata": {},
   "outputs": [
    {
     "data": {
      "text/plain": [
       "array([[25, 87, 22, 14],\n",
       "       [59, 70, 40, 85],\n",
       "       [28, 28, 32, 51],\n",
       "       [76, 86, 39, 68],\n",
       "       [80, 20, 14, 81],\n",
       "       [48, 82, 11, 67]])"
      ]
     },
     "execution_count": 88,
     "metadata": {},
     "output_type": "execute_result"
    }
   ],
   "source": [
    "np.flip(b)\n",
    "# flips row-wise as well as column-wise"
   ]
  },
  {
   "cell_type": "code",
   "execution_count": 89,
   "id": "752762e4-f48f-4e62-86bf-6c2dde6279ae",
   "metadata": {},
   "outputs": [
    {
     "data": {
      "text/plain": [
       "array([[14, 22, 87, 25],\n",
       "       [85, 40, 70, 59],\n",
       "       [51, 32, 28, 28],\n",
       "       [68, 39, 86, 76],\n",
       "       [81, 14, 20, 80],\n",
       "       [67, 11, 82, 48]])"
      ]
     },
     "execution_count": 89,
     "metadata": {},
     "output_type": "execute_result"
    }
   ],
   "source": [
    "# column-wise flipping \n",
    "np.flip(b,axis=0)"
   ]
  },
  {
   "cell_type": "code",
   "execution_count": 90,
   "id": "411cebcc-d726-48be-ae3c-bfc1e9ec55ec",
   "metadata": {},
   "outputs": [],
   "source": [
    "# row-wise flipping "
   ]
  },
  {
   "cell_type": "code",
   "execution_count": 91,
   "id": "93e9f1a0-a130-4006-87f5-86e1057a268d",
   "metadata": {},
   "outputs": [
    {
     "data": {
      "text/plain": [
       "array([[48, 82, 11, 67],\n",
       "       [80, 20, 14, 81],\n",
       "       [76, 86, 39, 68],\n",
       "       [28, 28, 32, 51],\n",
       "       [59, 70, 40, 85],\n",
       "       [25, 87, 22, 14]])"
      ]
     },
     "execution_count": 91,
     "metadata": {},
     "output_type": "execute_result"
    }
   ],
   "source": [
    "np.flip(b,axis=1)"
   ]
  },
  {
   "cell_type": "markdown",
   "id": "a4486e5f-1c1a-4558-9aad-b547beb05abc",
   "metadata": {},
   "source": [
    "### np.put"
   ]
  },
  {
   "cell_type": "code",
   "execution_count": 92,
   "id": "ebbd567a-2f84-4033-a1c0-f7ea32564e47",
   "metadata": {},
   "outputs": [
    {
     "data": {
      "text/plain": [
       "array([96, 31, 41, 54, 15, 70, 33, 88, 39, 14, 29, 62, 15, 89, 61])"
      ]
     },
     "execution_count": 92,
     "metadata": {},
     "output_type": "execute_result"
    }
   ],
   "source": [
    "a"
   ]
  },
  {
   "cell_type": "code",
   "execution_count": 93,
   "id": "e0164532-0f1e-414e-8e6f-bb68fc323255",
   "metadata": {},
   "outputs": [],
   "source": [
    "np.put(a,[0,1],[110,530])"
   ]
  },
  {
   "cell_type": "code",
   "execution_count": 94,
   "id": "1d12526c-1ab6-4916-9c08-f96b499e944b",
   "metadata": {},
   "outputs": [
    {
     "data": {
      "text/plain": [
       "array([110, 530,  41,  54,  15,  70,  33,  88,  39,  14,  29,  62,  15,\n",
       "        89,  61])"
      ]
     },
     "execution_count": 94,
     "metadata": {},
     "output_type": "execute_result"
    }
   ],
   "source": [
    "a"
   ]
  },
  {
   "cell_type": "markdown",
   "id": "33b4623b-5816-4380-bde3-f847221f9997",
   "metadata": {},
   "source": [
    "### np.delete"
   ]
  },
  {
   "cell_type": "code",
   "execution_count": 95,
   "id": "d633a34c-a948-45a1-89f8-f5e44e801782",
   "metadata": {},
   "outputs": [
    {
     "data": {
      "text/plain": [
       "array([110, 530,  41,  54,  15,  70,  33,  88,  39,  14,  29,  62,  15,\n",
       "        89,  61])"
      ]
     },
     "execution_count": 95,
     "metadata": {},
     "output_type": "execute_result"
    }
   ],
   "source": [
    "a"
   ]
  },
  {
   "cell_type": "code",
   "execution_count": 97,
   "id": "368dd4a9-c9dc-41b0-8018-111364c89720",
   "metadata": {},
   "outputs": [
    {
     "data": {
      "text/plain": [
       "array([530,  41,  54,  15,  70,  33,  88,  39,  14,  29,  62,  15,  89,\n",
       "        61])"
      ]
     },
     "execution_count": 97,
     "metadata": {},
     "output_type": "execute_result"
    }
   ],
   "source": [
    "np.delete(a,0)"
   ]
  },
  {
   "cell_type": "code",
   "execution_count": 98,
   "id": "824384ed-e724-42af-b725-e5042e0df0cb",
   "metadata": {},
   "outputs": [
    {
     "data": {
      "text/plain": [
       "array([530,  54,  70,  33,  88,  39,  14,  29,  62,  15,  89,  61])"
      ]
     },
     "execution_count": 98,
     "metadata": {},
     "output_type": "execute_result"
    }
   ],
   "source": [
    "np.delete(a,[0,2,4])"
   ]
  },
  {
   "cell_type": "code",
   "execution_count": 99,
   "id": "cf89ea7e-eae0-4c2d-855a-d9a59d01a589",
   "metadata": {},
   "outputs": [
    {
     "data": {
      "text/plain": [
       "array([110, 530,  41,  54,  15,  70,  33,  88,  39,  14,  29,  62,  15,\n",
       "        89,  61])"
      ]
     },
     "execution_count": 99,
     "metadata": {},
     "output_type": "execute_result"
    }
   ],
   "source": [
    "a"
   ]
  },
  {
   "cell_type": "markdown",
   "id": "5f560f1e-31ff-46e7-bfd3-903542203308",
   "metadata": {},
   "source": [
    "### set functions"
   ]
  },
  {
   "cell_type": "code",
   "execution_count": 101,
   "id": "6605ca8b-9654-411d-882d-a179b5ff2593",
   "metadata": {},
   "outputs": [],
   "source": [
    "m = np.array([1,2,3,4,5])\n",
    "n = np.array([3,4,5,6,7])"
   ]
  },
  {
   "cell_type": "code",
   "execution_count": 102,
   "id": "a08dea51-680a-4a1b-af8b-b75be02a1a6b",
   "metadata": {},
   "outputs": [
    {
     "data": {
      "text/plain": [
       "array([1, 2, 3, 4, 5, 6, 7])"
      ]
     },
     "execution_count": 102,
     "metadata": {},
     "output_type": "execute_result"
    }
   ],
   "source": [
    "# np.union1d\n",
    "np.union1d(m,n)"
   ]
  },
  {
   "cell_type": "code",
   "execution_count": 103,
   "id": "4a1814d7-72ef-4179-a997-9cce6796fe32",
   "metadata": {},
   "outputs": [
    {
     "data": {
      "text/plain": [
       "array([3, 4, 5])"
      ]
     },
     "execution_count": 103,
     "metadata": {},
     "output_type": "execute_result"
    }
   ],
   "source": [
    "# np.intersect1d\n",
    "np.intersect1d(m,n)"
   ]
  },
  {
   "cell_type": "code",
   "execution_count": 104,
   "id": "647c9f96-af43-423a-bda4-604afef3b875",
   "metadata": {},
   "outputs": [
    {
     "data": {
      "text/plain": [
       "array([1, 2])"
      ]
     },
     "execution_count": 104,
     "metadata": {},
     "output_type": "execute_result"
    }
   ],
   "source": [
    "# np.setdiff1d\n",
    "np.setdiff1d(m,n)"
   ]
  },
  {
   "cell_type": "code",
   "execution_count": 105,
   "id": "bac48c83-988b-4d62-8a15-62cc893a20f2",
   "metadata": {},
   "outputs": [
    {
     "data": {
      "text/plain": [
       "array([6, 7])"
      ]
     },
     "execution_count": 105,
     "metadata": {},
     "output_type": "execute_result"
    }
   ],
   "source": [
    "np.setdiff1d(n,m)"
   ]
  },
  {
   "cell_type": "code",
   "execution_count": 106,
   "id": "9eea4365-351b-4fa4-bc26-e63f06b5804d",
   "metadata": {},
   "outputs": [
    {
     "data": {
      "text/plain": [
       "array([1, 2, 6, 7])"
      ]
     },
     "execution_count": 106,
     "metadata": {},
     "output_type": "execute_result"
    }
   ],
   "source": [
    "# np.setxor1d --> union - intersection \n",
    "np.setxor1d(m,n)"
   ]
  },
  {
   "cell_type": "code",
   "execution_count": 107,
   "id": "3c1944ac-f0eb-472e-aa58-01fdb2a2c679",
   "metadata": {},
   "outputs": [
    {
     "data": {
      "text/plain": [
       "array([ True, False, False, False, False])"
      ]
     },
     "execution_count": 107,
     "metadata": {},
     "output_type": "execute_result"
    }
   ],
   "source": [
    "# np.in1d \n",
    "np.in1d(m,1)"
   ]
  },
  {
   "cell_type": "code",
   "execution_count": 109,
   "id": "d2400393-fa87-4129-9ad9-960cc01f3504",
   "metadata": {},
   "outputs": [
    {
     "data": {
      "text/plain": [
       "array([False, False, False, False, False])"
      ]
     },
     "execution_count": 109,
     "metadata": {},
     "output_type": "execute_result"
    }
   ],
   "source": [
    "np.in1d(m,10)"
   ]
  },
  {
   "cell_type": "code",
   "execution_count": 110,
   "id": "0bb540a1-7fd9-43d5-ad9f-760c7a06b3d0",
   "metadata": {},
   "outputs": [
    {
     "data": {
      "text/plain": [
       "array([1])"
      ]
     },
     "execution_count": 110,
     "metadata": {},
     "output_type": "execute_result"
    }
   ],
   "source": [
    "m[np.in1d(m,1)]"
   ]
  },
  {
   "cell_type": "markdown",
   "id": "9989829e-138b-4313-9028-333a5555c338",
   "metadata": {},
   "source": [
    "### np.clip"
   ]
  },
  {
   "cell_type": "code",
   "execution_count": 111,
   "id": "3ad9676f-0a84-4605-9102-8119cb92730c",
   "metadata": {},
   "outputs": [
    {
     "data": {
      "text/plain": [
       "array([110, 530,  41,  54,  15,  70,  33,  88,  39,  14,  29,  62,  15,\n",
       "        89,  61])"
      ]
     },
     "execution_count": 111,
     "metadata": {},
     "output_type": "execute_result"
    }
   ],
   "source": [
    "a"
   ]
  },
  {
   "cell_type": "code",
   "execution_count": 112,
   "id": "152257a2-c7cb-4d1c-9f56-a5e32f6a4d27",
   "metadata": {},
   "outputs": [
    {
     "data": {
      "text/plain": [
       "array([75, 75, 41, 54, 25, 70, 33, 75, 39, 25, 29, 62, 25, 75, 61])"
      ]
     },
     "execution_count": 112,
     "metadata": {},
     "output_type": "execute_result"
    }
   ],
   "source": [
    "np.clip(a,a_min=25,a_max=75)"
   ]
  },
  {
   "cell_type": "code",
   "execution_count": null,
   "id": "5975570d-e902-40db-8488-977ecb631a27",
   "metadata": {},
   "outputs": [],
   "source": []
  }
 ],
 "metadata": {
  "kernelspec": {
   "display_name": "Python 3 (ipykernel)",
   "language": "python",
   "name": "python3"
  },
  "language_info": {
   "codemirror_mode": {
    "name": "ipython",
    "version": 3
   },
   "file_extension": ".py",
   "mimetype": "text/x-python",
   "name": "python",
   "nbconvert_exporter": "python",
   "pygments_lexer": "ipython3",
   "version": "3.12.2"
  }
 },
 "nbformat": 4,
 "nbformat_minor": 5
}
