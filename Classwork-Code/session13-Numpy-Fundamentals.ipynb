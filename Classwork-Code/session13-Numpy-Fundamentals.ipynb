{
 "cells": [
  {
   "cell_type": "markdown",
   "id": "fa92b2cf-66aa-4faf-bdb8-272f72541f56",
   "metadata": {},
   "source": [
    "# Creating Numpy Arrays"
   ]
  },
  {
   "cell_type": "code",
   "execution_count": 3,
   "id": "7b215628-a665-4e58-a42c-21b815d7b63d",
   "metadata": {},
   "outputs": [],
   "source": [
    "# !pip install numpy "
   ]
  },
  {
   "cell_type": "code",
   "execution_count": 1,
   "id": "73306b45-3fcb-4d76-8ec3-61eef5df7a05",
   "metadata": {},
   "outputs": [],
   "source": [
    "# importing numpy array\n",
    "import numpy as np "
   ]
  },
  {
   "cell_type": "markdown",
   "id": "b4fa291a-e122-4765-bfdc-8e95963f55c0",
   "metadata": {},
   "source": [
    "## np.array"
   ]
  },
  {
   "cell_type": "code",
   "execution_count": 32,
   "id": "43084ec4-f503-4058-9818-9d9b978a5339",
   "metadata": {},
   "outputs": [
    {
     "name": "stdout",
     "output_type": "stream",
     "text": [
      "[1 2 3]\n",
      "<class 'numpy.ndarray'>\n",
      "1\n"
     ]
    }
   ],
   "source": [
    "# np.array\n",
    "#1D --> Vector\n",
    "a = np.array([1,2,3])     \n",
    "print(a)\n",
    "print(type(a))\n",
    "print(a.ndim)"
   ]
  },
  {
   "cell_type": "code",
   "execution_count": 33,
   "id": "6fed22a4-f40e-4f07-a592-dcf924c08b59",
   "metadata": {},
   "outputs": [
    {
     "name": "stdout",
     "output_type": "stream",
     "text": [
      "[[1 2 3]\n",
      " [4 5 6]]\n",
      "2\n"
     ]
    }
   ],
   "source": [
    "# 2D --> Matrix \n",
    "b = np.array([[1,2,3],[4,5,6]])\n",
    "print(b)\n",
    "print(b.ndim)"
   ]
  },
  {
   "cell_type": "code",
   "execution_count": 34,
   "id": "e1552c1d-d613-4a11-9b5f-d16043677f1f",
   "metadata": {},
   "outputs": [
    {
     "name": "stdout",
     "output_type": "stream",
     "text": [
      "[[[1 2]\n",
      "  [3 4]]\n",
      "\n",
      " [[5 6]\n",
      "  [7 8]]]\n",
      "3\n",
      "int32\n"
     ]
    }
   ],
   "source": [
    "# 3D --> Tensor\n",
    "c = np.array([[[1,2],[3,4]],[[5,6],[7,8]]])\n",
    "print(c)\n",
    "print(c.ndim)\n",
    "print(c.dtype)"
   ]
  },
  {
   "cell_type": "code",
   "execution_count": 35,
   "id": "806eba4c-b3dd-401e-9c4f-50d9a1652636",
   "metadata": {},
   "outputs": [
    {
     "name": "stdout",
     "output_type": "stream",
     "text": [
      "[1. 2. 3. 4.]\n",
      "<class 'numpy.ndarray'>\n",
      "float64\n"
     ]
    }
   ],
   "source": [
    "# dtype argument \n",
    "f = np.array([1,2,3,4],dtype=float)\n",
    "print(f)\n",
    "print(type(f))\n",
    "# dtype property \n",
    "print(f.dtype)"
   ]
  },
  {
   "cell_type": "code",
   "execution_count": 36,
   "id": "a4fa3eb8-425a-4191-a02d-8a20932bc90e",
   "metadata": {},
   "outputs": [
    {
     "name": "stdout",
     "output_type": "stream",
     "text": [
      "[ True  True  True  True]\n",
      "<class 'numpy.ndarray'>\n",
      "bool\n"
     ]
    }
   ],
   "source": [
    "f = np.array([1,2,3,4],dtype=bool)\n",
    "print(f)\n",
    "print(type(f))\n",
    "print(f.dtype)"
   ]
  },
  {
   "cell_type": "code",
   "execution_count": 63,
   "id": "48d5c73c-061b-4324-a42b-e58f5486e299",
   "metadata": {},
   "outputs": [
    {
     "data": {
      "text/plain": [
       "array(['1', '2', '3', '4'], dtype='<U1')"
      ]
     },
     "execution_count": 63,
     "metadata": {},
     "output_type": "execute_result"
    }
   ],
   "source": [
    "np.array([1,2,3,4],dtype=str)"
   ]
  },
  {
   "cell_type": "markdown",
   "id": "056209e5-b3be-4c23-98a3-1fa7aa8dc9c7",
   "metadata": {},
   "source": [
    "## np.arange"
   ]
  },
  {
   "cell_type": "code",
   "execution_count": 37,
   "id": "098afb20-fdf5-43e5-8b27-ac8816463f46",
   "metadata": {},
   "outputs": [
    {
     "name": "stdout",
     "output_type": "stream",
     "text": [
      "[ 1  2  3  4  5  6  7  8  9 10]\n"
     ]
    }
   ],
   "source": [
    "a = np.arange(1,11)\n",
    "print(a)"
   ]
  },
  {
   "cell_type": "code",
   "execution_count": 38,
   "id": "3e4bb5a0-3d47-4db1-81ff-d559fe27ca21",
   "metadata": {},
   "outputs": [
    {
     "name": "stdout",
     "output_type": "stream",
     "text": [
      "[1 3 5 7 9]\n"
     ]
    }
   ],
   "source": [
    "a = np.arange(1,11,2)\n",
    "print(a)"
   ]
  },
  {
   "cell_type": "code",
   "execution_count": 42,
   "id": "0b5d9054-cb98-4b1d-81a4-c943ac0f508d",
   "metadata": {},
   "outputs": [
    {
     "data": {
      "text/plain": [
       "array([ 1.,  2.,  3.,  4.,  5.,  6.,  7.,  8.,  9., 10.])"
      ]
     },
     "execution_count": 42,
     "metadata": {},
     "output_type": "execute_result"
    }
   ],
   "source": [
    "# dtype argument \n",
    "np.arange(1,11,dtype=float)"
   ]
  },
  {
   "cell_type": "code",
   "execution_count": 62,
   "id": "2573fbe8-ee70-4aab-97f6-ec162e68eb6c",
   "metadata": {},
   "outputs": [
    {
     "ename": "TypeError",
     "evalue": "arange() not supported for inputs with DType <class 'numpy.dtypes.StrDType'>.",
     "output_type": "error",
     "traceback": [
      "\u001b[1;31m---------------------------------------------------------------------------\u001b[0m",
      "\u001b[1;31mTypeError\u001b[0m                                 Traceback (most recent call last)",
      "Cell \u001b[1;32mIn[62], line 1\u001b[0m\n\u001b[1;32m----> 1\u001b[0m \u001b[43mnp\u001b[49m\u001b[38;5;241;43m.\u001b[39;49m\u001b[43marange\u001b[49m\u001b[43m(\u001b[49m\u001b[38;5;241;43m1\u001b[39;49m\u001b[43m,\u001b[49m\u001b[38;5;241;43m11\u001b[39;49m\u001b[43m,\u001b[49m\u001b[43mdtype\u001b[49m\u001b[38;5;241;43m=\u001b[39;49m\u001b[38;5;28;43mstr\u001b[39;49m\u001b[43m)\u001b[49m\n",
      "\u001b[1;31mTypeError\u001b[0m: arange() not supported for inputs with DType <class 'numpy.dtypes.StrDType'>."
     ]
    }
   ],
   "source": [
    "np.arange(1,11,dtype=str)"
   ]
  },
  {
   "cell_type": "markdown",
   "id": "e863ad3d-bd86-4324-b929-e9515f3de2a9",
   "metadata": {},
   "source": [
    "## np.arange with reshape"
   ]
  },
  {
   "cell_type": "code",
   "execution_count": 49,
   "id": "00e909b1-42a6-4ae1-bc6d-76fbd8869fc1",
   "metadata": {},
   "outputs": [
    {
     "name": "stdout",
     "output_type": "stream",
     "text": [
      "[[ 1  2]\n",
      " [ 3  4]\n",
      " [ 5  6]\n",
      " [ 7  8]\n",
      " [ 9 10]]\n",
      "2\n",
      "10\n",
      "2\n"
     ]
    }
   ],
   "source": [
    "# np.arange with reshape\n",
    "a = np.arange(1,11).reshape(5,2)\n",
    "print(a)\n",
    "print(a.ndim)\n",
    "print(a.size)\n",
    "print(a[0].size)"
   ]
  },
  {
   "cell_type": "code",
   "execution_count": 48,
   "id": "65ab310e-bf8d-4ecf-9948-c44d7805756b",
   "metadata": {},
   "outputs": [
    {
     "name": "stdout",
     "output_type": "stream",
     "text": [
      "[[ 1  2  3  4  5]\n",
      " [ 6  7  8  9 10]]\n",
      "2\n",
      "10\n",
      "5\n"
     ]
    }
   ],
   "source": [
    "a = np.arange(1,11).reshape(2,5)\n",
    "print(a)\n",
    "print(a.ndim)\n",
    "print(a.size)\n",
    "print(a[0].size) "
   ]
  },
  {
   "cell_type": "code",
   "execution_count": 50,
   "id": "11458edb-d4b7-4ecd-8546-1c735e34710e",
   "metadata": {},
   "outputs": [
    {
     "ename": "ValueError",
     "evalue": "cannot reshape array of size 10 into shape (5,5)",
     "output_type": "error",
     "traceback": [
      "\u001b[1;31m---------------------------------------------------------------------------\u001b[0m",
      "\u001b[1;31mValueError\u001b[0m                                Traceback (most recent call last)",
      "Cell \u001b[1;32mIn[50], line 1\u001b[0m\n\u001b[1;32m----> 1\u001b[0m a \u001b[38;5;241m=\u001b[39m \u001b[43mnp\u001b[49m\u001b[38;5;241;43m.\u001b[39;49m\u001b[43marange\u001b[49m\u001b[43m(\u001b[49m\u001b[38;5;241;43m1\u001b[39;49m\u001b[43m,\u001b[49m\u001b[38;5;241;43m11\u001b[39;49m\u001b[43m)\u001b[49m\u001b[38;5;241;43m.\u001b[39;49m\u001b[43mreshape\u001b[49m\u001b[43m(\u001b[49m\u001b[38;5;241;43m5\u001b[39;49m\u001b[43m,\u001b[49m\u001b[38;5;241;43m5\u001b[39;49m\u001b[43m)\u001b[49m\n",
      "\u001b[1;31mValueError\u001b[0m: cannot reshape array of size 10 into shape (5,5)"
     ]
    }
   ],
   "source": [
    "a = np.arange(1,11).reshape(5,5)\n",
    "# the product of reshape fucntion arguments must match with the size of original array "
   ]
  },
  {
   "cell_type": "markdown",
   "id": "7f07b1f7-6999-44c8-8af6-82f071d8518c",
   "metadata": {},
   "source": [
    "## np.ones"
   ]
  },
  {
   "cell_type": "code",
   "execution_count": 56,
   "id": "b4dc6e4e-6520-42fa-977b-ecc8d8ecf93b",
   "metadata": {},
   "outputs": [
    {
     "name": "stdout",
     "output_type": "stream",
     "text": [
      "[[1. 1. 1. 1.]\n",
      " [1. 1. 1. 1.]\n",
      " [1. 1. 1. 1.]]\n",
      "float64\n",
      "12\n",
      "2\n"
     ]
    }
   ],
   "source": [
    "a = np.ones((3,4))\n",
    "print(a)\n",
    "print(a.dtype)\n",
    "print(a.size)\n",
    "print(a.ndim)"
   ]
  },
  {
   "cell_type": "code",
   "execution_count": 59,
   "id": "d0ef3d53-cbee-43ae-b787-95c5721d124b",
   "metadata": {},
   "outputs": [
    {
     "name": "stdout",
     "output_type": "stream",
     "text": [
      "[[1 1 1 1]\n",
      " [1 1 1 1]\n",
      " [1 1 1 1]]\n",
      "int32\n"
     ]
    }
   ],
   "source": [
    "# dtype argument\n",
    "a = np.ones((3,4),dtype=int)\n",
    "print(a)\n",
    "print(a.dtype)"
   ]
  },
  {
   "cell_type": "code",
   "execution_count": 25,
   "id": "c22cece9-52b4-4d87-9b47-069374ba212e",
   "metadata": {},
   "outputs": [
    {
     "name": "stdout",
     "output_type": "stream",
     "text": [
      "[['1' '1' '1' '1']\n",
      " ['1' '1' '1' '1']\n",
      " ['1' '1' '1' '1']]\n",
      "<U1\n"
     ]
    }
   ],
   "source": [
    "a = np.ones((3,4),dtype=str)\n",
    "print(a)\n",
    "print(a.dtype)"
   ]
  },
  {
   "cell_type": "markdown",
   "id": "79c0c1bc-1c12-43db-adf4-b17e0c861985",
   "metadata": {},
   "source": [
    "## np.zeros"
   ]
  },
  {
   "cell_type": "code",
   "execution_count": 65,
   "id": "8b937c68-bf50-4e42-9949-f31f3f7e5b43",
   "metadata": {},
   "outputs": [
    {
     "name": "stdout",
     "output_type": "stream",
     "text": [
      "[[0. 0. 0. 0.]\n",
      " [0. 0. 0. 0.]\n",
      " [0. 0. 0. 0.]]\n"
     ]
    }
   ],
   "source": [
    "a = np.zeros((3,4))\n",
    "print(a)"
   ]
  },
  {
   "cell_type": "code",
   "execution_count": 66,
   "id": "294bfa4a-b28e-4f1e-92a0-41f1efea395b",
   "metadata": {},
   "outputs": [
    {
     "name": "stdout",
     "output_type": "stream",
     "text": [
      "[[0 0 0 0]\n",
      " [0 0 0 0]\n",
      " [0 0 0 0]]\n"
     ]
    }
   ],
   "source": [
    "# dtype\n",
    "a = np.zeros((3,4),dtype=int)\n",
    "print(a)"
   ]
  },
  {
   "cell_type": "code",
   "execution_count": 67,
   "id": "bfcdc6a5-33d7-430c-bad3-c53266ec89c7",
   "metadata": {},
   "outputs": [
    {
     "name": "stdout",
     "output_type": "stream",
     "text": [
      "[['' '' '' '']\n",
      " ['' '' '' '']\n",
      " ['' '' '' '']]\n"
     ]
    }
   ],
   "source": [
    "a = np.zeros((3,4),dtype=str)\n",
    "print(a)"
   ]
  },
  {
   "cell_type": "markdown",
   "id": "e80e3aed-b482-4c44-851d-ed9273c025c4",
   "metadata": {},
   "source": [
    "## np.random"
   ]
  },
  {
   "cell_type": "code",
   "execution_count": 3,
   "id": "31de2749-9500-44f1-9dee-92ab6a487e63",
   "metadata": {},
   "outputs": [
    {
     "data": {
      "text/plain": [
       "array([[0.37741288, 0.80561576, 0.35313412, 0.58586546],\n",
       "       [0.61090571, 0.95897079, 0.84980312, 0.07385235],\n",
       "       [0.15979422, 0.93981131, 0.3718731 , 0.1454118 ]])"
      ]
     },
     "execution_count": 3,
     "metadata": {},
     "output_type": "execute_result"
    }
   ],
   "source": [
    "np.random.random((3,4))"
   ]
  },
  {
   "cell_type": "markdown",
   "id": "235cc509-c6aa-4173-9370-9c0a9bee9b8b",
   "metadata": {},
   "source": [
    "## np.linspace"
   ]
  },
  {
   "cell_type": "code",
   "execution_count": 6,
   "id": "9099ddbc-edc9-4b4e-8722-9e447cc7da13",
   "metadata": {},
   "outputs": [
    {
     "name": "stdout",
     "output_type": "stream",
     "text": [
      "[-10.          -8.94736842  -7.89473684  -6.84210526  -5.78947368\n",
      "  -4.73684211  -3.68421053  -2.63157895  -1.57894737  -0.52631579\n",
      "   0.52631579   1.57894737   2.63157895   3.68421053   4.73684211\n",
      "   5.78947368   6.84210526   7.89473684   8.94736842  10.        ]\n"
     ]
    }
   ],
   "source": [
    "a = np.linspace(-10,10,20)\n",
    "print(a)"
   ]
  },
  {
   "cell_type": "code",
   "execution_count": 7,
   "id": "eacca5c1-714b-46b2-8858-b34b27feed5d",
   "metadata": {},
   "outputs": [
    {
     "name": "stdout",
     "output_type": "stream",
     "text": [
      "1.0526315789473681\n"
     ]
    }
   ],
   "source": [
    "print(a[1] - a[0])"
   ]
  },
  {
   "cell_type": "code",
   "execution_count": 8,
   "id": "d1f077df-1e58-4dc5-9437-c77097d9485c",
   "metadata": {},
   "outputs": [
    {
     "name": "stdout",
     "output_type": "stream",
     "text": [
      "1.0526315789473681\n"
     ]
    }
   ],
   "source": [
    "print(a[2] - a[1])"
   ]
  },
  {
   "cell_type": "code",
   "execution_count": 10,
   "id": "55deb068-dcf9-4ca4-aeef-172aff326f45",
   "metadata": {},
   "outputs": [
    {
     "name": "stdout",
     "output_type": "stream",
     "text": [
      "1.05263157894737\n"
     ]
    }
   ],
   "source": [
    "print(a[19] - a[18])"
   ]
  },
  {
   "cell_type": "markdown",
   "id": "54a211c2-607b-4827-a6dd-28dec697ed99",
   "metadata": {},
   "source": [
    "## np.identity"
   ]
  },
  {
   "cell_type": "code",
   "execution_count": 11,
   "id": "a0d71b56-092b-4f2d-a8e1-46aa074891e9",
   "metadata": {},
   "outputs": [
    {
     "data": {
      "text/plain": [
       "array([[1., 0., 0.],\n",
       "       [0., 1., 0.],\n",
       "       [0., 0., 1.]])"
      ]
     },
     "execution_count": 11,
     "metadata": {},
     "output_type": "execute_result"
    }
   ],
   "source": [
    "np.identity(3)"
   ]
  },
  {
   "cell_type": "markdown",
   "id": "ad2c14ec-4f2b-44d0-86c0-96832450d7b2",
   "metadata": {},
   "source": [
    "# Numpy Array Attributes"
   ]
  },
  {
   "cell_type": "code",
   "execution_count": 26,
   "id": "40d5d918-1d23-4940-98cc-87644a190089",
   "metadata": {},
   "outputs": [],
   "source": [
    "a1 = np.arange(10)\n",
    "a2 = np.arange(12,dtype=float).reshape(3,4)\n",
    "a3 = np.arange(8).reshape(2,2,2)"
   ]
  },
  {
   "cell_type": "markdown",
   "id": "ec819ccf-62a5-4006-be72-c7be6e388d96",
   "metadata": {},
   "source": [
    "## ndim"
   ]
  },
  {
   "cell_type": "code",
   "execution_count": 27,
   "id": "13698db2-a9eb-430e-8990-76c891caebbb",
   "metadata": {},
   "outputs": [
    {
     "name": "stdout",
     "output_type": "stream",
     "text": [
      "1\n",
      "2\n",
      "3\n"
     ]
    }
   ],
   "source": [
    "print(a1.ndim)\n",
    "print(a2.ndim) \n",
    "print(a3.ndim)"
   ]
  },
  {
   "cell_type": "markdown",
   "id": "9047af3b-33ad-421d-9142-58426cdd36b2",
   "metadata": {},
   "source": [
    "## shape "
   ]
  },
  {
   "cell_type": "code",
   "execution_count": 28,
   "id": "f42023f8-fdc2-4e29-bb64-458f425b3354",
   "metadata": {},
   "outputs": [
    {
     "name": "stdout",
     "output_type": "stream",
     "text": [
      "(10,)\n",
      "(3, 4)\n",
      "(2, 2, 2)\n"
     ]
    }
   ],
   "source": [
    "print(a1.shape)\n",
    "print(a2.shape)\n",
    "print(a3.shape)"
   ]
  },
  {
   "cell_type": "markdown",
   "id": "819bcdd6-cd41-4819-9bb7-91e5112eee15",
   "metadata": {},
   "source": [
    "## size"
   ]
  },
  {
   "cell_type": "code",
   "execution_count": 29,
   "id": "4cee2966-beae-4751-a4b5-c38606965df2",
   "metadata": {},
   "outputs": [
    {
     "name": "stdout",
     "output_type": "stream",
     "text": [
      "10\n",
      "12\n",
      "8\n"
     ]
    }
   ],
   "source": [
    "print(a1.size)\n",
    "print(a2.size)\n",
    "print(a3.size)"
   ]
  },
  {
   "cell_type": "markdown",
   "id": "e48935cc-715b-4419-bb4c-f9439cf8367c",
   "metadata": {},
   "source": [
    "## itemsize"
   ]
  },
  {
   "cell_type": "code",
   "execution_count": 30,
   "id": "3d890313-6562-4844-a160-759cc8d95a1e",
   "metadata": {},
   "outputs": [
    {
     "name": "stdout",
     "output_type": "stream",
     "text": [
      "4\n",
      "8\n",
      "4\n"
     ]
    }
   ],
   "source": [
    "print(a1.itemsize)\n",
    "print(a2.itemsize)\n",
    "print(a3.itemsize)"
   ]
  },
  {
   "cell_type": "markdown",
   "id": "58b304b7-445e-408d-8569-46d25ef4ce57",
   "metadata": {},
   "source": [
    "## dtype"
   ]
  },
  {
   "cell_type": "code",
   "execution_count": 31,
   "id": "0800a072-0ce9-47f7-a4b6-821ec0c7dbc1",
   "metadata": {},
   "outputs": [
    {
     "name": "stdout",
     "output_type": "stream",
     "text": [
      "int32\n",
      "float64\n",
      "float64\n"
     ]
    }
   ],
   "source": [
    "print(a1.dtype)\n",
    "print(a2.dtype)\n",
    "print(a2.dtype)"
   ]
  },
  {
   "cell_type": "markdown",
   "id": "402beb10-ffb0-4261-9f68-e287ce273e4d",
   "metadata": {},
   "source": [
    "# Changing Datatype --> astype"
   ]
  },
  {
   "cell_type": "code",
   "execution_count": 35,
   "id": "12121c5e-a11c-45b3-9994-dc430d6bc8a6",
   "metadata": {},
   "outputs": [
    {
     "data": {
      "text/plain": [
       "dtype('int32')"
      ]
     },
     "execution_count": 35,
     "metadata": {},
     "output_type": "execute_result"
    }
   ],
   "source": [
    "a3.dtype"
   ]
  },
  {
   "cell_type": "code",
   "execution_count": 36,
   "id": "88a094a8-7860-426d-816c-99876dd2c70c",
   "metadata": {},
   "outputs": [
    {
     "data": {
      "text/plain": [
       "array([[[0, 1],\n",
       "        [2, 3]],\n",
       "\n",
       "       [[4, 5],\n",
       "        [6, 7]]], dtype=int16)"
      ]
     },
     "execution_count": 36,
     "metadata": {},
     "output_type": "execute_result"
    }
   ],
   "source": [
    "a3.astype(np.int16)"
   ]
  },
  {
   "cell_type": "markdown",
   "id": "4da905cb-d8ad-4763-bd74-d537a19f2deb",
   "metadata": {},
   "source": [
    "# Array Operations"
   ]
  },
  {
   "cell_type": "code",
   "execution_count": 38,
   "id": "127329c9-b521-4471-81b1-d80448da0d5e",
   "metadata": {},
   "outputs": [],
   "source": [
    "a1 = np.arange(12).reshape(3,4)\n",
    "a2 = np.arange(12,24).reshape(3,4)"
   ]
  },
  {
   "cell_type": "code",
   "execution_count": 39,
   "id": "f630c4d4-d88a-45d8-854c-21e238e9fa9c",
   "metadata": {},
   "outputs": [
    {
     "name": "stdout",
     "output_type": "stream",
     "text": [
      "[[ 0  1  2  3]\n",
      " [ 4  5  6  7]\n",
      " [ 8  9 10 11]]\n"
     ]
    }
   ],
   "source": [
    "print(a1)"
   ]
  },
  {
   "cell_type": "code",
   "execution_count": 40,
   "id": "5ba5f420-5fbd-4e02-a1bb-ae747df2ba91",
   "metadata": {},
   "outputs": [
    {
     "name": "stdout",
     "output_type": "stream",
     "text": [
      "[[12 13 14 15]\n",
      " [16 17 18 19]\n",
      " [20 21 22 23]]\n"
     ]
    }
   ],
   "source": [
    "print(a2)"
   ]
  },
  {
   "cell_type": "markdown",
   "id": "9cb46c66-688a-4f7e-96ae-bc2b9405afc3",
   "metadata": {},
   "source": [
    "## scalar operations"
   ]
  },
  {
   "cell_type": "markdown",
   "id": "c295727b-218b-4786-9609-944654e3ceb2",
   "metadata": {},
   "source": [
    "### arithmetic "
   ]
  },
  {
   "cell_type": "code",
   "execution_count": 44,
   "id": "4241b13d-8ecc-4fb3-a2d6-145b20c8c453",
   "metadata": {},
   "outputs": [
    {
     "data": {
      "text/plain": [
       "array([[ 0,  2,  4,  6],\n",
       "       [ 8, 10, 12, 14],\n",
       "       [16, 18, 20, 22]])"
      ]
     },
     "execution_count": 44,
     "metadata": {},
     "output_type": "execute_result"
    }
   ],
   "source": [
    "a1 * 2\n",
    "# matrix * scalar "
   ]
  },
  {
   "cell_type": "code",
   "execution_count": 45,
   "id": "2d8a927d-0ef8-4787-99e7-937906fd5bfb",
   "metadata": {},
   "outputs": [
    {
     "name": "stdout",
     "output_type": "stream",
     "text": [
      "[[ 0  1  2  3]\n",
      " [ 4  5  6  7]\n",
      " [ 8  9 10 11]]\n"
     ]
    }
   ],
   "source": [
    "print(a1)"
   ]
  },
  {
   "cell_type": "markdown",
   "id": "8fd67e88-ee53-4eb4-b487-a3547ed779fa",
   "metadata": {},
   "source": [
    "### relational "
   ]
  },
  {
   "cell_type": "code",
   "execution_count": 48,
   "id": "fe7a7e6b-3799-4e66-9a54-4e4e9f232a44",
   "metadata": {},
   "outputs": [
    {
     "data": {
      "text/plain": [
       "array([[ True,  True,  True,  True],\n",
       "       [ True, False, False, False],\n",
       "       [False, False, False, False]])"
      ]
     },
     "execution_count": 48,
     "metadata": {},
     "output_type": "execute_result"
    }
   ],
   "source": [
    "a1 < 5"
   ]
  },
  {
   "cell_type": "code",
   "execution_count": 49,
   "id": "8d609487-754b-456c-bafb-e6a8eea5e134",
   "metadata": {},
   "outputs": [
    {
     "data": {
      "text/plain": [
       "array([[False, False, False, False],\n",
       "       [False,  True, False, False],\n",
       "       [False, False, False, False]])"
      ]
     },
     "execution_count": 49,
     "metadata": {},
     "output_type": "execute_result"
    }
   ],
   "source": [
    "a1 == 5"
   ]
  },
  {
   "cell_type": "markdown",
   "id": "2bb74fec-96ca-4457-aa82-1ae82917012e",
   "metadata": {},
   "source": [
    "## vector operations"
   ]
  },
  {
   "cell_type": "markdown",
   "id": "1c653c6d-2e3f-4b6e-8cae-861d8e19eb3d",
   "metadata": {},
   "source": [
    "### arithmetic"
   ]
  },
  {
   "cell_type": "code",
   "execution_count": 50,
   "id": "0c439575-50ae-4fbc-a584-43e2f5c92302",
   "metadata": {},
   "outputs": [
    {
     "data": {
      "text/plain": [
       "array([[12, 14, 16, 18],\n",
       "       [20, 22, 24, 26],\n",
       "       [28, 30, 32, 34]])"
      ]
     },
     "execution_count": 50,
     "metadata": {},
     "output_type": "execute_result"
    }
   ],
   "source": [
    "a1 + a2 "
   ]
  },
  {
   "cell_type": "code",
   "execution_count": 51,
   "id": "51f33c0c-e0be-4580-8601-ec4da67815f5",
   "metadata": {},
   "outputs": [
    {
     "data": {
      "text/plain": [
       "array([[-12, -12, -12, -12],\n",
       "       [-12, -12, -12, -12],\n",
       "       [-12, -12, -12, -12]])"
      ]
     },
     "execution_count": 51,
     "metadata": {},
     "output_type": "execute_result"
    }
   ],
   "source": [
    "a1 - a2 "
   ]
  },
  {
   "cell_type": "code",
   "execution_count": 52,
   "id": "022ea1c1-ac93-4c03-ad57-fff71ff354c7",
   "metadata": {},
   "outputs": [
    {
     "data": {
      "text/plain": [
       "array([[  0,  13,  28,  45],\n",
       "       [ 64,  85, 108, 133],\n",
       "       [160, 189, 220, 253]])"
      ]
     },
     "execution_count": 52,
     "metadata": {},
     "output_type": "execute_result"
    }
   ],
   "source": [
    "a1 * a2 "
   ]
  },
  {
   "cell_type": "markdown",
   "id": "0ac4b09a-7520-45a7-ac8a-2cf158fbb12f",
   "metadata": {},
   "source": [
    "# Array Fucntions"
   ]
  },
  {
   "cell_type": "code",
   "execution_count": null,
   "id": "92ed1b6e-955e-48ea-b337-98f0cb52fd8d",
   "metadata": {},
   "outputs": [],
   "source": []
  }
 ],
 "metadata": {
  "kernelspec": {
   "display_name": "Python 3 (ipykernel)",
   "language": "python",
   "name": "python3"
  },
  "language_info": {
   "codemirror_mode": {
    "name": "ipython",
    "version": 3
   },
   "file_extension": ".py",
   "mimetype": "text/x-python",
   "name": "python",
   "nbconvert_exporter": "python",
   "pygments_lexer": "ipython3",
   "version": "3.12.2"
  }
 },
 "nbformat": 4,
 "nbformat_minor": 5
}
