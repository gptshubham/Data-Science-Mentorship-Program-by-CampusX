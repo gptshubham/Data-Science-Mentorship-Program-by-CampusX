{
 "cells": [
  {
   "cell_type": "markdown",
   "id": "fa92b2cf-66aa-4faf-bdb8-272f72541f56",
   "metadata": {
    "jp-MarkdownHeadingCollapsed": true
   },
   "source": [
    "# Creating Numpy Arrays"
   ]
  },
  {
   "cell_type": "code",
   "execution_count": 3,
   "id": "7b215628-a665-4e58-a42c-21b815d7b63d",
   "metadata": {},
   "outputs": [],
   "source": [
    "# !pip install numpy "
   ]
  },
  {
   "cell_type": "code",
   "execution_count": 1,
   "id": "73306b45-3fcb-4d76-8ec3-61eef5df7a05",
   "metadata": {},
   "outputs": [],
   "source": [
    "# importing numpy array\n",
    "import numpy as np "
   ]
  },
  {
   "cell_type": "markdown",
   "id": "b4fa291a-e122-4765-bfdc-8e95963f55c0",
   "metadata": {
    "jp-MarkdownHeadingCollapsed": true
   },
   "source": [
    "## np.array"
   ]
  },
  {
   "cell_type": "code",
   "execution_count": 32,
   "id": "43084ec4-f503-4058-9818-9d9b978a5339",
   "metadata": {},
   "outputs": [
    {
     "name": "stdout",
     "output_type": "stream",
     "text": [
      "[1 2 3]\n",
      "<class 'numpy.ndarray'>\n",
      "1\n"
     ]
    }
   ],
   "source": [
    "# np.array\n",
    "#1D --> Vector\n",
    "a = np.array([1,2,3])     \n",
    "print(a)\n",
    "print(type(a))\n",
    "print(a.ndim)"
   ]
  },
  {
   "cell_type": "code",
   "execution_count": 33,
   "id": "6fed22a4-f40e-4f07-a592-dcf924c08b59",
   "metadata": {},
   "outputs": [
    {
     "name": "stdout",
     "output_type": "stream",
     "text": [
      "[[1 2 3]\n",
      " [4 5 6]]\n",
      "2\n"
     ]
    }
   ],
   "source": [
    "# 2D --> Matrix \n",
    "b = np.array([[1,2,3],[4,5,6]])\n",
    "print(b)\n",
    "print(b.ndim)"
   ]
  },
  {
   "cell_type": "code",
   "execution_count": 34,
   "id": "e1552c1d-d613-4a11-9b5f-d16043677f1f",
   "metadata": {},
   "outputs": [
    {
     "name": "stdout",
     "output_type": "stream",
     "text": [
      "[[[1 2]\n",
      "  [3 4]]\n",
      "\n",
      " [[5 6]\n",
      "  [7 8]]]\n",
      "3\n",
      "int32\n"
     ]
    }
   ],
   "source": [
    "# 3D --> Tensor\n",
    "c = np.array([[[1,2],[3,4]],[[5,6],[7,8]]])\n",
    "print(c)\n",
    "print(c.ndim)\n",
    "print(c.dtype)"
   ]
  },
  {
   "cell_type": "code",
   "execution_count": 35,
   "id": "806eba4c-b3dd-401e-9c4f-50d9a1652636",
   "metadata": {},
   "outputs": [
    {
     "name": "stdout",
     "output_type": "stream",
     "text": [
      "[1. 2. 3. 4.]\n",
      "<class 'numpy.ndarray'>\n",
      "float64\n"
     ]
    }
   ],
   "source": [
    "# dtype argument \n",
    "f = np.array([1,2,3,4],dtype=float)\n",
    "print(f)\n",
    "print(type(f))\n",
    "# dtype property \n",
    "print(f.dtype)"
   ]
  },
  {
   "cell_type": "code",
   "execution_count": 36,
   "id": "a4fa3eb8-425a-4191-a02d-8a20932bc90e",
   "metadata": {},
   "outputs": [
    {
     "name": "stdout",
     "output_type": "stream",
     "text": [
      "[ True  True  True  True]\n",
      "<class 'numpy.ndarray'>\n",
      "bool\n"
     ]
    }
   ],
   "source": [
    "f = np.array([1,2,3,4],dtype=bool)\n",
    "print(f)\n",
    "print(type(f))\n",
    "print(f.dtype)"
   ]
  },
  {
   "cell_type": "code",
   "execution_count": 63,
   "id": "48d5c73c-061b-4324-a42b-e58f5486e299",
   "metadata": {},
   "outputs": [
    {
     "data": {
      "text/plain": [
       "array(['1', '2', '3', '4'], dtype='<U1')"
      ]
     },
     "execution_count": 63,
     "metadata": {},
     "output_type": "execute_result"
    }
   ],
   "source": [
    "np.array([1,2,3,4],dtype=str)"
   ]
  },
  {
   "cell_type": "markdown",
   "id": "056209e5-b3be-4c23-98a3-1fa7aa8dc9c7",
   "metadata": {
    "jp-MarkdownHeadingCollapsed": true
   },
   "source": [
    "## np.arange"
   ]
  },
  {
   "cell_type": "code",
   "execution_count": 37,
   "id": "098afb20-fdf5-43e5-8b27-ac8816463f46",
   "metadata": {},
   "outputs": [
    {
     "name": "stdout",
     "output_type": "stream",
     "text": [
      "[ 1  2  3  4  5  6  7  8  9 10]\n"
     ]
    }
   ],
   "source": [
    "a = np.arange(1,11)\n",
    "print(a)"
   ]
  },
  {
   "cell_type": "code",
   "execution_count": 38,
   "id": "3e4bb5a0-3d47-4db1-81ff-d559fe27ca21",
   "metadata": {},
   "outputs": [
    {
     "name": "stdout",
     "output_type": "stream",
     "text": [
      "[1 3 5 7 9]\n"
     ]
    }
   ],
   "source": [
    "a = np.arange(1,11,2)\n",
    "print(a)"
   ]
  },
  {
   "cell_type": "code",
   "execution_count": 42,
   "id": "0b5d9054-cb98-4b1d-81a4-c943ac0f508d",
   "metadata": {},
   "outputs": [
    {
     "data": {
      "text/plain": [
       "array([ 1.,  2.,  3.,  4.,  5.,  6.,  7.,  8.,  9., 10.])"
      ]
     },
     "execution_count": 42,
     "metadata": {},
     "output_type": "execute_result"
    }
   ],
   "source": [
    "# dtype argument \n",
    "np.arange(1,11,dtype=float)"
   ]
  },
  {
   "cell_type": "code",
   "execution_count": 62,
   "id": "2573fbe8-ee70-4aab-97f6-ec162e68eb6c",
   "metadata": {},
   "outputs": [
    {
     "ename": "TypeError",
     "evalue": "arange() not supported for inputs with DType <class 'numpy.dtypes.StrDType'>.",
     "output_type": "error",
     "traceback": [
      "\u001b[1;31m---------------------------------------------------------------------------\u001b[0m",
      "\u001b[1;31mTypeError\u001b[0m                                 Traceback (most recent call last)",
      "Cell \u001b[1;32mIn[62], line 1\u001b[0m\n\u001b[1;32m----> 1\u001b[0m \u001b[43mnp\u001b[49m\u001b[38;5;241;43m.\u001b[39;49m\u001b[43marange\u001b[49m\u001b[43m(\u001b[49m\u001b[38;5;241;43m1\u001b[39;49m\u001b[43m,\u001b[49m\u001b[38;5;241;43m11\u001b[39;49m\u001b[43m,\u001b[49m\u001b[43mdtype\u001b[49m\u001b[38;5;241;43m=\u001b[39;49m\u001b[38;5;28;43mstr\u001b[39;49m\u001b[43m)\u001b[49m\n",
      "\u001b[1;31mTypeError\u001b[0m: arange() not supported for inputs with DType <class 'numpy.dtypes.StrDType'>."
     ]
    }
   ],
   "source": [
    "np.arange(1,11,dtype=str)"
   ]
  },
  {
   "cell_type": "markdown",
   "id": "e863ad3d-bd86-4324-b929-e9515f3de2a9",
   "metadata": {
    "jp-MarkdownHeadingCollapsed": true
   },
   "source": [
    "## np.arange with reshape"
   ]
  },
  {
   "cell_type": "code",
   "execution_count": 49,
   "id": "00e909b1-42a6-4ae1-bc6d-76fbd8869fc1",
   "metadata": {},
   "outputs": [
    {
     "name": "stdout",
     "output_type": "stream",
     "text": [
      "[[ 1  2]\n",
      " [ 3  4]\n",
      " [ 5  6]\n",
      " [ 7  8]\n",
      " [ 9 10]]\n",
      "2\n",
      "10\n",
      "2\n"
     ]
    }
   ],
   "source": [
    "# np.arange with reshape\n",
    "a = np.arange(1,11).reshape(5,2)\n",
    "print(a)\n",
    "print(a.ndim)\n",
    "print(a.size)\n",
    "print(a[0].size)"
   ]
  },
  {
   "cell_type": "code",
   "execution_count": 48,
   "id": "65ab310e-bf8d-4ecf-9948-c44d7805756b",
   "metadata": {},
   "outputs": [
    {
     "name": "stdout",
     "output_type": "stream",
     "text": [
      "[[ 1  2  3  4  5]\n",
      " [ 6  7  8  9 10]]\n",
      "2\n",
      "10\n",
      "5\n"
     ]
    }
   ],
   "source": [
    "a = np.arange(1,11).reshape(2,5)\n",
    "print(a)\n",
    "print(a.ndim)\n",
    "print(a.size)\n",
    "print(a[0].size) "
   ]
  },
  {
   "cell_type": "code",
   "execution_count": 50,
   "id": "11458edb-d4b7-4ecd-8546-1c735e34710e",
   "metadata": {},
   "outputs": [
    {
     "ename": "ValueError",
     "evalue": "cannot reshape array of size 10 into shape (5,5)",
     "output_type": "error",
     "traceback": [
      "\u001b[1;31m---------------------------------------------------------------------------\u001b[0m",
      "\u001b[1;31mValueError\u001b[0m                                Traceback (most recent call last)",
      "Cell \u001b[1;32mIn[50], line 1\u001b[0m\n\u001b[1;32m----> 1\u001b[0m a \u001b[38;5;241m=\u001b[39m \u001b[43mnp\u001b[49m\u001b[38;5;241;43m.\u001b[39;49m\u001b[43marange\u001b[49m\u001b[43m(\u001b[49m\u001b[38;5;241;43m1\u001b[39;49m\u001b[43m,\u001b[49m\u001b[38;5;241;43m11\u001b[39;49m\u001b[43m)\u001b[49m\u001b[38;5;241;43m.\u001b[39;49m\u001b[43mreshape\u001b[49m\u001b[43m(\u001b[49m\u001b[38;5;241;43m5\u001b[39;49m\u001b[43m,\u001b[49m\u001b[38;5;241;43m5\u001b[39;49m\u001b[43m)\u001b[49m\n",
      "\u001b[1;31mValueError\u001b[0m: cannot reshape array of size 10 into shape (5,5)"
     ]
    }
   ],
   "source": [
    "a = np.arange(1,11).reshape(5,5)\n",
    "# the product of reshape fucntion arguments must match with the size of original array "
   ]
  },
  {
   "cell_type": "markdown",
   "id": "7f07b1f7-6999-44c8-8af6-82f071d8518c",
   "metadata": {
    "jp-MarkdownHeadingCollapsed": true
   },
   "source": [
    "## np.ones"
   ]
  },
  {
   "cell_type": "code",
   "execution_count": 56,
   "id": "b4dc6e4e-6520-42fa-977b-ecc8d8ecf93b",
   "metadata": {},
   "outputs": [
    {
     "name": "stdout",
     "output_type": "stream",
     "text": [
      "[[1. 1. 1. 1.]\n",
      " [1. 1. 1. 1.]\n",
      " [1. 1. 1. 1.]]\n",
      "float64\n",
      "12\n",
      "2\n"
     ]
    }
   ],
   "source": [
    "a = np.ones((3,4))\n",
    "print(a)\n",
    "print(a.dtype)\n",
    "print(a.size)\n",
    "print(a.ndim)"
   ]
  },
  {
   "cell_type": "code",
   "execution_count": 59,
   "id": "d0ef3d53-cbee-43ae-b787-95c5721d124b",
   "metadata": {},
   "outputs": [
    {
     "name": "stdout",
     "output_type": "stream",
     "text": [
      "[[1 1 1 1]\n",
      " [1 1 1 1]\n",
      " [1 1 1 1]]\n",
      "int32\n"
     ]
    }
   ],
   "source": [
    "# dtype argument\n",
    "a = np.ones((3,4),dtype=int)\n",
    "print(a)\n",
    "print(a.dtype)"
   ]
  },
  {
   "cell_type": "code",
   "execution_count": 25,
   "id": "c22cece9-52b4-4d87-9b47-069374ba212e",
   "metadata": {},
   "outputs": [
    {
     "name": "stdout",
     "output_type": "stream",
     "text": [
      "[['1' '1' '1' '1']\n",
      " ['1' '1' '1' '1']\n",
      " ['1' '1' '1' '1']]\n",
      "<U1\n"
     ]
    }
   ],
   "source": [
    "a = np.ones((3,4),dtype=str)\n",
    "print(a)\n",
    "print(a.dtype)"
   ]
  },
  {
   "cell_type": "markdown",
   "id": "79c0c1bc-1c12-43db-adf4-b17e0c861985",
   "metadata": {
    "jp-MarkdownHeadingCollapsed": true
   },
   "source": [
    "## np.zeros"
   ]
  },
  {
   "cell_type": "code",
   "execution_count": 65,
   "id": "8b937c68-bf50-4e42-9949-f31f3f7e5b43",
   "metadata": {},
   "outputs": [
    {
     "name": "stdout",
     "output_type": "stream",
     "text": [
      "[[0. 0. 0. 0.]\n",
      " [0. 0. 0. 0.]\n",
      " [0. 0. 0. 0.]]\n"
     ]
    }
   ],
   "source": [
    "a = np.zeros((3,4))\n",
    "print(a)"
   ]
  },
  {
   "cell_type": "code",
   "execution_count": 66,
   "id": "294bfa4a-b28e-4f1e-92a0-41f1efea395b",
   "metadata": {},
   "outputs": [
    {
     "name": "stdout",
     "output_type": "stream",
     "text": [
      "[[0 0 0 0]\n",
      " [0 0 0 0]\n",
      " [0 0 0 0]]\n"
     ]
    }
   ],
   "source": [
    "# dtype\n",
    "a = np.zeros((3,4),dtype=int)\n",
    "print(a)"
   ]
  },
  {
   "cell_type": "code",
   "execution_count": 67,
   "id": "bfcdc6a5-33d7-430c-bad3-c53266ec89c7",
   "metadata": {},
   "outputs": [
    {
     "name": "stdout",
     "output_type": "stream",
     "text": [
      "[['' '' '' '']\n",
      " ['' '' '' '']\n",
      " ['' '' '' '']]\n"
     ]
    }
   ],
   "source": [
    "a = np.zeros((3,4),dtype=str)\n",
    "print(a)"
   ]
  },
  {
   "cell_type": "markdown",
   "id": "e80e3aed-b482-4c44-851d-ed9273c025c4",
   "metadata": {
    "jp-MarkdownHeadingCollapsed": true
   },
   "source": [
    "## np.random"
   ]
  },
  {
   "cell_type": "code",
   "execution_count": 3,
   "id": "31de2749-9500-44f1-9dee-92ab6a487e63",
   "metadata": {},
   "outputs": [
    {
     "data": {
      "text/plain": [
       "array([[0.37741288, 0.80561576, 0.35313412, 0.58586546],\n",
       "       [0.61090571, 0.95897079, 0.84980312, 0.07385235],\n",
       "       [0.15979422, 0.93981131, 0.3718731 , 0.1454118 ]])"
      ]
     },
     "execution_count": 3,
     "metadata": {},
     "output_type": "execute_result"
    }
   ],
   "source": [
    "np.random.random((3,4))"
   ]
  },
  {
   "cell_type": "markdown",
   "id": "235cc509-c6aa-4173-9370-9c0a9bee9b8b",
   "metadata": {
    "jp-MarkdownHeadingCollapsed": true
   },
   "source": [
    "## np.linspace"
   ]
  },
  {
   "cell_type": "code",
   "execution_count": 6,
   "id": "9099ddbc-edc9-4b4e-8722-9e447cc7da13",
   "metadata": {},
   "outputs": [
    {
     "name": "stdout",
     "output_type": "stream",
     "text": [
      "[-10.          -8.94736842  -7.89473684  -6.84210526  -5.78947368\n",
      "  -4.73684211  -3.68421053  -2.63157895  -1.57894737  -0.52631579\n",
      "   0.52631579   1.57894737   2.63157895   3.68421053   4.73684211\n",
      "   5.78947368   6.84210526   7.89473684   8.94736842  10.        ]\n"
     ]
    }
   ],
   "source": [
    "a = np.linspace(-10,10,20)\n",
    "print(a)"
   ]
  },
  {
   "cell_type": "code",
   "execution_count": 7,
   "id": "eacca5c1-714b-46b2-8858-b34b27feed5d",
   "metadata": {},
   "outputs": [
    {
     "name": "stdout",
     "output_type": "stream",
     "text": [
      "1.0526315789473681\n"
     ]
    }
   ],
   "source": [
    "print(a[1] - a[0])"
   ]
  },
  {
   "cell_type": "code",
   "execution_count": 8,
   "id": "d1f077df-1e58-4dc5-9437-c77097d9485c",
   "metadata": {},
   "outputs": [
    {
     "name": "stdout",
     "output_type": "stream",
     "text": [
      "1.0526315789473681\n"
     ]
    }
   ],
   "source": [
    "print(a[2] - a[1])"
   ]
  },
  {
   "cell_type": "code",
   "execution_count": 10,
   "id": "55deb068-dcf9-4ca4-aeef-172aff326f45",
   "metadata": {},
   "outputs": [
    {
     "name": "stdout",
     "output_type": "stream",
     "text": [
      "1.05263157894737\n"
     ]
    }
   ],
   "source": [
    "print(a[19] - a[18])"
   ]
  },
  {
   "cell_type": "markdown",
   "id": "54a211c2-607b-4827-a6dd-28dec697ed99",
   "metadata": {
    "jp-MarkdownHeadingCollapsed": true
   },
   "source": [
    "## np.identity"
   ]
  },
  {
   "cell_type": "code",
   "execution_count": 11,
   "id": "a0d71b56-092b-4f2d-a8e1-46aa074891e9",
   "metadata": {},
   "outputs": [
    {
     "data": {
      "text/plain": [
       "array([[1., 0., 0.],\n",
       "       [0., 1., 0.],\n",
       "       [0., 0., 1.]])"
      ]
     },
     "execution_count": 11,
     "metadata": {},
     "output_type": "execute_result"
    }
   ],
   "source": [
    "np.identity(3)"
   ]
  },
  {
   "cell_type": "markdown",
   "id": "ad2c14ec-4f2b-44d0-86c0-96832450d7b2",
   "metadata": {
    "jp-MarkdownHeadingCollapsed": true
   },
   "source": [
    "# Numpy Array Attributes"
   ]
  },
  {
   "cell_type": "code",
   "execution_count": 26,
   "id": "40d5d918-1d23-4940-98cc-87644a190089",
   "metadata": {},
   "outputs": [],
   "source": [
    "a1 = np.arange(10)\n",
    "a2 = np.arange(12,dtype=float).reshape(3,4)\n",
    "a3 = np.arange(8).reshape(2,2,2)"
   ]
  },
  {
   "cell_type": "markdown",
   "id": "ec819ccf-62a5-4006-be72-c7be6e388d96",
   "metadata": {},
   "source": [
    "## ndim"
   ]
  },
  {
   "cell_type": "code",
   "execution_count": 27,
   "id": "13698db2-a9eb-430e-8990-76c891caebbb",
   "metadata": {},
   "outputs": [
    {
     "name": "stdout",
     "output_type": "stream",
     "text": [
      "1\n",
      "2\n",
      "3\n"
     ]
    }
   ],
   "source": [
    "print(a1.ndim)\n",
    "print(a2.ndim) \n",
    "print(a3.ndim)"
   ]
  },
  {
   "cell_type": "markdown",
   "id": "9047af3b-33ad-421d-9142-58426cdd36b2",
   "metadata": {},
   "source": [
    "## shape "
   ]
  },
  {
   "cell_type": "code",
   "execution_count": 28,
   "id": "f42023f8-fdc2-4e29-bb64-458f425b3354",
   "metadata": {},
   "outputs": [
    {
     "name": "stdout",
     "output_type": "stream",
     "text": [
      "(10,)\n",
      "(3, 4)\n",
      "(2, 2, 2)\n"
     ]
    }
   ],
   "source": [
    "print(a1.shape)\n",
    "print(a2.shape)\n",
    "print(a3.shape)"
   ]
  },
  {
   "cell_type": "markdown",
   "id": "819bcdd6-cd41-4819-9bb7-91e5112eee15",
   "metadata": {},
   "source": [
    "## size"
   ]
  },
  {
   "cell_type": "code",
   "execution_count": 29,
   "id": "4cee2966-beae-4751-a4b5-c38606965df2",
   "metadata": {},
   "outputs": [
    {
     "name": "stdout",
     "output_type": "stream",
     "text": [
      "10\n",
      "12\n",
      "8\n"
     ]
    }
   ],
   "source": [
    "print(a1.size)\n",
    "print(a2.size)\n",
    "print(a3.size)"
   ]
  },
  {
   "cell_type": "markdown",
   "id": "e48935cc-715b-4419-bb4c-f9439cf8367c",
   "metadata": {},
   "source": [
    "## itemsize"
   ]
  },
  {
   "cell_type": "code",
   "execution_count": 30,
   "id": "3d890313-6562-4844-a160-759cc8d95a1e",
   "metadata": {},
   "outputs": [
    {
     "name": "stdout",
     "output_type": "stream",
     "text": [
      "4\n",
      "8\n",
      "4\n"
     ]
    }
   ],
   "source": [
    "print(a1.itemsize)\n",
    "print(a2.itemsize)\n",
    "print(a3.itemsize)"
   ]
  },
  {
   "cell_type": "markdown",
   "id": "58b304b7-445e-408d-8569-46d25ef4ce57",
   "metadata": {},
   "source": [
    "## dtype"
   ]
  },
  {
   "cell_type": "code",
   "execution_count": 31,
   "id": "0800a072-0ce9-47f7-a4b6-821ec0c7dbc1",
   "metadata": {},
   "outputs": [
    {
     "name": "stdout",
     "output_type": "stream",
     "text": [
      "int32\n",
      "float64\n",
      "float64\n"
     ]
    }
   ],
   "source": [
    "print(a1.dtype)\n",
    "print(a2.dtype)\n",
    "print(a2.dtype)"
   ]
  },
  {
   "cell_type": "markdown",
   "id": "402beb10-ffb0-4261-9f68-e287ce273e4d",
   "metadata": {
    "jp-MarkdownHeadingCollapsed": true
   },
   "source": [
    "# Changing Datatype --> astype"
   ]
  },
  {
   "cell_type": "code",
   "execution_count": 35,
   "id": "12121c5e-a11c-45b3-9994-dc430d6bc8a6",
   "metadata": {},
   "outputs": [
    {
     "data": {
      "text/plain": [
       "dtype('int32')"
      ]
     },
     "execution_count": 35,
     "metadata": {},
     "output_type": "execute_result"
    }
   ],
   "source": [
    "a3.dtype"
   ]
  },
  {
   "cell_type": "code",
   "execution_count": 36,
   "id": "88a094a8-7860-426d-816c-99876dd2c70c",
   "metadata": {},
   "outputs": [
    {
     "data": {
      "text/plain": [
       "array([[[0, 1],\n",
       "        [2, 3]],\n",
       "\n",
       "       [[4, 5],\n",
       "        [6, 7]]], dtype=int16)"
      ]
     },
     "execution_count": 36,
     "metadata": {},
     "output_type": "execute_result"
    }
   ],
   "source": [
    "a3.astype(np.int16)"
   ]
  },
  {
   "cell_type": "markdown",
   "id": "4da905cb-d8ad-4763-bd74-d537a19f2deb",
   "metadata": {
    "jp-MarkdownHeadingCollapsed": true
   },
   "source": [
    "# Array Operations"
   ]
  },
  {
   "cell_type": "code",
   "execution_count": 38,
   "id": "127329c9-b521-4471-81b1-d80448da0d5e",
   "metadata": {},
   "outputs": [],
   "source": [
    "a1 = np.arange(12).reshape(3,4)\n",
    "a2 = np.arange(12,24).reshape(3,4)"
   ]
  },
  {
   "cell_type": "code",
   "execution_count": 39,
   "id": "f630c4d4-d88a-45d8-854c-21e238e9fa9c",
   "metadata": {},
   "outputs": [
    {
     "name": "stdout",
     "output_type": "stream",
     "text": [
      "[[ 0  1  2  3]\n",
      " [ 4  5  6  7]\n",
      " [ 8  9 10 11]]\n"
     ]
    }
   ],
   "source": [
    "print(a1)"
   ]
  },
  {
   "cell_type": "code",
   "execution_count": 40,
   "id": "5ba5f420-5fbd-4e02-a1bb-ae747df2ba91",
   "metadata": {},
   "outputs": [
    {
     "name": "stdout",
     "output_type": "stream",
     "text": [
      "[[12 13 14 15]\n",
      " [16 17 18 19]\n",
      " [20 21 22 23]]\n"
     ]
    }
   ],
   "source": [
    "print(a2)"
   ]
  },
  {
   "cell_type": "markdown",
   "id": "9cb46c66-688a-4f7e-96ae-bc2b9405afc3",
   "metadata": {
    "jp-MarkdownHeadingCollapsed": true
   },
   "source": [
    "## scalar operations"
   ]
  },
  {
   "cell_type": "markdown",
   "id": "c295727b-218b-4786-9609-944654e3ceb2",
   "metadata": {},
   "source": [
    "### arithmetic "
   ]
  },
  {
   "cell_type": "code",
   "execution_count": 44,
   "id": "4241b13d-8ecc-4fb3-a2d6-145b20c8c453",
   "metadata": {},
   "outputs": [
    {
     "data": {
      "text/plain": [
       "array([[ 0,  2,  4,  6],\n",
       "       [ 8, 10, 12, 14],\n",
       "       [16, 18, 20, 22]])"
      ]
     },
     "execution_count": 44,
     "metadata": {},
     "output_type": "execute_result"
    }
   ],
   "source": [
    "a1 * 2\n",
    "# matrix * scalar "
   ]
  },
  {
   "cell_type": "code",
   "execution_count": 45,
   "id": "2d8a927d-0ef8-4787-99e7-937906fd5bfb",
   "metadata": {},
   "outputs": [
    {
     "name": "stdout",
     "output_type": "stream",
     "text": [
      "[[ 0  1  2  3]\n",
      " [ 4  5  6  7]\n",
      " [ 8  9 10 11]]\n"
     ]
    }
   ],
   "source": [
    "print(a1)"
   ]
  },
  {
   "cell_type": "markdown",
   "id": "8fd67e88-ee53-4eb4-b487-a3547ed779fa",
   "metadata": {},
   "source": [
    "### relational "
   ]
  },
  {
   "cell_type": "code",
   "execution_count": 48,
   "id": "fe7a7e6b-3799-4e66-9a54-4e4e9f232a44",
   "metadata": {},
   "outputs": [
    {
     "data": {
      "text/plain": [
       "array([[ True,  True,  True,  True],\n",
       "       [ True, False, False, False],\n",
       "       [False, False, False, False]])"
      ]
     },
     "execution_count": 48,
     "metadata": {},
     "output_type": "execute_result"
    }
   ],
   "source": [
    "a1 < 5"
   ]
  },
  {
   "cell_type": "code",
   "execution_count": 49,
   "id": "8d609487-754b-456c-bafb-e6a8eea5e134",
   "metadata": {},
   "outputs": [
    {
     "data": {
      "text/plain": [
       "array([[False, False, False, False],\n",
       "       [False,  True, False, False],\n",
       "       [False, False, False, False]])"
      ]
     },
     "execution_count": 49,
     "metadata": {},
     "output_type": "execute_result"
    }
   ],
   "source": [
    "a1 == 5"
   ]
  },
  {
   "cell_type": "markdown",
   "id": "2bb74fec-96ca-4457-aa82-1ae82917012e",
   "metadata": {
    "jp-MarkdownHeadingCollapsed": true
   },
   "source": [
    "## vector operations"
   ]
  },
  {
   "cell_type": "markdown",
   "id": "1c653c6d-2e3f-4b6e-8cae-861d8e19eb3d",
   "metadata": {},
   "source": [
    "### arithmetic"
   ]
  },
  {
   "cell_type": "code",
   "execution_count": 50,
   "id": "0c439575-50ae-4fbc-a584-43e2f5c92302",
   "metadata": {},
   "outputs": [
    {
     "data": {
      "text/plain": [
       "array([[12, 14, 16, 18],\n",
       "       [20, 22, 24, 26],\n",
       "       [28, 30, 32, 34]])"
      ]
     },
     "execution_count": 50,
     "metadata": {},
     "output_type": "execute_result"
    }
   ],
   "source": [
    "a1 + a2 "
   ]
  },
  {
   "cell_type": "code",
   "execution_count": 51,
   "id": "51f33c0c-e0be-4580-8601-ec4da67815f5",
   "metadata": {},
   "outputs": [
    {
     "data": {
      "text/plain": [
       "array([[-12, -12, -12, -12],\n",
       "       [-12, -12, -12, -12],\n",
       "       [-12, -12, -12, -12]])"
      ]
     },
     "execution_count": 51,
     "metadata": {},
     "output_type": "execute_result"
    }
   ],
   "source": [
    "a1 - a2 "
   ]
  },
  {
   "cell_type": "code",
   "execution_count": 52,
   "id": "022ea1c1-ac93-4c03-ad57-fff71ff354c7",
   "metadata": {},
   "outputs": [
    {
     "data": {
      "text/plain": [
       "array([[  0,  13,  28,  45],\n",
       "       [ 64,  85, 108, 133],\n",
       "       [160, 189, 220, 253]])"
      ]
     },
     "execution_count": 52,
     "metadata": {},
     "output_type": "execute_result"
    }
   ],
   "source": [
    "a1 * a2 "
   ]
  },
  {
   "cell_type": "markdown",
   "id": "0ac4b09a-7520-45a7-ac8a-2cf158fbb12f",
   "metadata": {
    "jp-MarkdownHeadingCollapsed": true
   },
   "source": [
    "# Numpy Array Fucntions"
   ]
  },
  {
   "cell_type": "code",
   "execution_count": 3,
   "id": "92ed1b6e-955e-48ea-b337-98f0cb52fd8d",
   "metadata": {},
   "outputs": [
    {
     "name": "stdout",
     "output_type": "stream",
     "text": [
      "[[0.79461335 0.0137608  0.70396464]\n",
      " [0.87155155 0.06034732 0.63282044]\n",
      " [0.35675804 0.68361998 0.04169365]]\n"
     ]
    }
   ],
   "source": [
    "a1 = np.random.random((3,3))\n",
    "print(a1)"
   ]
  },
  {
   "cell_type": "code",
   "execution_count": 4,
   "id": "49419686-c2a4-4a2e-b563-e37055ec4905",
   "metadata": {},
   "outputs": [
    {
     "name": "stdout",
     "output_type": "stream",
     "text": [
      "[[79.  1. 70.]\n",
      " [87.  6. 63.]\n",
      " [36. 68.  4.]]\n"
     ]
    }
   ],
   "source": [
    "a1 = np.round(a1*100)\n",
    "print(a1)"
   ]
  },
  {
   "cell_type": "markdown",
   "id": "0c5def17-e07d-4bf0-997c-43d6a5dd988f",
   "metadata": {
    "jp-MarkdownHeadingCollapsed": true
   },
   "source": [
    "## max, min, sum, prod"
   ]
  },
  {
   "cell_type": "code",
   "execution_count": 5,
   "id": "85bc199f-e83e-4afb-a69b-b83e3aaaed85",
   "metadata": {},
   "outputs": [
    {
     "data": {
      "text/plain": [
       "87.0"
      ]
     },
     "execution_count": 5,
     "metadata": {},
     "output_type": "execute_result"
    }
   ],
   "source": [
    "np.max(a1)"
   ]
  },
  {
   "cell_type": "code",
   "execution_count": 6,
   "id": "a805b457-7b1e-40a0-8e57-ad3bf7b50f5f",
   "metadata": {},
   "outputs": [
    {
     "data": {
      "text/plain": [
       "1.0"
      ]
     },
     "execution_count": 6,
     "metadata": {},
     "output_type": "execute_result"
    }
   ],
   "source": [
    "np.min(a1)"
   ]
  },
  {
   "cell_type": "code",
   "execution_count": 7,
   "id": "941bc7b5-14f0-493e-b6ab-223ef88df39f",
   "metadata": {},
   "outputs": [
    {
     "data": {
      "text/plain": [
       "414.0"
      ]
     },
     "execution_count": 7,
     "metadata": {},
     "output_type": "execute_result"
    }
   ],
   "source": [
    "np.sum(a1)"
   ]
  },
  {
   "cell_type": "code",
   "execution_count": 8,
   "id": "c1b2012e-8719-4ad5-8889-4acf6ae490d9",
   "metadata": {},
   "outputs": [
    {
     "data": {
      "text/plain": [
       "1780769007360.0"
      ]
     },
     "execution_count": 8,
     "metadata": {},
     "output_type": "execute_result"
    }
   ],
   "source": [
    "np.prod(a1)"
   ]
  },
  {
   "cell_type": "code",
   "execution_count": 10,
   "id": "0e5cfc80-adac-45cb-82bc-5cd0ad14c22b",
   "metadata": {},
   "outputs": [
    {
     "name": "stdout",
     "output_type": "stream",
     "text": [
      "1.0\n",
      "6.0\n",
      "4.0\n"
     ]
    }
   ],
   "source": [
    "# min value of every row --> Traditional Approach\n",
    "for row in a1:\n",
    "    print(min(row))"
   ]
  },
  {
   "cell_type": "code",
   "execution_count": 14,
   "id": "7daa0fe5-84b5-486d-a786-7ca4bd77840e",
   "metadata": {},
   "outputs": [
    {
     "data": {
      "text/plain": [
       "array([1., 6., 4.])"
      ]
     },
     "execution_count": 14,
     "metadata": {},
     "output_type": "execute_result"
    }
   ],
   "source": [
    "# min value of every row --> The Numpy Approach\n",
    "np.min(a1,axis=1)"
   ]
  },
  {
   "cell_type": "code",
   "execution_count": 15,
   "id": "99348ccd-c566-4455-b6d9-4587b7b410ca",
   "metadata": {},
   "outputs": [
    {
     "data": {
      "text/plain": [
       "array([150., 156., 108.])"
      ]
     },
     "execution_count": 15,
     "metadata": {},
     "output_type": "execute_result"
    }
   ],
   "source": [
    "# total of every row\n",
    "np.sum(a1,axis=1)"
   ]
  },
  {
   "cell_type": "code",
   "execution_count": 16,
   "id": "169d4cdc-1e97-44a6-b403-920f24262fd9",
   "metadata": {},
   "outputs": [
    {
     "data": {
      "text/plain": [
       "array([87., 68., 70.])"
      ]
     },
     "execution_count": 16,
     "metadata": {},
     "output_type": "execute_result"
    }
   ],
   "source": [
    "# max value of every column\n",
    "np.max(a1,axis=0)"
   ]
  },
  {
   "cell_type": "code",
   "execution_count": 18,
   "id": "ac0919b9-02ba-43c0-a9aa-01b20b64cc91",
   "metadata": {},
   "outputs": [],
   "source": [
    "# help(np.min)"
   ]
  },
  {
   "cell_type": "code",
   "execution_count": 19,
   "id": "3bdf5512-61a5-4b87-919c-403af1bf8357",
   "metadata": {},
   "outputs": [
    {
     "data": {
      "text/plain": [
       "array([247428.,    408.,  17640.])"
      ]
     },
     "execution_count": 19,
     "metadata": {},
     "output_type": "execute_result"
    }
   ],
   "source": [
    "# product of every column\n",
    "np.prod(a1,axis=0)"
   ]
  },
  {
   "cell_type": "markdown",
   "id": "c907d59f-965c-4295-a46f-3b88bfae9482",
   "metadata": {
    "jp-MarkdownHeadingCollapsed": true
   },
   "source": [
    "## mean "
   ]
  },
  {
   "cell_type": "code",
   "execution_count": 22,
   "id": "bbcf8e92-ced0-4bc7-9fe2-16e67cbb4074",
   "metadata": {},
   "outputs": [
    {
     "data": {
      "text/plain": [
       "array([[79.,  1., 70.],\n",
       "       [87.,  6., 63.],\n",
       "       [36., 68.,  4.]])"
      ]
     },
     "execution_count": 22,
     "metadata": {},
     "output_type": "execute_result"
    }
   ],
   "source": [
    "a1"
   ]
  },
  {
   "cell_type": "code",
   "execution_count": 20,
   "id": "1443d82f-0262-43b5-b05f-3a66f8f9cccc",
   "metadata": {},
   "outputs": [
    {
     "data": {
      "text/plain": [
       "46.0"
      ]
     },
     "execution_count": 20,
     "metadata": {},
     "output_type": "execute_result"
    }
   ],
   "source": [
    "np.mean(a1)"
   ]
  },
  {
   "cell_type": "code",
   "execution_count": 21,
   "id": "475276d0-5fc8-43de-9750-649b78b4985d",
   "metadata": {},
   "outputs": [
    {
     "data": {
      "text/plain": [
       "array([50., 52., 36.])"
      ]
     },
     "execution_count": 21,
     "metadata": {},
     "output_type": "execute_result"
    }
   ],
   "source": [
    "# mean of every row \n",
    "np.mean(a1,axis=1)"
   ]
  },
  {
   "cell_type": "code",
   "execution_count": 28,
   "id": "b64d11a0-d876-4d1f-9775-366fc6f608f1",
   "metadata": {},
   "outputs": [
    {
     "name": "stdout",
     "output_type": "stream",
     "text": [
      "[67.33 25.   45.67]\n"
     ]
    }
   ],
   "source": [
    "# mean of every column\n",
    "m = np.mean(a1,axis=0)\n",
    "print(np.round(m,2))"
   ]
  },
  {
   "cell_type": "markdown",
   "id": "53408653-fbe9-4728-bdca-0bc8933cca0c",
   "metadata": {
    "jp-MarkdownHeadingCollapsed": true
   },
   "source": [
    "## median"
   ]
  },
  {
   "cell_type": "code",
   "execution_count": 29,
   "id": "cd9fea77-743c-4d46-af63-76bd66a47247",
   "metadata": {},
   "outputs": [
    {
     "data": {
      "text/plain": [
       "array([[79.,  1., 70.],\n",
       "       [87.,  6., 63.],\n",
       "       [36., 68.,  4.]])"
      ]
     },
     "execution_count": 29,
     "metadata": {},
     "output_type": "execute_result"
    }
   ],
   "source": [
    "a1"
   ]
  },
  {
   "cell_type": "code",
   "execution_count": 30,
   "id": "f64ccf50-3490-438f-a2be-802295b2bb40",
   "metadata": {},
   "outputs": [
    {
     "data": {
      "text/plain": [
       "63.0"
      ]
     },
     "execution_count": 30,
     "metadata": {},
     "output_type": "execute_result"
    }
   ],
   "source": [
    "np.median(a1)"
   ]
  },
  {
   "cell_type": "code",
   "execution_count": 33,
   "id": "ba491996-6935-4566-9426-a0868d7c11aa",
   "metadata": {},
   "outputs": [
    {
     "data": {
      "text/plain": [
       "array([70., 63., 36.])"
      ]
     },
     "execution_count": 33,
     "metadata": {},
     "output_type": "execute_result"
    }
   ],
   "source": [
    "# median of every row \n",
    "np.median(a1,axis=1)"
   ]
  },
  {
   "cell_type": "code",
   "execution_count": 34,
   "id": "6e180a48-098d-405a-8d16-2deb26bf2868",
   "metadata": {},
   "outputs": [
    {
     "data": {
      "text/plain": [
       "array([79.,  6., 63.])"
      ]
     },
     "execution_count": 34,
     "metadata": {},
     "output_type": "execute_result"
    }
   ],
   "source": [
    "# median of every column\n",
    "np.median(a1,axis=0)"
   ]
  },
  {
   "cell_type": "markdown",
   "id": "df0b6c68-1fb1-4097-9bba-68379c836feb",
   "metadata": {
    "jp-MarkdownHeadingCollapsed": true
   },
   "source": [
    "## std --> STDDEV "
   ]
  },
  {
   "cell_type": "code",
   "execution_count": 37,
   "id": "747ff7da-cd33-45d3-99cc-341d97a049bc",
   "metadata": {},
   "outputs": [
    {
     "data": {
      "text/plain": [
       "32.67"
      ]
     },
     "execution_count": 37,
     "metadata": {},
     "output_type": "execute_result"
    }
   ],
   "source": [
    "np.round(np.std(a1),2)"
   ]
  },
  {
   "cell_type": "code",
   "execution_count": 39,
   "id": "92826ac5-842a-44e0-b2d3-1d95f23335fb",
   "metadata": {},
   "outputs": [
    {
     "data": {
      "text/plain": [
       "array([34.84, 33.97, 26.13])"
      ]
     },
     "execution_count": 39,
     "metadata": {},
     "output_type": "execute_result"
    }
   ],
   "source": [
    "# std dev of each row\n",
    "np.round(np.std(a1,axis=1),2)"
   ]
  },
  {
   "cell_type": "code",
   "execution_count": 40,
   "id": "d5ee72bd-e166-447c-8e47-5ba84bdfa688",
   "metadata": {},
   "outputs": [
    {
     "data": {
      "text/plain": [
       "array([22.4 , 30.47, 29.6 ])"
      ]
     },
     "execution_count": 40,
     "metadata": {},
     "output_type": "execute_result"
    }
   ],
   "source": [
    "# std dev of each column \n",
    "np.round(np.std(a1,axis=0),2)"
   ]
  },
  {
   "cell_type": "markdown",
   "id": "bbd0d1fa-f561-4c46-8e58-af9450f4de62",
   "metadata": {
    "jp-MarkdownHeadingCollapsed": true
   },
   "source": [
    "## var --> variance"
   ]
  },
  {
   "cell_type": "code",
   "execution_count": 41,
   "id": "2fc67682-d34f-4606-9d0e-279eebb9925d",
   "metadata": {},
   "outputs": [
    {
     "data": {
      "text/plain": [
       "array([[79.,  1., 70.],\n",
       "       [87.,  6., 63.],\n",
       "       [36., 68.,  4.]])"
      ]
     },
     "execution_count": 41,
     "metadata": {},
     "output_type": "execute_result"
    }
   ],
   "source": [
    "a1"
   ]
  },
  {
   "cell_type": "code",
   "execution_count": 46,
   "id": "8a209e7b-b0bf-4904-bb2a-4aeb480e32bf",
   "metadata": {},
   "outputs": [
    {
     "data": {
      "text/plain": [
       "1067.56"
      ]
     },
     "execution_count": 46,
     "metadata": {},
     "output_type": "execute_result"
    }
   ],
   "source": [
    "round(np.var(a1),2)     # python's inbuilt round() function"
   ]
  },
  {
   "cell_type": "code",
   "execution_count": 48,
   "id": "7253d92c-c328-4ab8-9ec0-21d596be7952",
   "metadata": {},
   "outputs": [
    {
     "data": {
      "text/plain": [
       "array([1214.  , 1154.  ,  682.67])"
      ]
     },
     "execution_count": 48,
     "metadata": {},
     "output_type": "execute_result"
    }
   ],
   "source": [
    "# variance of each row \n",
    "np.round(np.var(a1,axis=1),2)    \n",
    "# python's inbuilt round function does not work in this case\n",
    "# numpy's round method works"
   ]
  },
  {
   "cell_type": "code",
   "execution_count": 49,
   "id": "53420209-7353-495b-aa30-1e5fd0fcf488",
   "metadata": {},
   "outputs": [
    {
     "data": {
      "text/plain": [
       "array([501.56, 928.67, 876.22])"
      ]
     },
     "execution_count": 49,
     "metadata": {},
     "output_type": "execute_result"
    }
   ],
   "source": [
    "# variance of each column \n",
    "np.round(np.var(a1,axis=0),2)"
   ]
  },
  {
   "cell_type": "markdown",
   "id": "d174486d-917f-4cb0-b0ae-d629b91ab446",
   "metadata": {
    "jp-MarkdownHeadingCollapsed": true
   },
   "source": [
    "## trigonometric functions"
   ]
  },
  {
   "cell_type": "code",
   "execution_count": 50,
   "id": "958dfb4e-36c2-4cc7-8a13-f9e139717fba",
   "metadata": {},
   "outputs": [
    {
     "data": {
      "text/plain": [
       "array([[-0.44411267,  0.84147098,  0.77389068],\n",
       "       [-0.82181784, -0.2794155 ,  0.1673557 ],\n",
       "       [-0.99177885, -0.89792768, -0.7568025 ]])"
      ]
     },
     "execution_count": 50,
     "metadata": {},
     "output_type": "execute_result"
    }
   ],
   "source": [
    "# not used in data science\n",
    "np.sin(a1)"
   ]
  },
  {
   "cell_type": "markdown",
   "id": "10e0a00b-ea49-4263-a95b-bd5d4c0148b5",
   "metadata": {
    "jp-MarkdownHeadingCollapsed": true
   },
   "source": [
    "## dot product"
   ]
  },
  {
   "cell_type": "code",
   "execution_count": 51,
   "id": "ab24f920-ac13-47cc-963d-89c9647b9a95",
   "metadata": {},
   "outputs": [],
   "source": [
    "a2 = np.arange(12).reshape(3,4)\n",
    "a3 = np.arange(12,24).reshape(4,3)"
   ]
  },
  {
   "cell_type": "code",
   "execution_count": 52,
   "id": "abf2c446-c2ba-4e9f-9b28-f09a934773f4",
   "metadata": {},
   "outputs": [
    {
     "data": {
      "text/plain": [
       "array([[ 0,  1,  2,  3],\n",
       "       [ 4,  5,  6,  7],\n",
       "       [ 8,  9, 10, 11]])"
      ]
     },
     "execution_count": 52,
     "metadata": {},
     "output_type": "execute_result"
    }
   ],
   "source": [
    "a2"
   ]
  },
  {
   "cell_type": "code",
   "execution_count": 53,
   "id": "813d5225-a6d4-43d0-8982-59ef5b05a135",
   "metadata": {},
   "outputs": [
    {
     "data": {
      "text/plain": [
       "array([[12, 13, 14],\n",
       "       [15, 16, 17],\n",
       "       [18, 19, 20],\n",
       "       [21, 22, 23]])"
      ]
     },
     "execution_count": 53,
     "metadata": {},
     "output_type": "execute_result"
    }
   ],
   "source": [
    "a3"
   ]
  },
  {
   "cell_type": "code",
   "execution_count": 54,
   "id": "7e0ca322-2a59-4af5-9f47-55297d469b25",
   "metadata": {},
   "outputs": [
    {
     "data": {
      "text/plain": [
       "array([[114, 120, 126],\n",
       "       [378, 400, 422],\n",
       "       [642, 680, 718]])"
      ]
     },
     "execution_count": 54,
     "metadata": {},
     "output_type": "execute_result"
    }
   ],
   "source": [
    "np.dot(a2,a3)"
   ]
  },
  {
   "cell_type": "markdown",
   "id": "27abd2bb-3e57-42c1-9445-e17fa724ea75",
   "metadata": {
    "jp-MarkdownHeadingCollapsed": true
   },
   "source": [
    "## log and exp "
   ]
  },
  {
   "cell_type": "code",
   "execution_count": 56,
   "id": "0d5c4bf5-8a0e-40e6-83f5-3c79318d17ef",
   "metadata": {},
   "outputs": [
    {
     "data": {
      "text/plain": [
       "array([[79.,  1., 70.],\n",
       "       [87.,  6., 63.],\n",
       "       [36., 68.,  4.]])"
      ]
     },
     "execution_count": 56,
     "metadata": {},
     "output_type": "execute_result"
    }
   ],
   "source": [
    "a1"
   ]
  },
  {
   "cell_type": "code",
   "execution_count": 58,
   "id": "ddd74c3c-f6e2-42a2-88c4-05a4874b6eb2",
   "metadata": {},
   "outputs": [
    {
     "data": {
      "text/plain": [
       "array([[4.36944785, 0.        , 4.24849524],\n",
       "       [4.46590812, 1.79175947, 4.14313473],\n",
       "       [3.58351894, 4.21950771, 1.38629436]])"
      ]
     },
     "execution_count": 58,
     "metadata": {},
     "output_type": "execute_result"
    }
   ],
   "source": [
    "np.log(a1)"
   ]
  },
  {
   "cell_type": "code",
   "execution_count": 59,
   "id": "cc687248-16c0-4491-b6f3-080139e7ee74",
   "metadata": {},
   "outputs": [
    {
     "data": {
      "text/plain": [
       "array([[2.03828107e+34, 2.71828183e+00, 2.51543867e+30],\n",
       "       [6.07603023e+37, 4.03428793e+02, 2.29378316e+27],\n",
       "       [4.31123155e+15, 3.40427605e+29, 5.45981500e+01]])"
      ]
     },
     "execution_count": 59,
     "metadata": {},
     "output_type": "execute_result"
    }
   ],
   "source": [
    "# exp --> exponents \n",
    "np.exp(a1)"
   ]
  },
  {
   "cell_type": "markdown",
   "id": "15621f77-2f73-4429-a469-c01eb84e4db5",
   "metadata": {
    "jp-MarkdownHeadingCollapsed": true
   },
   "source": [
    "## round , floor , ceil"
   ]
  },
  {
   "cell_type": "code",
   "execution_count": 60,
   "id": "a419a1c4-2781-4424-89d6-e1e512db1399",
   "metadata": {},
   "outputs": [
    {
     "data": {
      "text/plain": [
       "array([[79.,  1., 70.],\n",
       "       [87.,  6., 63.],\n",
       "       [36., 68.,  4.]])"
      ]
     },
     "execution_count": 60,
     "metadata": {},
     "output_type": "execute_result"
    }
   ],
   "source": [
    "a1"
   ]
  },
  {
   "cell_type": "code",
   "execution_count": 62,
   "id": "91000222-bebd-4793-a300-f48607120d4b",
   "metadata": {},
   "outputs": [
    {
     "data": {
      "text/plain": [
       "array([[0.82705719, 0.83755337, 0.07446798],\n",
       "       [0.43507761, 0.8566412 , 0.55133477]])"
      ]
     },
     "execution_count": 62,
     "metadata": {},
     "output_type": "execute_result"
    }
   ],
   "source": [
    "a4 = np.random.random((2,3))\n",
    "a4"
   ]
  },
  {
   "cell_type": "code",
   "execution_count": 64,
   "id": "781d3ca0-0dfe-423c-99b0-9231559c3e9b",
   "metadata": {},
   "outputs": [
    {
     "data": {
      "text/plain": [
       "array([[83., 84.,  7.],\n",
       "       [44., 86., 55.]])"
      ]
     },
     "execution_count": 64,
     "metadata": {},
     "output_type": "execute_result"
    }
   ],
   "source": [
    "np.round(a4*100)"
   ]
  },
  {
   "cell_type": "code",
   "execution_count": 65,
   "id": "7ecaac64-72ff-4eb8-8836-fdb79875bf34",
   "metadata": {},
   "outputs": [
    {
     "data": {
      "text/plain": [
       "array([[82., 83.,  7.],\n",
       "       [43., 85., 55.]])"
      ]
     },
     "execution_count": 65,
     "metadata": {},
     "output_type": "execute_result"
    }
   ],
   "source": [
    "np.floor(a4*100)"
   ]
  },
  {
   "cell_type": "code",
   "execution_count": 66,
   "id": "bd18099e-e189-455b-b943-5e0404a3be65",
   "metadata": {},
   "outputs": [
    {
     "data": {
      "text/plain": [
       "array([[83., 84.,  8.],\n",
       "       [44., 86., 56.]])"
      ]
     },
     "execution_count": 66,
     "metadata": {},
     "output_type": "execute_result"
    }
   ],
   "source": [
    "np.ceil(a4*100)"
   ]
  },
  {
   "cell_type": "markdown",
   "id": "b6f5ff3e-ad73-47f2-ab7e-2e4ee971325c",
   "metadata": {
    "jp-MarkdownHeadingCollapsed": true
   },
   "source": [
    "# Indexing and Slicing"
   ]
  },
  {
   "cell_type": "code",
   "execution_count": 67,
   "id": "f4f44d33-512a-47e2-92a0-400181d9151a",
   "metadata": {},
   "outputs": [],
   "source": [
    "a2 = np.arange(12).reshape(3,4)\n",
    "a3 = np.arange(8).reshape(2,2,2)"
   ]
  },
  {
   "cell_type": "markdown",
   "id": "25145022-c3e4-4329-9702-f4fad3f5da63",
   "metadata": {},
   "source": [
    "## 1D"
   ]
  },
  {
   "cell_type": "code",
   "execution_count": 68,
   "id": "b06953e5-b6af-4c3c-95a9-4c2a7dd9c6e6",
   "metadata": {},
   "outputs": [
    {
     "data": {
      "text/plain": [
       "array([0, 1, 2, 3, 4, 5, 6, 7, 8, 9])"
      ]
     },
     "execution_count": 68,
     "metadata": {},
     "output_type": "execute_result"
    }
   ],
   "source": [
    "a1 = np.arange(10)\n",
    "a1"
   ]
  },
  {
   "cell_type": "code",
   "execution_count": 69,
   "id": "5752f84a-fa13-4132-b00a-23e42d6d45bb",
   "metadata": {},
   "outputs": [
    {
     "data": {
      "text/plain": [
       "5"
      ]
     },
     "execution_count": 69,
     "metadata": {},
     "output_type": "execute_result"
    }
   ],
   "source": [
    "a1[5]"
   ]
  },
  {
   "cell_type": "code",
   "execution_count": 70,
   "id": "2cfb09ae-4195-4878-8dee-7a181c7d8610",
   "metadata": {},
   "outputs": [
    {
     "data": {
      "text/plain": [
       "0"
      ]
     },
     "execution_count": 70,
     "metadata": {},
     "output_type": "execute_result"
    }
   ],
   "source": [
    "a1[0]"
   ]
  },
  {
   "cell_type": "code",
   "execution_count": 71,
   "id": "190b9885-6722-4210-8c7c-4eac815c471b",
   "metadata": {},
   "outputs": [
    {
     "ename": "IndexError",
     "evalue": "index 10 is out of bounds for axis 0 with size 10",
     "output_type": "error",
     "traceback": [
      "\u001b[1;31m---------------------------------------------------------------------------\u001b[0m",
      "\u001b[1;31mIndexError\u001b[0m                                Traceback (most recent call last)",
      "Cell \u001b[1;32mIn[71], line 1\u001b[0m\n\u001b[1;32m----> 1\u001b[0m \u001b[43ma1\u001b[49m\u001b[43m[\u001b[49m\u001b[38;5;241;43m10\u001b[39;49m\u001b[43m]\u001b[49m\n",
      "\u001b[1;31mIndexError\u001b[0m: index 10 is out of bounds for axis 0 with size 10"
     ]
    }
   ],
   "source": [
    "a1[10]"
   ]
  },
  {
   "cell_type": "code",
   "execution_count": 72,
   "id": "ed0e3275-bbcb-49b4-a1a4-50a00d58ed33",
   "metadata": {},
   "outputs": [
    {
     "data": {
      "text/plain": [
       "9"
      ]
     },
     "execution_count": 72,
     "metadata": {},
     "output_type": "execute_result"
    }
   ],
   "source": [
    "a1[9]"
   ]
  },
  {
   "cell_type": "code",
   "execution_count": 95,
   "id": "3b8b86d7-8f83-43a8-a3fd-89f97b0c413d",
   "metadata": {},
   "outputs": [
    {
     "data": {
      "text/plain": [
       "9"
      ]
     },
     "execution_count": 95,
     "metadata": {},
     "output_type": "execute_result"
    }
   ],
   "source": [
    "a1[-1]"
   ]
  },
  {
   "cell_type": "code",
   "execution_count": 73,
   "id": "a9230bb6-4ce1-43ad-b13e-68ed5be1f1f9",
   "metadata": {},
   "outputs": [
    {
     "data": {
      "text/plain": [
       "array([3, 4, 5, 6])"
      ]
     },
     "execution_count": 73,
     "metadata": {},
     "output_type": "execute_result"
    }
   ],
   "source": [
    "a1[3:7]"
   ]
  },
  {
   "cell_type": "code",
   "execution_count": 76,
   "id": "ed2a72d9-f565-4b92-8765-067db049d5ff",
   "metadata": {},
   "outputs": [
    {
     "data": {
      "text/plain": [
       "array([6, 5, 4, 3])"
      ]
     },
     "execution_count": 76,
     "metadata": {},
     "output_type": "execute_result"
    }
   ],
   "source": [
    "a1[6:2:-1]"
   ]
  },
  {
   "cell_type": "code",
   "execution_count": 74,
   "id": "446bfb5f-6679-4702-a4ba-cfd63951a7fd",
   "metadata": {},
   "outputs": [
    {
     "data": {
      "text/plain": [
       "array([3, 5])"
      ]
     },
     "execution_count": 74,
     "metadata": {},
     "output_type": "execute_result"
    }
   ],
   "source": [
    "a1[3:7:2]"
   ]
  },
  {
   "cell_type": "code",
   "execution_count": 75,
   "id": "5dcdf2f7-d10c-4bc0-bd69-b509034baea2",
   "metadata": {},
   "outputs": [
    {
     "data": {
      "text/plain": [
       "array([9, 8, 7, 6, 5, 4, 3, 2, 1, 0])"
      ]
     },
     "execution_count": 75,
     "metadata": {},
     "output_type": "execute_result"
    }
   ],
   "source": [
    "a1[::-1]"
   ]
  },
  {
   "cell_type": "markdown",
   "id": "74d16172-6d7f-4db6-b06a-1fdeed0061f7",
   "metadata": {},
   "source": [
    "## 2D"
   ]
  },
  {
   "cell_type": "code",
   "execution_count": 77,
   "id": "e313ef20-02c9-4c6d-a7a2-9469c5d47a0c",
   "metadata": {},
   "outputs": [
    {
     "data": {
      "text/plain": [
       "array([[ 0,  1,  2,  3],\n",
       "       [ 4,  5,  6,  7],\n",
       "       [ 8,  9, 10, 11]])"
      ]
     },
     "execution_count": 77,
     "metadata": {},
     "output_type": "execute_result"
    }
   ],
   "source": [
    "a2"
   ]
  },
  {
   "cell_type": "code",
   "execution_count": 78,
   "id": "7f856ad8-e544-4c6d-ab26-5595f65f2ed9",
   "metadata": {},
   "outputs": [
    {
     "data": {
      "text/plain": [
       "array([4, 5, 6, 7])"
      ]
     },
     "execution_count": 78,
     "metadata": {},
     "output_type": "execute_result"
    }
   ],
   "source": [
    "a2[1]"
   ]
  },
  {
   "cell_type": "code",
   "execution_count": 97,
   "id": "7abdbc88-f4ff-4992-8701-30a49982b533",
   "metadata": {},
   "outputs": [
    {
     "data": {
      "text/plain": [
       "6"
      ]
     },
     "execution_count": 97,
     "metadata": {},
     "output_type": "execute_result"
    }
   ],
   "source": [
    "# 6 --> Traditional Approach \n",
    "a2[1][2]"
   ]
  },
  {
   "cell_type": "code",
   "execution_count": 98,
   "id": "e637fb6e-35f4-42e4-af2a-4fef52113dbb",
   "metadata": {},
   "outputs": [
    {
     "data": {
      "text/plain": [
       "6"
      ]
     },
     "execution_count": 98,
     "metadata": {},
     "output_type": "execute_result"
    }
   ],
   "source": [
    "# 6 --> Array Approach \n",
    "a2[1,2]"
   ]
  },
  {
   "cell_type": "code",
   "execution_count": 80,
   "id": "c9a3d640-a966-4873-ac1f-e9868f400225",
   "metadata": {},
   "outputs": [
    {
     "data": {
      "text/plain": [
       "array([[ 4,  5,  6,  7],\n",
       "       [ 8,  9, 10, 11]])"
      ]
     },
     "execution_count": 80,
     "metadata": {},
     "output_type": "execute_result"
    }
   ],
   "source": [
    "a2[1:]"
   ]
  },
  {
   "cell_type": "code",
   "execution_count": 82,
   "id": "2d64dbef-be73-4163-81f9-1334d36930b1",
   "metadata": {},
   "outputs": [
    {
     "data": {
      "text/plain": [
       "array([[0, 1, 2, 3],\n",
       "       [4, 5, 6, 7]])"
      ]
     },
     "execution_count": 82,
     "metadata": {},
     "output_type": "execute_result"
    }
   ],
   "source": [
    "a2[:2]"
   ]
  },
  {
   "cell_type": "code",
   "execution_count": 83,
   "id": "46d89d83-48aa-4917-ae88-5f9d668789b5",
   "metadata": {},
   "outputs": [
    {
     "data": {
      "text/plain": [
       "array([5, 6])"
      ]
     },
     "execution_count": 83,
     "metadata": {},
     "output_type": "execute_result"
    }
   ],
   "source": [
    "# Traditional Approach \n",
    "a2[1][1:3]"
   ]
  },
  {
   "cell_type": "code",
   "execution_count": 99,
   "id": "3a36f909-a7fa-46b3-b743-8993d1a9991b",
   "metadata": {},
   "outputs": [
    {
     "data": {
      "text/plain": [
       "array([5, 6])"
      ]
     },
     "execution_count": 99,
     "metadata": {},
     "output_type": "execute_result"
    }
   ],
   "source": [
    "# Array Approach \n",
    "a2[1,1:3]"
   ]
  },
  {
   "cell_type": "code",
   "execution_count": 84,
   "id": "50415f1e-29a3-43fd-9cd2-f9cb07fb78de",
   "metadata": {},
   "outputs": [
    {
     "data": {
      "text/plain": [
       "array([5, 7])"
      ]
     },
     "execution_count": 84,
     "metadata": {},
     "output_type": "execute_result"
    }
   ],
   "source": [
    "# Traditional Approach \n",
    "a2[1][1::2]"
   ]
  },
  {
   "cell_type": "code",
   "execution_count": 106,
   "id": "97e17f64-7114-44c1-a054-e6d2eaa8bf3a",
   "metadata": {},
   "outputs": [
    {
     "data": {
      "text/plain": [
       "array([5, 7])"
      ]
     },
     "execution_count": 106,
     "metadata": {},
     "output_type": "execute_result"
    }
   ],
   "source": [
    "# Array Approach\n",
    "a2[1,1::2]"
   ]
  },
  {
   "cell_type": "code",
   "execution_count": 86,
   "id": "6b7bb32e-28a1-4e4f-9609-24db476fa840",
   "metadata": {},
   "outputs": [
    {
     "data": {
      "text/plain": [
       "array([7, 6, 5, 4])"
      ]
     },
     "execution_count": 86,
     "metadata": {},
     "output_type": "execute_result"
    }
   ],
   "source": [
    "# Traditional Approach \n",
    "a2[1][3::-1]"
   ]
  },
  {
   "cell_type": "code",
   "execution_count": 107,
   "id": "37d26bc3-a4cd-4fd6-b360-d6b6b0e2ebfa",
   "metadata": {},
   "outputs": [
    {
     "data": {
      "text/plain": [
       "array([7, 6, 5, 4])"
      ]
     },
     "execution_count": 107,
     "metadata": {},
     "output_type": "execute_result"
    }
   ],
   "source": [
    "# Array Approach \n",
    "a2[1,3::-1]"
   ]
  },
  {
   "cell_type": "code",
   "execution_count": 109,
   "id": "d87103e7-2edf-4fd0-9177-41a5f82ec829",
   "metadata": {},
   "outputs": [
    {
     "data": {
      "text/plain": [
       "array([ 2,  6, 10])"
      ]
     },
     "execution_count": 109,
     "metadata": {},
     "output_type": "execute_result"
    }
   ],
   "source": [
    "# accessing columns\n",
    "a2[:,2]"
   ]
  },
  {
   "cell_type": "code",
   "execution_count": 114,
   "id": "fa2fc123-7d22-406f-bcc5-a9d7b8caac63",
   "metadata": {},
   "outputs": [
    {
     "data": {
      "text/plain": [
       "array([[ 0,  1,  2,  3],\n",
       "       [ 4,  5,  6,  7],\n",
       "       [ 8,  9, 10, 11]])"
      ]
     },
     "execution_count": 114,
     "metadata": {},
     "output_type": "execute_result"
    }
   ],
   "source": [
    "a2"
   ]
  },
  {
   "cell_type": "code",
   "execution_count": 111,
   "id": "189cf5b5-77af-46a6-ba08-a04c2703ed91",
   "metadata": {},
   "outputs": [
    {
     "data": {
      "text/plain": [
       "array([[ 5,  6],\n",
       "       [ 9, 10]])"
      ]
     },
     "execution_count": 111,
     "metadata": {},
     "output_type": "execute_result"
    }
   ],
   "source": [
    "a2[1:,1:3]"
   ]
  },
  {
   "cell_type": "code",
   "execution_count": 115,
   "id": "7357e666-3972-4ff1-8e14-755b344325bb",
   "metadata": {},
   "outputs": [
    {
     "data": {
      "text/plain": [
       "array([[ 0,  3],\n",
       "       [ 8, 11]])"
      ]
     },
     "execution_count": 115,
     "metadata": {},
     "output_type": "execute_result"
    }
   ],
   "source": [
    "a2[::2,::3]"
   ]
  },
  {
   "cell_type": "code",
   "execution_count": 116,
   "id": "8684edbe-f789-4646-88fa-caf0a39a3d9d",
   "metadata": {},
   "outputs": [
    {
     "data": {
      "text/plain": [
       "array([[ 1,  3],\n",
       "       [ 9, 11]])"
      ]
     },
     "execution_count": 116,
     "metadata": {},
     "output_type": "execute_result"
    }
   ],
   "source": [
    "a2[::2,1::2]"
   ]
  },
  {
   "cell_type": "code",
   "execution_count": 118,
   "id": "9cbdf17f-8816-4fa0-897a-0338b01cd100",
   "metadata": {},
   "outputs": [
    {
     "data": {
      "text/plain": [
       "array([4, 7])"
      ]
     },
     "execution_count": 118,
     "metadata": {},
     "output_type": "execute_result"
    }
   ],
   "source": [
    "a2[1,::3]"
   ]
  },
  {
   "cell_type": "code",
   "execution_count": 119,
   "id": "0b30fca7-7667-471b-9280-3aee39d63303",
   "metadata": {},
   "outputs": [
    {
     "data": {
      "text/plain": [
       "array([[1, 2, 3],\n",
       "       [5, 6, 7]])"
      ]
     },
     "execution_count": 119,
     "metadata": {},
     "output_type": "execute_result"
    }
   ],
   "source": [
    "a2[:2,1:]"
   ]
  },
  {
   "cell_type": "markdown",
   "id": "9b6c3dd4-bb0a-4440-ac38-d99fe0a38979",
   "metadata": {},
   "source": [
    "## 3D"
   ]
  },
  {
   "cell_type": "code",
   "execution_count": 120,
   "id": "675481a2-bcb1-4d91-85b4-6607a30fde32",
   "metadata": {},
   "outputs": [
    {
     "data": {
      "text/plain": [
       "array([[[ 0,  1,  2],\n",
       "        [ 3,  4,  5],\n",
       "        [ 6,  7,  8]],\n",
       "\n",
       "       [[ 9, 10, 11],\n",
       "        [12, 13, 14],\n",
       "        [15, 16, 17]],\n",
       "\n",
       "       [[18, 19, 20],\n",
       "        [21, 22, 23],\n",
       "        [24, 25, 26]]])"
      ]
     },
     "execution_count": 120,
     "metadata": {},
     "output_type": "execute_result"
    }
   ],
   "source": [
    "a3 = np.arange(27).reshape(3,3,3)\n",
    "a3"
   ]
  },
  {
   "cell_type": "code",
   "execution_count": 122,
   "id": "c3aee6c5-fb2f-4d24-8b60-92ac001fc1ee",
   "metadata": {},
   "outputs": [
    {
     "data": {
      "text/plain": [
       "array([[ 9, 10, 11],\n",
       "       [12, 13, 14],\n",
       "       [15, 16, 17]])"
      ]
     },
     "execution_count": 122,
     "metadata": {},
     "output_type": "execute_result"
    }
   ],
   "source": [
    "# Access 2nd 2D Array\n",
    "a3[1]"
   ]
  },
  {
   "cell_type": "code",
   "execution_count": 123,
   "id": "7ef1ce63-d3e5-4097-b74d-7fa911cc52a3",
   "metadata": {},
   "outputs": [
    {
     "data": {
      "text/plain": [
       "array([[[ 0,  1,  2],\n",
       "        [ 3,  4,  5],\n",
       "        [ 6,  7,  8]],\n",
       "\n",
       "       [[18, 19, 20],\n",
       "        [21, 22, 23],\n",
       "        [24, 25, 26]]])"
      ]
     },
     "execution_count": 123,
     "metadata": {},
     "output_type": "execute_result"
    }
   ],
   "source": [
    "# access 1st and last 2D array \n",
    "a3[::2]"
   ]
  },
  {
   "cell_type": "code",
   "execution_count": 124,
   "id": "7bf1d153-db13-4f30-a1a3-a0b82c1c3729",
   "metadata": {},
   "outputs": [
    {
     "data": {
      "text/plain": [
       "array([3, 4, 5])"
      ]
     },
     "execution_count": 124,
     "metadata": {},
     "output_type": "execute_result"
    }
   ],
   "source": [
    "# access 2nd row of 1st 2D array \n",
    "a3[0,1]"
   ]
  },
  {
   "cell_type": "code",
   "execution_count": 125,
   "id": "7321be5d-52ba-4f7e-9e7f-d3dca6b4a01c",
   "metadata": {},
   "outputs": [
    {
     "data": {
      "text/plain": [
       "array([10, 13, 16])"
      ]
     },
     "execution_count": 125,
     "metadata": {},
     "output_type": "execute_result"
    }
   ],
   "source": [
    "a3[1,:,1]"
   ]
  },
  {
   "cell_type": "code",
   "execution_count": 127,
   "id": "b9f76044-d1dc-4698-80ab-c355f79ce86b",
   "metadata": {},
   "outputs": [
    {
     "data": {
      "text/plain": [
       "array([[22, 23],\n",
       "       [25, 26]])"
      ]
     },
     "execution_count": 127,
     "metadata": {},
     "output_type": "execute_result"
    }
   ],
   "source": [
    "# [[22,23],\n",
    "#  [25,26]]\n",
    "a3[-1,1:,1:]"
   ]
  },
  {
   "cell_type": "code",
   "execution_count": 129,
   "id": "f0638add-334a-4b09-88ce-517a357fa422",
   "metadata": {},
   "outputs": [
    {
     "data": {
      "text/plain": [
       "array([[ 0,  2],\n",
       "       [18, 20]])"
      ]
     },
     "execution_count": 129,
     "metadata": {},
     "output_type": "execute_result"
    }
   ],
   "source": [
    "# [[0,2],\n",
    "#  [18,20]]\n",
    "a3[::2,0,::2]"
   ]
  },
  {
   "cell_type": "markdown",
   "id": "1c1dffc3-2643-4518-82df-0fa6b46cd8ab",
   "metadata": {
    "jp-MarkdownHeadingCollapsed": true
   },
   "source": [
    "# Iterating"
   ]
  },
  {
   "cell_type": "markdown",
   "id": "e0f98fef-3ad4-449b-b834-4d3310375b52",
   "metadata": {
    "jp-MarkdownHeadingCollapsed": true
   },
   "source": [
    "## 1D"
   ]
  },
  {
   "cell_type": "code",
   "execution_count": 2,
   "id": "be3e53fa-fdb1-4c26-ac5b-c8a605016ec1",
   "metadata": {},
   "outputs": [
    {
     "data": {
      "text/plain": [
       "array([0, 1, 2, 3, 4, 5, 6, 7, 8, 9])"
      ]
     },
     "execution_count": 2,
     "metadata": {},
     "output_type": "execute_result"
    }
   ],
   "source": [
    "a1 = np.arange(10)\n",
    "a1"
   ]
  },
  {
   "cell_type": "code",
   "execution_count": 4,
   "id": "d3a60d2d-d942-4fee-8b04-c71250a13477",
   "metadata": {},
   "outputs": [
    {
     "name": "stdout",
     "output_type": "stream",
     "text": [
      "0 1 2 3 4 5 6 7 8 9 "
     ]
    }
   ],
   "source": [
    "for i in a1: print(i,end=' ')"
   ]
  },
  {
   "cell_type": "markdown",
   "id": "0242d7ad-85e8-4624-8c60-65a06fe44358",
   "metadata": {
    "jp-MarkdownHeadingCollapsed": true
   },
   "source": [
    "## nditer() --> 2D, 3D, ..., nD"
   ]
  },
  {
   "cell_type": "code",
   "execution_count": 5,
   "id": "b5fc28a0-d9f0-45e6-b864-102396b80cb9",
   "metadata": {},
   "outputs": [
    {
     "data": {
      "text/plain": [
       "array([[ 0,  1,  2,  3],\n",
       "       [ 4,  5,  6,  7],\n",
       "       [ 8,  9, 10, 11]])"
      ]
     },
     "execution_count": 5,
     "metadata": {},
     "output_type": "execute_result"
    }
   ],
   "source": [
    "a2 = np.arange(12).reshape(3,4)\n",
    "a2"
   ]
  },
  {
   "cell_type": "code",
   "execution_count": 6,
   "id": "1c2ba1cc-7e16-455f-9cc3-a61de44629d0",
   "metadata": {},
   "outputs": [
    {
     "name": "stdout",
     "output_type": "stream",
     "text": [
      "0 1 2 3 4 5 6 7 8 9 10 11 "
     ]
    }
   ],
   "source": [
    "for i in np.nditer(a2): print(i,end=' ')"
   ]
  },
  {
   "cell_type": "code",
   "execution_count": 7,
   "id": "895e563d-c185-4318-bfda-d872fd3e94f8",
   "metadata": {},
   "outputs": [
    {
     "data": {
      "text/plain": [
       "array([[[ 0,  1,  2],\n",
       "        [ 3,  4,  5],\n",
       "        [ 6,  7,  8]],\n",
       "\n",
       "       [[ 9, 10, 11],\n",
       "        [12, 13, 14],\n",
       "        [15, 16, 17]],\n",
       "\n",
       "       [[18, 19, 20],\n",
       "        [21, 22, 23],\n",
       "        [24, 25, 26]]])"
      ]
     },
     "execution_count": 7,
     "metadata": {},
     "output_type": "execute_result"
    }
   ],
   "source": [
    "a3 = np.arange(27).reshape(3,3,3)\n",
    "a3"
   ]
  },
  {
   "cell_type": "code",
   "execution_count": 8,
   "id": "7df81b5d-ccf7-48b0-a33a-cf8b3a92939f",
   "metadata": {},
   "outputs": [
    {
     "name": "stdout",
     "output_type": "stream",
     "text": [
      "0 1 2 3 4 5 6 7 8 9 10 11 12 13 14 15 16 17 18 19 20 21 22 23 24 25 26 "
     ]
    }
   ],
   "source": [
    "for i in np.nditer(a3): print(i,end=' ')"
   ]
  },
  {
   "cell_type": "markdown",
   "id": "8058819f-5112-496e-a28b-2df243c60de8",
   "metadata": {},
   "source": [
    "# Reshaping"
   ]
  },
  {
   "cell_type": "markdown",
   "id": "8191e656-7752-429e-bca4-52a2924b05b8",
   "metadata": {},
   "source": [
    "## reshape()"
   ]
  },
  {
   "cell_type": "code",
   "execution_count": 10,
   "id": "ec2be727-ed26-4674-bfa4-aa623c28e6de",
   "metadata": {},
   "outputs": [],
   "source": [
    "# done with arange()"
   ]
  },
  {
   "cell_type": "markdown",
   "id": "935fd3da-b3e0-4f85-b096-18f77aba3982",
   "metadata": {},
   "source": [
    "## transpose()"
   ]
  },
  {
   "cell_type": "code",
   "execution_count": 11,
   "id": "6b7f4637-afef-4ade-af9a-3eb3f734a25f",
   "metadata": {},
   "outputs": [
    {
     "data": {
      "text/plain": [
       "array([[ 0,  1,  2,  3],\n",
       "       [ 4,  5,  6,  7],\n",
       "       [ 8,  9, 10, 11]])"
      ]
     },
     "execution_count": 11,
     "metadata": {},
     "output_type": "execute_result"
    }
   ],
   "source": [
    "a2"
   ]
  },
  {
   "cell_type": "code",
   "execution_count": 12,
   "id": "34b4c401-ca40-43dc-8d5c-6c954ae7d9e3",
   "metadata": {},
   "outputs": [
    {
     "data": {
      "text/plain": [
       "array([[ 0,  4,  8],\n",
       "       [ 1,  5,  9],\n",
       "       [ 2,  6, 10],\n",
       "       [ 3,  7, 11]])"
      ]
     },
     "execution_count": 12,
     "metadata": {},
     "output_type": "execute_result"
    }
   ],
   "source": [
    "np.transpose(a2)"
   ]
  },
  {
   "cell_type": "code",
   "execution_count": 13,
   "id": "ca506992-5f95-47b1-b9f5-a32b5c0e3eaf",
   "metadata": {},
   "outputs": [
    {
     "data": {
      "text/plain": [
       "array([[[ 0,  1,  2],\n",
       "        [ 3,  4,  5],\n",
       "        [ 6,  7,  8]],\n",
       "\n",
       "       [[ 9, 10, 11],\n",
       "        [12, 13, 14],\n",
       "        [15, 16, 17]],\n",
       "\n",
       "       [[18, 19, 20],\n",
       "        [21, 22, 23],\n",
       "        [24, 25, 26]]])"
      ]
     },
     "execution_count": 13,
     "metadata": {},
     "output_type": "execute_result"
    }
   ],
   "source": [
    "a3"
   ]
  },
  {
   "cell_type": "code",
   "execution_count": 14,
   "id": "322632d2-badd-4b7c-80c2-fe19d3296c21",
   "metadata": {},
   "outputs": [
    {
     "data": {
      "text/plain": [
       "array([[[ 0,  9, 18],\n",
       "        [ 3, 12, 21],\n",
       "        [ 6, 15, 24]],\n",
       "\n",
       "       [[ 1, 10, 19],\n",
       "        [ 4, 13, 22],\n",
       "        [ 7, 16, 25]],\n",
       "\n",
       "       [[ 2, 11, 20],\n",
       "        [ 5, 14, 23],\n",
       "        [ 8, 17, 26]]])"
      ]
     },
     "execution_count": 14,
     "metadata": {},
     "output_type": "execute_result"
    }
   ],
   "source": [
    "np.transpose(a3)"
   ]
  },
  {
   "cell_type": "markdown",
   "id": "f181316f-3831-46fc-89bb-5ef8d33271bb",
   "metadata": {},
   "source": [
    "## ravel()"
   ]
  },
  {
   "cell_type": "code",
   "execution_count": 15,
   "id": "86e681cf-1b4b-4b48-b527-91e4d194ba2e",
   "metadata": {},
   "outputs": [
    {
     "data": {
      "text/plain": [
       "array([[ 0,  1,  2,  3],\n",
       "       [ 4,  5,  6,  7],\n",
       "       [ 8,  9, 10, 11]])"
      ]
     },
     "execution_count": 15,
     "metadata": {},
     "output_type": "execute_result"
    }
   ],
   "source": [
    "a2"
   ]
  },
  {
   "cell_type": "code",
   "execution_count": 16,
   "id": "79797563-49b5-4fa3-aa45-1c8b88bcf4b8",
   "metadata": {},
   "outputs": [
    {
     "data": {
      "text/plain": [
       "array([ 0,  1,  2,  3,  4,  5,  6,  7,  8,  9, 10, 11])"
      ]
     },
     "execution_count": 16,
     "metadata": {},
     "output_type": "execute_result"
    }
   ],
   "source": [
    "np.ravel(a2)"
   ]
  },
  {
   "cell_type": "code",
   "execution_count": 17,
   "id": "41265440-d10e-474a-8ad7-33da3362eb14",
   "metadata": {},
   "outputs": [
    {
     "data": {
      "text/plain": [
       "array([[[ 0,  1,  2],\n",
       "        [ 3,  4,  5],\n",
       "        [ 6,  7,  8]],\n",
       "\n",
       "       [[ 9, 10, 11],\n",
       "        [12, 13, 14],\n",
       "        [15, 16, 17]],\n",
       "\n",
       "       [[18, 19, 20],\n",
       "        [21, 22, 23],\n",
       "        [24, 25, 26]]])"
      ]
     },
     "execution_count": 17,
     "metadata": {},
     "output_type": "execute_result"
    }
   ],
   "source": [
    "a3"
   ]
  },
  {
   "cell_type": "code",
   "execution_count": 18,
   "id": "991657a8-e168-4865-aa98-916a1189984d",
   "metadata": {},
   "outputs": [
    {
     "data": {
      "text/plain": [
       "array([ 0,  1,  2,  3,  4,  5,  6,  7,  8,  9, 10, 11, 12, 13, 14, 15, 16,\n",
       "       17, 18, 19, 20, 21, 22, 23, 24, 25, 26])"
      ]
     },
     "execution_count": 18,
     "metadata": {},
     "output_type": "execute_result"
    }
   ],
   "source": [
    "np.ravel(a3)"
   ]
  },
  {
   "cell_type": "markdown",
   "id": "fb2e2bf5-07a1-45a2-ae93-1bdc2ae7f22c",
   "metadata": {},
   "source": [
    "# Stacking"
   ]
  },
  {
   "cell_type": "markdown",
   "id": "d5d4cd87-2f91-4370-bc13-cb8d5d907abe",
   "metadata": {
    "jp-MarkdownHeadingCollapsed": true
   },
   "source": [
    "## hstack() --> Horizontal Stacking"
   ]
  },
  {
   "cell_type": "code",
   "execution_count": 19,
   "id": "c5083940-ad65-4067-8599-9e3e0a546c7c",
   "metadata": {},
   "outputs": [
    {
     "data": {
      "text/plain": [
       "array([[ 0,  1,  2,  3],\n",
       "       [ 4,  5,  6,  7],\n",
       "       [ 8,  9, 10, 11]])"
      ]
     },
     "execution_count": 19,
     "metadata": {},
     "output_type": "execute_result"
    }
   ],
   "source": [
    "a4 = np.arange(12).reshape(3,4)\n",
    "a4"
   ]
  },
  {
   "cell_type": "code",
   "execution_count": 20,
   "id": "7b850c89-c6b5-4f30-a6de-a6906db9cddb",
   "metadata": {},
   "outputs": [
    {
     "data": {
      "text/plain": [
       "array([[12, 13, 14, 15],\n",
       "       [16, 17, 18, 19],\n",
       "       [20, 21, 22, 23]])"
      ]
     },
     "execution_count": 20,
     "metadata": {},
     "output_type": "execute_result"
    }
   ],
   "source": [
    "a5 = np.arange(12,24).reshape(3,4)\n",
    "a5"
   ]
  },
  {
   "cell_type": "code",
   "execution_count": 22,
   "id": "74d2c596-2128-44e4-8732-53909b66880c",
   "metadata": {},
   "outputs": [
    {
     "data": {
      "text/plain": [
       "array([[ 0,  1,  2,  3, 12, 13, 14, 15],\n",
       "       [ 4,  5,  6,  7, 16, 17, 18, 19],\n",
       "       [ 8,  9, 10, 11, 20, 21, 22, 23]])"
      ]
     },
     "execution_count": 22,
     "metadata": {},
     "output_type": "execute_result"
    }
   ],
   "source": [
    "np.hstack((a4,a5))"
   ]
  },
  {
   "cell_type": "code",
   "execution_count": 23,
   "id": "b01baaf3-7e3e-4789-96e4-20b5b3efcd9a",
   "metadata": {},
   "outputs": [
    {
     "data": {
      "text/plain": [
       "array([[ 0,  1,  2,  3, 12, 13, 14, 15,  0,  1,  2,  3],\n",
       "       [ 4,  5,  6,  7, 16, 17, 18, 19,  4,  5,  6,  7],\n",
       "       [ 8,  9, 10, 11, 20, 21, 22, 23,  8,  9, 10, 11]])"
      ]
     },
     "execution_count": 23,
     "metadata": {},
     "output_type": "execute_result"
    }
   ],
   "source": [
    "np.hstack((a4,a5,a4))"
   ]
  },
  {
   "cell_type": "markdown",
   "id": "ef794c67-2dd5-4da0-8eba-c837257e4cbb",
   "metadata": {
    "jp-MarkdownHeadingCollapsed": true
   },
   "source": [
    "## vstack() --> Vertical Stacking"
   ]
  },
  {
   "cell_type": "code",
   "execution_count": 24,
   "id": "82a3f3bf-2ddf-4f70-862b-c7ae669bb550",
   "metadata": {},
   "outputs": [
    {
     "data": {
      "text/plain": [
       "array([[ 0,  1,  2,  3],\n",
       "       [ 4,  5,  6,  7],\n",
       "       [ 8,  9, 10, 11],\n",
       "       [12, 13, 14, 15],\n",
       "       [16, 17, 18, 19],\n",
       "       [20, 21, 22, 23]])"
      ]
     },
     "execution_count": 24,
     "metadata": {},
     "output_type": "execute_result"
    }
   ],
   "source": [
    "np.vstack((a4,a5))"
   ]
  },
  {
   "cell_type": "code",
   "execution_count": 25,
   "id": "8341e683-a912-4382-8b2f-712f351f3caf",
   "metadata": {},
   "outputs": [
    {
     "data": {
      "text/plain": [
       "array([[ 0,  1,  2,  3],\n",
       "       [ 4,  5,  6,  7],\n",
       "       [ 8,  9, 10, 11],\n",
       "       [12, 13, 14, 15],\n",
       "       [16, 17, 18, 19],\n",
       "       [20, 21, 22, 23],\n",
       "       [ 0,  1,  2,  3],\n",
       "       [ 4,  5,  6,  7],\n",
       "       [ 8,  9, 10, 11],\n",
       "       [12, 13, 14, 15],\n",
       "       [16, 17, 18, 19],\n",
       "       [20, 21, 22, 23]])"
      ]
     },
     "execution_count": 25,
     "metadata": {},
     "output_type": "execute_result"
    }
   ],
   "source": [
    "np.vstack((a4,a5,a4,a5))"
   ]
  },
  {
   "cell_type": "markdown",
   "id": "7929cfd8-f5a9-47a3-9890-5de5046473ab",
   "metadata": {},
   "source": [
    "# Splitting"
   ]
  },
  {
   "cell_type": "markdown",
   "id": "fbe4b600-f6f0-4f4b-96bc-3cb50547396c",
   "metadata": {
    "jp-MarkdownHeadingCollapsed": true
   },
   "source": [
    "## hsplit() --> Horizontal Splitting "
   ]
  },
  {
   "cell_type": "code",
   "execution_count": 29,
   "id": "c30b327f-9a61-4abc-98f1-a4b2753bea6b",
   "metadata": {},
   "outputs": [
    {
     "data": {
      "text/plain": [
       "array([[ 0,  1,  2,  3],\n",
       "       [ 4,  5,  6,  7],\n",
       "       [ 8,  9, 10, 11]])"
      ]
     },
     "execution_count": 29,
     "metadata": {},
     "output_type": "execute_result"
    }
   ],
   "source": [
    "a4"
   ]
  },
  {
   "cell_type": "code",
   "execution_count": 30,
   "id": "b0eb682a-f5e8-41cb-8241-ff028c4745b9",
   "metadata": {},
   "outputs": [
    {
     "data": {
      "text/plain": [
       "[array([[0, 1],\n",
       "        [4, 5],\n",
       "        [8, 9]]),\n",
       " array([[ 2,  3],\n",
       "        [ 6,  7],\n",
       "        [10, 11]])]"
      ]
     },
     "execution_count": 30,
     "metadata": {},
     "output_type": "execute_result"
    }
   ],
   "source": [
    "np.hsplit(a4,2)"
   ]
  },
  {
   "cell_type": "code",
   "execution_count": 31,
   "id": "6509eb53-3eba-4ee4-ba91-a56cb5da35b6",
   "metadata": {},
   "outputs": [
    {
     "data": {
      "text/plain": [
       "[array([[0],\n",
       "        [4],\n",
       "        [8]]),\n",
       " array([[1],\n",
       "        [5],\n",
       "        [9]]),\n",
       " array([[ 2],\n",
       "        [ 6],\n",
       "        [10]]),\n",
       " array([[ 3],\n",
       "        [ 7],\n",
       "        [11]])]"
      ]
     },
     "execution_count": 31,
     "metadata": {},
     "output_type": "execute_result"
    }
   ],
   "source": [
    "np.hsplit(a4,4)"
   ]
  },
  {
   "cell_type": "code",
   "execution_count": 33,
   "id": "b27572c8-8333-4856-878d-1526d2d98563",
   "metadata": {},
   "outputs": [],
   "source": [
    "# np.hsplit(a4,3) \n",
    "# ValueError: array split does not result in an equal division "
   ]
  },
  {
   "cell_type": "markdown",
   "id": "05a1d09f-d4ca-4072-8d65-4e9cf2b4e301",
   "metadata": {},
   "source": [
    "## vsplit() --> Vertical Splitting "
   ]
  },
  {
   "cell_type": "code",
   "execution_count": 34,
   "id": "32b59c64-1c46-4abf-b28a-01f3f8e039db",
   "metadata": {},
   "outputs": [
    {
     "data": {
      "text/plain": [
       "array([[ 0,  1,  2,  3],\n",
       "       [ 4,  5,  6,  7],\n",
       "       [ 8,  9, 10, 11]])"
      ]
     },
     "execution_count": 34,
     "metadata": {},
     "output_type": "execute_result"
    }
   ],
   "source": [
    "a4"
   ]
  },
  {
   "cell_type": "code",
   "execution_count": 35,
   "id": "025af2a1-db75-4d64-b1c6-961e5c19549d",
   "metadata": {},
   "outputs": [
    {
     "data": {
      "text/plain": [
       "[array([[0, 1, 2, 3]]), array([[4, 5, 6, 7]]), array([[ 8,  9, 10, 11]])]"
      ]
     },
     "execution_count": 35,
     "metadata": {},
     "output_type": "execute_result"
    }
   ],
   "source": [
    "np.vsplit(a4,3)"
   ]
  },
  {
   "cell_type": "code",
   "execution_count": 37,
   "id": "3bc1f0d5-aa3b-4fac-99b7-fc5baebf11f1",
   "metadata": {},
   "outputs": [],
   "source": [
    "# np.vsplit(a4,2) \n",
    "# ValueError: array split does not result in an equal division "
   ]
  },
  {
   "cell_type": "code",
   "execution_count": null,
   "id": "c2e4ac9f-f42a-4326-bc99-29fb02116b21",
   "metadata": {},
   "outputs": [],
   "source": []
  }
 ],
 "metadata": {
  "kernelspec": {
   "display_name": "Python 3 (ipykernel)",
   "language": "python",
   "name": "python3"
  },
  "language_info": {
   "codemirror_mode": {
    "name": "ipython",
    "version": 3
   },
   "file_extension": ".py",
   "mimetype": "text/x-python",
   "name": "python",
   "nbconvert_exporter": "python",
   "pygments_lexer": "ipython3",
   "version": "3.12.2"
  }
 },
 "nbformat": 4,
 "nbformat_minor": 5
}
