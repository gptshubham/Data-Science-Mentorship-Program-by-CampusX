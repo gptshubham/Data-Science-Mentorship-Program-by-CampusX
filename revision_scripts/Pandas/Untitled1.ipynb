{
 "cells": [
  {
   "cell_type": "code",
   "execution_count": 2,
   "id": "26681282-3425-4872-a330-8d1d627a2758",
   "metadata": {},
   "outputs": [],
   "source": [
    "import pandas as pd \n",
    "import numpy as np "
   ]
  },
  {
   "cell_type": "markdown",
   "id": "33d6de05-bdfb-4362-a9fd-35595cf0f8da",
   "metadata": {},
   "source": [
    "# Series from List"
   ]
  },
  {
   "cell_type": "code",
   "execution_count": 12,
   "id": "fbc69607-fb58-47ff-af8d-2a04d60833cd",
   "metadata": {},
   "outputs": [
    {
     "data": {
      "text/plain": [
       "0               mathematics\n",
       "1                statistics\n",
       "2                   english\n",
       "3    computational thinking\n",
       "4                    python\n",
       "dtype: object"
      ]
     },
     "execution_count": 12,
     "metadata": {},
     "output_type": "execute_result"
    }
   ],
   "source": [
    "subjects = ['mathematics', 'statistics', 'english','computational thinking' ,'python']  #dtype : str\n",
    "subs = pd.Series(subjects)\n",
    "subs"
   ]
  },
  {
   "cell_type": "code",
   "execution_count": 13,
   "id": "f8149328-760e-4558-a0fa-0ca6d91e7cba",
   "metadata": {},
   "outputs": [
    {
     "data": {
      "text/plain": [
       "mathematics                81\n",
       "statistics                 80\n",
       "english                    98\n",
       "computational thinking     91\n",
       "python                    100\n",
       "dtype: int64"
      ]
     },
     "execution_count": 13,
     "metadata": {},
     "output_type": "execute_result"
    }
   ],
   "source": [
    "marks = [81,80,98,91,100] #dtype : int\n",
    "marks_series = pd.Series(marks,index=subjects)\n",
    "marks_series "
   ]
  },
  {
   "cell_type": "code",
   "execution_count": 15,
   "id": "a619af7d-5782-45f7-9cf4-b3de3fd77dfd",
   "metadata": {},
   "outputs": [
    {
     "data": {
      "text/plain": [
       "mathematics                81\n",
       "statistics                 80\n",
       "english                    98\n",
       "computational thinking     91\n",
       "python                    100\n",
       "Name: marks, dtype: int64"
      ]
     },
     "execution_count": 15,
     "metadata": {},
     "output_type": "execute_result"
    }
   ],
   "source": [
    "subs_marks_series = pd.Series(marks,index=subjects,name='marks') \n",
    "subs_marks_series "
   ]
  },
  {
   "cell_type": "markdown",
   "id": "f11dd8c6-ab45-4550-bffc-803c4147a40c",
   "metadata": {},
   "source": [
    "# Series from Dictionary"
   ]
  },
  {
   "cell_type": "code",
   "execution_count": 16,
   "id": "a3ce0d97-fd44-4209-a3b3-2dc33f786009",
   "metadata": {},
   "outputs": [
    {
     "data": {
      "text/plain": [
       "mathematics                81\n",
       "statistics                 80\n",
       "english                    98\n",
       "computational thinking     91\n",
       "python                    100\n",
       "Name: marks, dtype: int64"
      ]
     },
     "execution_count": 16,
     "metadata": {},
     "output_type": "execute_result"
    }
   ],
   "source": [
    "marks_dict = {\n",
    "    'mathematics' : 81,\n",
    "    'statistics' : 80, \n",
    "    'english' : 98, \n",
    "    'computational thinking' : 91, \n",
    "    'python' : 100\n",
    "}\n",
    "\n",
    "marks_series = pd.Series(marks_dict,name='marks') \n",
    "marks_series"
   ]
  },
  {
   "cell_type": "markdown",
   "id": "2c7a599a-1e07-4084-832a-de6478e3053e",
   "metadata": {},
   "source": [
    "# Series Attributes"
   ]
  },
  {
   "cell_type": "code",
   "execution_count": 17,
   "id": "ee8b028b-1ad5-4021-b795-6ab22d061124",
   "metadata": {},
   "outputs": [
    {
     "data": {
      "text/plain": [
       "dtype('int64')"
      ]
     },
     "execution_count": 17,
     "metadata": {},
     "output_type": "execute_result"
    }
   ],
   "source": [
    "# dtype\n",
    "print(marks_series.dtype) "
   ]
  },
  {
   "cell_type": "code",
   "execution_count": 18,
   "id": "34677cea-ebe4-493e-b2be-4f71c2d7ef7c",
   "metadata": {},
   "outputs": [
    {
     "name": "stdout",
     "output_type": "stream",
     "text": [
      "marks\n"
     ]
    }
   ],
   "source": [
    "print(marks_series.name)"
   ]
  },
  {
   "cell_type": "code",
   "execution_count": 20,
   "id": "13105026-e2d1-4eb5-9365-f0c33352250c",
   "metadata": {},
   "outputs": [
    {
     "data": {
      "text/plain": [
       "Index(['mathematics', 'statistics', 'english', 'computational thinking',\n",
       "       'python'],\n",
       "      dtype='object')"
      ]
     },
     "execution_count": 20,
     "metadata": {},
     "output_type": "execute_result"
    }
   ],
   "source": [
    "marks_series.index"
   ]
  },
  {
   "cell_type": "code",
   "execution_count": 21,
   "id": "6502f122-33ff-4447-a27a-37b008881e2f",
   "metadata": {},
   "outputs": [
    {
     "data": {
      "text/plain": [
       "array([ 81,  80,  98,  91, 100], dtype=int64)"
      ]
     },
     "execution_count": 21,
     "metadata": {},
     "output_type": "execute_result"
    }
   ],
   "source": [
    "marks_series.values"
   ]
  },
  {
   "cell_type": "code",
   "execution_count": 22,
   "id": "24650a57-6888-4b40-9cbf-237f7ce15732",
   "metadata": {},
   "outputs": [
    {
     "data": {
      "text/plain": [
       "5"
      ]
     },
     "execution_count": 22,
     "metadata": {},
     "output_type": "execute_result"
    }
   ],
   "source": [
    "marks_series.size"
   ]
  },
  {
   "cell_type": "code",
   "execution_count": 23,
   "id": "41c1008b-128d-43b2-9d5d-820d354c5b3f",
   "metadata": {},
   "outputs": [
    {
     "data": {
      "text/plain": [
       "True"
      ]
     },
     "execution_count": 23,
     "metadata": {},
     "output_type": "execute_result"
    }
   ],
   "source": [
    "marks_series.is_unique"
   ]
  },
  {
   "cell_type": "markdown",
   "id": "45358ad4-c905-474e-93cd-e9818e5a1986",
   "metadata": {},
   "source": [
    "# Series using read_csv"
   ]
  },
  {
   "cell_type": "code",
   "execution_count": 28,
   "id": "93aa77d7-d159-48d3-b3e3-8b1175f5efdf",
   "metadata": {},
   "outputs": [
    {
     "data": {
      "text/plain": [
       "match_no\n",
       "1       1\n",
       "2      23\n",
       "3      13\n",
       "4      12\n",
       "5       1\n",
       "       ..\n",
       "211     0\n",
       "212    20\n",
       "213    73\n",
       "214    25\n",
       "215     7\n",
       "Name: runs, Length: 215, dtype: int64"
      ]
     },
     "execution_count": 28,
     "metadata": {},
     "output_type": "execute_result"
    }
   ],
   "source": [
    "kohli_ipl_runs = pd.read_csv('/Shubham/DSMP-by-CampusX/Classwork-Code/kohli_ipl.csv',index_col='match_no').squeeze(axis='columns')\n",
    "kohli_ipl_runs"
   ]
  },
  {
   "cell_type": "code",
   "execution_count": null,
   "id": "1f7e4e13-46ea-493e-bef2-96cfec4dc26e",
   "metadata": {},
   "outputs": [],
   "source": []
  }
 ],
 "metadata": {
  "kernelspec": {
   "display_name": "Python 3 (ipykernel)",
   "language": "python",
   "name": "python3"
  },
  "language_info": {
   "codemirror_mode": {
    "name": "ipython",
    "version": 3
   },
   "file_extension": ".py",
   "mimetype": "text/x-python",
   "name": "python",
   "nbconvert_exporter": "python",
   "pygments_lexer": "ipython3",
   "version": "3.12.2"
  }
 },
 "nbformat": 4,
 "nbformat_minor": 5
}
